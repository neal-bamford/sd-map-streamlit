{
 "cells": [
  {
   "cell_type": "markdown",
   "id": "30125aaf-aec9-41f4-bed0-3888c82df28e",
   "metadata": {},
   "source": [
    "# General Report"
   ]
  },
  {
   "cell_type": "markdown",
   "id": "8a838826-eb60-4647-b1f7-f73e22eb640d",
   "metadata": {
    "tags": []
   },
   "source": [
    "## Setup"
   ]
  },
  {
   "cell_type": "code",
   "execution_count": 45,
   "id": "90994bee-d612-4e81-96a5-e7b03640db5c",
   "metadata": {},
   "outputs": [],
   "source": [
    "from matplotlib.colors import ListedColormap \n",
    "from matplotlib.ticker import (MultipleLocator, FormatStrFormatter, AutoMinorLocator)\n",
    "from lib import formatting as sd_formatting\n",
    "import pyodbc \n",
    "import toml\n",
    "import config_logging\n",
    "import logging\n",
    "import urllib.request\n",
    "import pandas as pd\n",
    "import colorcet as cc\n",
    "import numpy as np\n",
    "\n",
    "log = logging.getLogger(__name__)\n",
    "external_ip = urllib.request.urlopen('https://ident.me').read().decode('utf8')\n",
    "\n",
    "properties = toml.load(\"./.streamlit/secrets.toml\")\n",
    "\n",
    "database_props = properties[properties[\"database\"][\"flavour\"]] \n"
   ]
  },
  {
   "cell_type": "markdown",
   "id": "5c5b8a8c-7efe-4835-9cf2-3c7e1d4c2133",
   "metadata": {
    "tags": []
   },
   "source": [
    "## Reload"
   ]
  },
  {
   "cell_type": "code",
   "execution_count": 46,
   "id": "1c779cd4-8400-47aa-90e5-15bb24457654",
   "metadata": {},
   "outputs": [
    {
     "name": "stdout",
     "output_type": "stream",
     "text": [
      "The autoreload extension is already loaded. To reload it, use:\n",
      "  %reload_ext autoreload\n",
      "2022-09-03 16:52:12,801 [INFO] lib.db_tools: DATABASE CONNECTIVITY\n"
     ]
    }
   ],
   "source": [
    "### Set up\n",
    "\n",
    "%load_ext autoreload\n",
    "%autoreload 3\n",
    "\n",
    "from data.daos import dao_facade_local as dao_fac\n",
    "from lib import db_tools as db_tools\n",
    "from lib import masters_data_analytics_lib as mlib\n",
    "from lib import stats as stats\n",
    "\n",
    "db_conn = None\n",
    "db_conn = db_tools.get_db_conn(database_props)\n"
   ]
  },
  {
   "cell_type": "markdown",
   "id": "a871c4b6-9391-4b4a-996c-18efa1d3c06d",
   "metadata": {},
   "source": [
    "## Search Criteria"
   ]
  },
  {
   "cell_type": "code",
   "execution_count": 47,
   "id": "9537005d-11fb-492b-b2cf-1bf88aa88414",
   "metadata": {},
   "outputs": [],
   "source": [
    "city      = \"London\"\n",
    "post_code = \"\"\n",
    "\n",
    "borough   = \"Islington\"\n",
    "ward_name = \"Holloway\"\n",
    "\n",
    "## 27% Black African Carribean at Borough Level\n",
    "borough   = \"Lewisham\"\n",
    "ward_name = \"Bellingham\"\n",
    "\n",
    "borough   = \"Islington\"\n",
    "ward_name = \"Holloway\"\n",
    "\n",
    "## 27% Black African Carribean at Borough Level\n",
    "borough   = \"Lewisham\"\n",
    "ward_name = \"Bellingham\"\n",
    "\n",
    "# borough   = \"Barking and Dagenham\"\n",
    "# ward_name = \"Abbey\"\n",
    "\n",
    "## FEMALE\n",
    "### HIGH RATION\n",
    "# borough   = \"Croydon\"\n",
    "# ward_name = \"New Addington North\"\n",
    "\n",
    "# borough   = \"Merton\"\n",
    "# ward_name = \"Dundonald\"\n",
    "\n",
    "\n",
    "year_from = 2013\n",
    "year_to   = 2022\n",
    "\n",
    "#post_code = \"SW20 8ED\"\n",
    "\n",
    "search_term = {\n",
    "    \"city\"      : city\n",
    "  , \"borough\"   : borough\n",
    "  , \"ward_name\" : ward_name\n",
    "  , \"post_code\" : post_code\n",
    "  , \"year_from\" : year_from\n",
    "  , \"year_to\"   : year_to\n",
    "}\n"
   ]
  },
  {
   "cell_type": "markdown",
   "id": "3282b35a-8a03-420b-ada6-f249f34000ea",
   "metadata": {},
   "source": [
    "# REPORT GENERATION"
   ]
  },
  {
   "cell_type": "code",
   "execution_count": null,
   "id": "69092078-be49-423f-a1d3-9c646777b604",
   "metadata": {},
   "outputs": [
    {
     "name": "stdout",
     "output_type": "stream",
     "text": [
      "2022-09-03 16:52:14,173 [INFO] lib.db_tools: DATABASE CONNECTIVITY\n",
      "2022-09-03 16:52:14,906 [INFO] lib.db_tools: DATABASE CONNECTIVITY\n",
      "2022-09-03 16:52:14,909 [DEBUG] root: Retrieving population min max year\n",
      "2022-09-03 16:52:14,955 [DEBUG] managers.sections.sd_report_section_02_Population: population orig_year_to    :2022\n",
      "2022-09-03 16:52:14,959 [DEBUG] managers.sections.sd_report_section_02_Population: population search_year_to  :2011\n",
      "2022-09-03 16:52:14,964 [DEBUG] managers.sections.sd_report_section_02_Population: {'year_from': 2011, 'year_to': 2011, 'borough': 'Lewisham', 'ward_name': 'Bellingham'}\n",
      "2022-09-03 16:52:14,972 [DEBUG] root: retrieving london population year\n"
     ]
    },
    {
     "name": "stderr",
     "output_type": "stream",
     "text": [
      "C:\\DISTRIBUTIONS\\Python\\Python3_10_2\\lib\\site-packages\\pandas\\io\\sql.py:761: UserWarning: pandas only support SQLAlchemy connectable(engine/connection) ordatabase string URI or sqlite3 DBAPI2 connectionother DBAPI2 objects are not tested, please consider using SQLAlchemy\n",
      "  warnings.warn(\n",
      "C:\\DISTRIBUTIONS\\Python\\Python3_10_2\\lib\\site-packages\\pandas\\io\\sql.py:761: UserWarning: pandas only support SQLAlchemy connectable(engine/connection) ordatabase string URI or sqlite3 DBAPI2 connectionother DBAPI2 objects are not tested, please consider using SQLAlchemy\n",
      "  warnings.warn(\n"
     ]
    },
    {
     "name": "stdout",
     "output_type": "stream",
     "text": [
      "2022-09-03 16:52:16,891 [DEBUG] managers.sections.sd_report_section_02_Population: min_borough_ward_density_pph:7.766666666666667\n",
      "2022-09-03 16:52:16,894 [DEBUG] managers.sections.sd_report_section_02_Population: max_borough_ward_density_pph:293.08796992481206\n",
      "2022-09-03 16:52:16,898 [DEBUG] managers.sections.sd_report_section_02_Population: [7.766666666666667, 65.83092731829575, 123.89518796992483, 181.95944862155395, 240.02370927318302, inf]\n",
      "2022-09-03 16:52:16,961 [DEBUG] managers.sections.sd_report_section_02_Population: min_borough_density_pph:44.87246023949719\n",
      "2022-09-03 16:52:16,963 [DEBUG] managers.sections.sd_report_section_02_Population: max_borough_density_pph:215.0413051899063\n",
      "2022-09-03 16:52:17,135 [INFO] lib.db_tools: DATABASE CONNECTIVITY\n",
      "2022-09-03 16:52:17,137 [DEBUG] root: Retrieving ethnicity min max year\n",
      "2022-09-03 16:52:17,183 [DEBUG] root: ethnicity_ratio_average_years\n"
     ]
    },
    {
     "name": "stderr",
     "output_type": "stream",
     "text": [
      "C:\\DISTRIBUTIONS\\Python\\Python3_10_2\\lib\\site-packages\\pandas\\io\\sql.py:761: UserWarning: pandas only support SQLAlchemy connectable(engine/connection) ordatabase string URI or sqlite3 DBAPI2 connectionother DBAPI2 objects are not tested, please consider using SQLAlchemy\n",
      "  warnings.warn(\n",
      "C:\\DISTRIBUTIONS\\Python\\Python3_10_2\\lib\\site-packages\\pandas\\io\\sql.py:761: UserWarning: pandas only support SQLAlchemy connectable(engine/connection) ordatabase string URI or sqlite3 DBAPI2 connectionother DBAPI2 objects are not tested, please consider using SQLAlchemy\n",
      "  warnings.warn(\n"
     ]
    },
    {
     "name": "stdout",
     "output_type": "stream",
     "text": [
      "2022-09-03 16:52:18,821 [DEBUG] root: ethnicity_ratio_by_borough_years\n"
     ]
    },
    {
     "name": "stderr",
     "output_type": "stream",
     "text": [
      "C:\\DISTRIBUTIONS\\Python\\Python3_10_2\\lib\\site-packages\\pandas\\io\\sql.py:761: UserWarning: pandas only support SQLAlchemy connectable(engine/connection) ordatabase string URI or sqlite3 DBAPI2 connectionother DBAPI2 objects are not tested, please consider using SQLAlchemy\n",
      "  warnings.warn(\n"
     ]
    },
    {
     "name": "stdout",
     "output_type": "stream",
     "text": [
      "2022-09-03 16:52:19,903 [DEBUG] root: ethnicity_ratio_by_borough_ward_years\n"
     ]
    },
    {
     "name": "stderr",
     "output_type": "stream",
     "text": [
      "C:\\DISTRIBUTIONS\\Python\\Python3_10_2\\lib\\site-packages\\pandas\\io\\sql.py:761: UserWarning: pandas only support SQLAlchemy connectable(engine/connection) ordatabase string URI or sqlite3 DBAPI2 connectionother DBAPI2 objects are not tested, please consider using SQLAlchemy\n",
      "  warnings.warn(\n"
     ]
    },
    {
     "name": "stdout",
     "output_type": "stream",
     "text": [
      "2022-09-03 16:52:20,195 [INFO] lib.db_tools: DATABASE CONNECTIVITY\n",
      "2022-09-03 16:52:20,196 [DEBUG] root: Retrieving general health min max year\n",
      "2022-09-03 16:52:20,239 [DEBUG] managers.sections.sd_report_section_04_General_Health: health orig_year_to    :2022\n",
      "2022-09-03 16:52:20,240 [DEBUG] managers.sections.sd_report_section_04_General_Health: health search_year_to  :2021\n",
      "2022-09-03 16:52:20,242 [DEBUG] root: general_health_ratio_average_years\n"
     ]
    },
    {
     "name": "stderr",
     "output_type": "stream",
     "text": [
      "C:\\DISTRIBUTIONS\\Python\\Python3_10_2\\lib\\site-packages\\pandas\\io\\sql.py:761: UserWarning: pandas only support SQLAlchemy connectable(engine/connection) ordatabase string URI or sqlite3 DBAPI2 connectionother DBAPI2 objects are not tested, please consider using SQLAlchemy\n",
      "  warnings.warn(\n",
      "C:\\DISTRIBUTIONS\\Python\\Python3_10_2\\lib\\site-packages\\pandas\\io\\sql.py:761: UserWarning: pandas only support SQLAlchemy connectable(engine/connection) ordatabase string URI or sqlite3 DBAPI2 connectionother DBAPI2 objects are not tested, please consider using SQLAlchemy\n",
      "  warnings.warn(\n"
     ]
    },
    {
     "name": "stdout",
     "output_type": "stream",
     "text": [
      "2022-09-03 16:52:21,109 [DEBUG] root: genearl_health_ratio_by_borough_years\n"
     ]
    },
    {
     "name": "stderr",
     "output_type": "stream",
     "text": [
      "C:\\DISTRIBUTIONS\\Python\\Python3_10_2\\lib\\site-packages\\pandas\\io\\sql.py:761: UserWarning: pandas only support SQLAlchemy connectable(engine/connection) ordatabase string URI or sqlite3 DBAPI2 connectionother DBAPI2 objects are not tested, please consider using SQLAlchemy\n",
      "  warnings.warn(\n"
     ]
    },
    {
     "name": "stdout",
     "output_type": "stream",
     "text": [
      "2022-09-03 16:52:21,901 [DEBUG] root: general_health_ratio_by_borough_ward_years\n"
     ]
    },
    {
     "name": "stderr",
     "output_type": "stream",
     "text": [
      "C:\\DISTRIBUTIONS\\Python\\Python3_10_2\\lib\\site-packages\\pandas\\io\\sql.py:761: UserWarning: pandas only support SQLAlchemy connectable(engine/connection) ordatabase string URI or sqlite3 DBAPI2 connectionother DBAPI2 objects are not tested, please consider using SQLAlchemy\n",
      "  warnings.warn(\n"
     ]
    },
    {
     "name": "stdout",
     "output_type": "stream",
     "text": [
      "2022-09-03 16:52:22,296 [DEBUG] managers.sections.sd_report_section_04_General_Health: Ward more so Green\n",
      "2022-09-03 16:52:22,302 [DEBUG] managers.sections.sd_report_section_04_General_Health: Borough more so Green\n",
      "2022-09-03 16:52:22,314 [DEBUG] managers.sections.sd_report_section_04_General_Health: Ward more so Green\n",
      "2022-09-03 16:52:22,316 [DEBUG] managers.sections.sd_report_section_04_General_Health: Borough more so Green\n",
      "2022-09-03 16:52:22,370 [INFO] lib.db_tools: DATABASE CONNECTIVITY\n",
      "2022-09-03 16:52:22,374 [DEBUG] root: Retrieving qualifications min max year\n",
      "2022-09-03 16:52:22,420 [DEBUG] managers.sections.sd_report_section_05_Education:    MAX_YEAR  MIN_YEAR\n",
      "0      2011      2011\n",
      "2022-09-03 16:52:22,426 [DEBUG] managers.sections.sd_report_section_05_Education: education_year_min:2011\n",
      "2022-09-03 16:52:22,430 [DEBUG] managers.sections.sd_report_section_05_Education: education_year_max:2011\n",
      "2022-09-03 16:52:22,432 [DEBUG] managers.sections.sd_report_section_05_Education: education orig_year_to    :2022\n",
      "2022-09-03 16:52:22,435 [DEBUG] managers.sections.sd_report_section_05_Education: education search_year_to  :2011\n",
      "2022-09-03 16:52:22,438 [DEBUG] root: education_ratio_average_years\n"
     ]
    },
    {
     "name": "stderr",
     "output_type": "stream",
     "text": [
      "C:\\DISTRIBUTIONS\\Python\\Python3_10_2\\lib\\site-packages\\pandas\\io\\sql.py:761: UserWarning: pandas only support SQLAlchemy connectable(engine/connection) ordatabase string URI or sqlite3 DBAPI2 connectionother DBAPI2 objects are not tested, please consider using SQLAlchemy\n",
      "  warnings.warn(\n",
      "C:\\DISTRIBUTIONS\\Python\\Python3_10_2\\lib\\site-packages\\pandas\\io\\sql.py:761: UserWarning: pandas only support SQLAlchemy connectable(engine/connection) ordatabase string URI or sqlite3 DBAPI2 connectionother DBAPI2 objects are not tested, please consider using SQLAlchemy\n",
      "  warnings.warn(\n"
     ]
    },
    {
     "name": "stdout",
     "output_type": "stream",
     "text": [
      "2022-09-03 16:52:24,330 [DEBUG] root: education_ratio_by_borough_years\n"
     ]
    },
    {
     "name": "stderr",
     "output_type": "stream",
     "text": [
      "C:\\DISTRIBUTIONS\\Python\\Python3_10_2\\lib\\site-packages\\pandas\\io\\sql.py:761: UserWarning: pandas only support SQLAlchemy connectable(engine/connection) ordatabase string URI or sqlite3 DBAPI2 connectionother DBAPI2 objects are not tested, please consider using SQLAlchemy\n",
      "  warnings.warn(\n"
     ]
    },
    {
     "name": "stdout",
     "output_type": "stream",
     "text": [
      "2022-09-03 16:52:25,347 [DEBUG] root: education_ratio_by_borough_ward_years\n"
     ]
    },
    {
     "name": "stderr",
     "output_type": "stream",
     "text": [
      "C:\\DISTRIBUTIONS\\Python\\Python3_10_2\\lib\\site-packages\\pandas\\io\\sql.py:761: UserWarning: pandas only support SQLAlchemy connectable(engine/connection) ordatabase string URI or sqlite3 DBAPI2 connectionother DBAPI2 objects are not tested, please consider using SQLAlchemy\n",
      "  warnings.warn(\n"
     ]
    },
    {
     "name": "stdout",
     "output_type": "stream",
     "text": [
      "2022-09-03 16:52:25,683 [INFO] lib.db_tools: DATABASE CONNECTIVITY\n",
      "2022-09-03 16:52:25,686 [DEBUG] root: Retrieving earnings min max year\n",
      "2022-09-03 16:52:25,744 [DEBUG] managers.sections.sd_report_section_06_Earnings:    MAX_YEAR  MIN_YEAR\n",
      "0      2021      2010\n",
      "2022-09-03 16:52:25,753 [DEBUG] managers.sections.sd_report_section_06_Earnings: earnings orig_year_to    :2022\n",
      "2022-09-03 16:52:25,757 [DEBUG] managers.sections.sd_report_section_06_Earnings: earnings search_year_to  :2021\n",
      "2022-09-03 16:52:25,761 [DEBUG] root: retrieving uk earnings year\n",
      "2022-09-03 16:52:25,798 [DEBUG] root: Retrieving Crime Ranked By Borough Years\n"
     ]
    },
    {
     "name": "stderr",
     "output_type": "stream",
     "text": [
      "C:\\DISTRIBUTIONS\\Python\\Python3_10_2\\lib\\site-packages\\pandas\\core\\arrays\\categorical.py:2747: FutureWarning: The `inplace` parameter in pandas.Categorical.set_categories is deprecated and will be removed in a future version. Removing unused categories will always return a new Categorical object.\n",
      "  res = method(*args, **kwargs)\n",
      "C:\\DISTRIBUTIONS\\Python\\Python3_10_2\\lib\\site-packages\\pandas\\io\\sql.py:761: UserWarning: pandas only support SQLAlchemy connectable(engine/connection) ordatabase string URI or sqlite3 DBAPI2 connectionother DBAPI2 objects are not tested, please consider using SQLAlchemy\n",
      "  warnings.warn(\n",
      "C:\\DISTRIBUTIONS\\Python\\Python3_10_2\\lib\\site-packages\\pandas\\io\\sql.py:761: UserWarning: pandas only support SQLAlchemy connectable(engine/connection) ordatabase string URI or sqlite3 DBAPI2 connectionother DBAPI2 objects are not tested, please consider using SQLAlchemy\n",
      "  warnings.warn(\n",
      "C:\\DISTRIBUTIONS\\Python\\Python3_10_2\\lib\\site-packages\\pandas\\io\\sql.py:761: UserWarning: pandas only support SQLAlchemy connectable(engine/connection) ordatabase string URI or sqlite3 DBAPI2 connectionother DBAPI2 objects are not tested, please consider using SQLAlchemy\n",
      "  warnings.warn(\n"
     ]
    },
    {
     "name": "stdout",
     "output_type": "stream",
     "text": [
      "2022-09-03 16:52:26,709 [DEBUG] managers.sections.sd_report_section_06_Earnings: [[24405.0, 25000.0, 26323.0, 28430.0, 29044.0, 27105.0, 30372.0, 31114.0, 29162.0]]\n",
      "2022-09-03 16:52:26,710 [DEBUG] managers.sections.sd_report_section_06_Earnings: [2013, 2014, 2015, 2016, 2017, 2018, 2019, 2020, 2021]\n",
      "2022-09-03 16:52:26,712 [DEBUG] managers.sections.sd_report_section_06_Earnings: slope:735.7166666666667\n",
      "2022-09-03 16:52:27,507 [DEBUG] matplotlib.axes._base: top of Axes not in the figure, so title not moved\n",
      "2022-09-03 16:52:27,724 [DEBUG] matplotlib.axes._base: top of Axes not in the figure, so title not moved\n",
      "2022-09-03 16:52:27,813 [DEBUG] matplotlib.axes._base: top of Axes not in the figure, so title not moved\n",
      "2022-09-03 16:52:27,906 [DEBUG] matplotlib.axes._base: top of Axes not in the figure, so title not moved\n",
      "2022-09-03 16:52:27,990 [DEBUG] matplotlib.axes._base: top of Axes not in the figure, so title not moved\n",
      "2022-09-03 16:52:29,238 [INFO] lib.db_tools: DATABASE CONNECTIVITY\n",
      "2022-09-03 16:52:29,240 [DEBUG] root: Retrieving crime min max year\n",
      "2022-09-03 16:52:29,270 [DEBUG] managers.sections.sd_report_section_07_Crime: 2001\n",
      "2022-09-03 16:52:29,272 [DEBUG] managers.sections.sd_report_section_07_Crime: 2022\n",
      "2022-09-03 16:52:29,283 [DEBUG] managers.sections.sd_report_section_07_Crime: crime orig_year_to    :2022\n",
      "2022-09-03 16:52:29,287 [DEBUG] managers.sections.sd_report_section_07_Crime: crime search_year_to  :2022\n",
      "2022-09-03 16:52:29,289 [DEBUG] managers.sections.sd_report_section_07_Crime: QRY Started\n",
      "2022-09-03 16:52:29,291 [DEBUG] root: Retrieving Crime Ranked By Borough Years\n"
     ]
    },
    {
     "name": "stderr",
     "output_type": "stream",
     "text": [
      "C:\\DISTRIBUTIONS\\Python\\Python3_10_2\\lib\\site-packages\\pandas\\io\\sql.py:761: UserWarning: pandas only support SQLAlchemy connectable(engine/connection) ordatabase string URI or sqlite3 DBAPI2 connectionother DBAPI2 objects are not tested, please consider using SQLAlchemy\n",
      "  warnings.warn(\n",
      "C:\\DISTRIBUTIONS\\Python\\Python3_10_2\\lib\\site-packages\\pandas\\io\\sql.py:761: UserWarning: pandas only support SQLAlchemy connectable(engine/connection) ordatabase string URI or sqlite3 DBAPI2 connectionother DBAPI2 objects are not tested, please consider using SQLAlchemy\n",
      "  warnings.warn(\n"
     ]
    },
    {
     "name": "stdout",
     "output_type": "stream",
     "text": [
      "2022-09-03 16:53:04,116 [DEBUG] managers.sections.sd_report_section_07_Crime: QRY Ended\n",
      "2022-09-03 16:53:04,119 [DEBUG] root: city_population\n",
      "2022-09-03 16:53:04,148 [DEBUG] root: city_population\n"
     ]
    },
    {
     "name": "stderr",
     "output_type": "stream",
     "text": [
      "C:\\DISTRIBUTIONS\\Python\\Python3_10_2\\lib\\site-packages\\pandas\\io\\sql.py:761: UserWarning: pandas only support SQLAlchemy connectable(engine/connection) ordatabase string URI or sqlite3 DBAPI2 connectionother DBAPI2 objects are not tested, please consider using SQLAlchemy\n",
      "  warnings.warn(\n",
      "C:\\DISTRIBUTIONS\\Python\\Python3_10_2\\lib\\site-packages\\pandas\\io\\sql.py:761: UserWarning: pandas only support SQLAlchemy connectable(engine/connection) ordatabase string URI or sqlite3 DBAPI2 connectionother DBAPI2 objects are not tested, please consider using SQLAlchemy\n",
      "  warnings.warn(\n"
     ]
    },
    {
     "name": "stdout",
     "output_type": "stream",
     "text": [
      "2022-09-03 16:53:05,108 [DEBUG] managers.sections.sd_report_section_07_Crime: [[0.0796, 0.07498, 0.082, 0.08291, 0.08245, 0.08436, 0.09304, 0.08735, 0.08321, 0.03484]]\n",
      "2022-09-03 16:53:05,109 [DEBUG] managers.sections.sd_report_section_07_Crime: [2013, 2014, 2015, 2016, 2017, 2018, 2019, 2020, 2021, 2022]\n",
      "2022-09-03 16:53:05,113 [DEBUG] managers.sections.sd_report_section_07_Crime: slope:-0.0017344242424242426\n",
      "2022-09-03 16:53:05,954 [DEBUG] matplotlib.axes._base: top of Axes not in the figure, so title not moved\n",
      "2022-09-03 16:53:06,154 [DEBUG] matplotlib.axes._base: top of Axes not in the figure, so title not moved\n",
      "2022-09-03 16:53:06,221 [DEBUG] matplotlib.axes._base: top of Axes not in the figure, so title not moved\n",
      "2022-09-03 16:53:06,309 [DEBUG] matplotlib.axes._base: top of Axes not in the figure, so title not moved\n",
      "2022-09-03 16:53:06,387 [DEBUG] matplotlib.axes._base: top of Axes not in the figure, so title not moved\n",
      "2022-09-03 16:53:07,674 [DEBUG] root: Retrieving Crim Major categories top 5 for borough in year\n"
     ]
    },
    {
     "name": "stderr",
     "output_type": "stream",
     "text": [
      "C:\\DISTRIBUTIONS\\Python\\Python3_10_2\\lib\\site-packages\\pandas\\io\\sql.py:761: UserWarning: pandas only support SQLAlchemy connectable(engine/connection) ordatabase string URI or sqlite3 DBAPI2 connectionother DBAPI2 objects are not tested, please consider using SQLAlchemy\n",
      "  warnings.warn(\n"
     ]
    },
    {
     "name": "stdout",
     "output_type": "stream",
     "text": [
      "2022-09-03 16:53:24,933 [DEBUG] root: Retrieving Crim Major categories for a ward top 5 for borough in year\n"
     ]
    },
    {
     "name": "stderr",
     "output_type": "stream",
     "text": [
      "C:\\DISTRIBUTIONS\\Python\\Python3_10_2\\lib\\site-packages\\pandas\\io\\sql.py:761: UserWarning: pandas only support SQLAlchemy connectable(engine/connection) ordatabase string URI or sqlite3 DBAPI2 connectionother DBAPI2 objects are not tested, please consider using SQLAlchemy\n",
      "  warnings.warn(\n"
     ]
    },
    {
     "name": "stdout",
     "output_type": "stream",
     "text": [
      "2022-09-03 16:53:25,965 [DEBUG] selenium.webdriver.remote.remote_connection: POST http://localhost:65320/session {\"capabilities\": {\"firstMatch\": [{}], \"alwaysMatch\": {\"browserName\": \"chrome\", \"pageLoadStrategy\": \"normal\", \"goog:chromeOptions\": {\"extensions\": [], \"args\": [\"--headless\", \"--headless\", \"-no-sandbox\", \"--disable-dev-shm-usage\"]}}}, \"desiredCapabilities\": {\"browserName\": \"chrome\", \"pageLoadStrategy\": \"normal\", \"goog:chromeOptions\": {\"extensions\": [], \"args\": [\"--headless\", \"--headless\", \"-no-sandbox\", \"--disable-dev-shm-usage\"]}}}\n",
      "2022-09-03 16:53:25,967 [DEBUG] urllib3.connectionpool: Starting new HTTP connection (1): localhost:65320\n",
      "2022-09-03 16:53:27,335 [DEBUG] urllib3.connectionpool: http://localhost:65320 \"POST /session HTTP/1.1\" 200 792\n",
      "2022-09-03 16:53:27,337 [DEBUG] selenium.webdriver.remote.remote_connection: Finished Request\n",
      "2022-09-03 16:53:27,339 [DEBUG] managers.sd_map_manager: Browser is loading ./reports/generation/images/REPORT_TYPE_01_GENERAL_map_London_Lewisham_Bellingham_.html\n",
      "2022-09-03 16:53:27,340 [DEBUG] selenium.webdriver.remote.remote_connection: POST http://localhost:65320/session/c1a4814a73d61e2701007e7de8f61162/url {\"url\": \"file:///C:\\\\DEVELOPMENT\\\\MASTERS\\\\semester-03\\\\sd-map-streamlit\\\\reports\\\\generation\\\\images\\\\REPORT_TYPE_01_GENERAL_map_London_Lewisham_Bellingham_.html\"}\n",
      "2022-09-03 16:53:28,243 [DEBUG] urllib3.connectionpool: http://localhost:65320 \"POST /session/c1a4814a73d61e2701007e7de8f61162/url HTTP/1.1\" 200 14\n",
      "2022-09-03 16:53:28,246 [DEBUG] selenium.webdriver.remote.remote_connection: Finished Request\n",
      "2022-09-03 16:53:33,265 [DEBUG] selenium.webdriver.remote.remote_connection: GET http://localhost:65320/session/c1a4814a73d61e2701007e7de8f61162/screenshot {}\n",
      "2022-09-03 16:53:33,448 [DEBUG] urllib3.connectionpool: http://localhost:65320 \"GET /session/c1a4814a73d61e2701007e7de8f61162/screenshot HTTP/1.1\" 200 351952\n",
      "2022-09-03 16:53:33,450 [DEBUG] selenium.webdriver.remote.remote_connection: Finished Request\n",
      "2022-09-03 16:53:33,455 [DEBUG] selenium.webdriver.remote.remote_connection: DELETE http://localhost:65320/session/c1a4814a73d61e2701007e7de8f61162 {}\n",
      "2022-09-03 16:53:33,499 [DEBUG] urllib3.connectionpool: http://localhost:65320 \"DELETE /session/c1a4814a73d61e2701007e7de8f61162 HTTP/1.1\" 200 14\n",
      "2022-09-03 16:53:33,501 [DEBUG] selenium.webdriver.remote.remote_connection: Finished Request\n",
      "2022-09-03 16:53:35,715 [WARNING] managers.sd_report_manager: Not a Command\n",
      "2022-09-03 16:53:35,716 [WARNING] managers.sd_report_manager: Not a Command\n",
      "2022-09-03 16:53:37,197 [WARNING] managers.sd_report_manager: Not a Command\n",
      "2022-09-03 16:53:37,198 [WARNING] managers.sd_report_manager: Not a Command\n",
      "2022-09-03 16:53:37,199 [WARNING] managers.sd_report_manager: Not a Command\n",
      "2022-09-03 16:53:37,203 [WARNING] managers.sd_report_manager: Not a Command\n",
      "2022-09-03 16:53:37,209 [WARNING] managers.sd_report_manager: Not a Command\n",
      "2022-09-03 16:53:38,940 [DEBUG] managers.sd_report_manager: text_alignment:justify\n",
      "2022-09-03 16:53:38,942 [WARNING] managers.sd_report_manager: Not a Command\n",
      "2022-09-03 16:53:38,997 [WARNING] managers.sd_report_manager: Not a Command\n",
      "2022-09-03 16:53:38,999 [WARNING] managers.sd_report_manager: Not a Command\n",
      "2022-09-03 16:53:39,002 [WARNING] managers.sd_report_manager: Not a Command\n",
      "2022-09-03 16:53:40,641 [DEBUG] managers.sd_report_manager: text_alignment:justify\n",
      "2022-09-03 16:53:40,645 [WARNING] managers.sd_report_manager: Not a Command\n",
      "2022-09-03 16:53:42,164 [WARNING] managers.sd_report_manager: Not a Command\n",
      "2022-09-03 16:53:42,165 [WARNING] managers.sd_report_manager: Not a Command\n",
      "2022-09-03 16:53:42,166 [WARNING] managers.sd_report_manager: Not a Command\n",
      "2022-09-03 16:53:43,690 [DEBUG] managers.sd_report_manager: text_alignment:justify\n",
      "2022-09-03 16:53:43,694 [WARNING] managers.sd_report_manager: Not a Command\n",
      "2022-09-03 16:53:43,720 [WARNING] managers.sd_report_manager: Not a Command\n",
      "2022-09-03 16:53:43,722 [WARNING] managers.sd_report_manager: Not a Command\n",
      "2022-09-03 16:53:43,727 [WARNING] managers.sd_report_manager: Not a Command\n",
      "2022-09-03 16:53:45,235 [DEBUG] managers.sd_report_manager: text_alignment:justify\n",
      "2022-09-03 16:53:46,811 [WARNING] managers.sd_report_manager: Not a Command\n",
      "2022-09-03 16:53:46,812 [WARNING] managers.sd_report_manager: Not a Command\n",
      "2022-09-03 16:53:46,813 [WARNING] managers.sd_report_manager: Not a Command\n",
      "2022-09-03 16:53:48,372 [DEBUG] managers.sd_report_manager: text_alignment:justify\n",
      "2022-09-03 16:53:48,376 [WARNING] managers.sd_report_manager: Not a Command\n",
      "2022-09-03 16:53:48,615 [WARNING] managers.sd_report_manager: Not a Command\n",
      "2022-09-03 16:53:48,617 [WARNING] managers.sd_report_manager: Not a Command\n",
      "2022-09-03 16:53:48,620 [WARNING] managers.sd_report_manager: Not a Command\n",
      "2022-09-03 16:53:50,092 [DEBUG] managers.sd_report_manager: text_alignment:justify\n",
      "2022-09-03 16:53:51,716 [WARNING] managers.sd_report_manager: Not a Command\n",
      "2022-09-03 16:53:51,718 [WARNING] managers.sd_report_manager: Not a Command\n",
      "2022-09-03 16:53:51,721 [WARNING] managers.sd_report_manager: Not a Command\n",
      "2022-09-03 16:53:53,409 [DEBUG] managers.sd_report_manager: text_alignment:justify\n",
      "2022-09-03 16:53:53,416 [WARNING] managers.sd_report_manager: Not a Command\n",
      "2022-09-03 16:53:53,535 [WARNING] managers.sd_report_manager: Not a Command\n",
      "2022-09-03 16:53:53,547 [WARNING] managers.sd_report_manager: Not a Command\n",
      "2022-09-03 16:53:53,555 [WARNING] managers.sd_report_manager: Not a Command\n",
      "2022-09-03 16:53:55,189 [DEBUG] managers.sd_report_manager: text_alignment:justify\n",
      "2022-09-03 16:53:56,964 [WARNING] managers.sd_report_manager: Not a Command\n",
      "2022-09-03 16:53:56,978 [WARNING] managers.sd_report_manager: Not a Command\n",
      "2022-09-03 16:53:56,983 [WARNING] managers.sd_report_manager: Not a Command\n",
      "2022-09-03 16:53:56,987 [DEBUG] managers.sd_report_manager: text_alignment:justify\n",
      "2022-09-03 16:53:56,996 [WARNING] managers.sd_report_manager: Not a Command\n",
      "2022-09-03 16:53:58,768 [DEBUG] managers.sd_report_manager: text_alignment:justify\n",
      "2022-09-03 16:53:58,772 [WARNING] managers.sd_report_manager: Not a Command\n",
      "2022-09-03 16:53:59,179 [WARNING] managers.sd_report_manager: Not a Command\n",
      "2022-09-03 16:53:59,182 [WARNING] managers.sd_report_manager: Not a Command\n",
      "2022-09-03 16:53:59,185 [WARNING] managers.sd_report_manager: Not a Command\n",
      "2022-09-03 16:54:01,437 [DEBUG] managers.sd_report_manager: text_alignment:justify\n",
      "2022-09-03 16:54:03,232 [WARNING] managers.sd_report_manager: Not a Command\n",
      "2022-09-03 16:54:03,234 [WARNING] managers.sd_report_manager: Not a Command\n",
      "2022-09-03 16:54:03,236 [WARNING] managers.sd_report_manager: Not a Command\n",
      "2022-09-03 16:54:03,247 [DEBUG] managers.sd_report_manager: text_alignment:justify\n",
      "2022-09-03 16:54:05,005 [WARNING] managers.sd_report_manager: Not a Command\n",
      "2022-09-03 16:54:05,010 [DEBUG] managers.sd_report_manager: text_alignment:justify\n",
      "2022-09-03 16:54:05,015 [WARNING] managers.sd_report_manager: Not a Command\n",
      "2022-09-03 16:54:05,022 [DEBUG] managers.sd_report_manager: text_alignment:justify\n",
      "2022-09-03 16:54:05,029 [WARNING] managers.sd_report_manager: Not a Command\n",
      "2022-09-03 16:54:05,341 [WARNING] managers.sd_report_manager: Not a Command\n",
      "2022-09-03 16:54:05,343 [WARNING] managers.sd_report_manager: Not a Command\n",
      "2022-09-03 16:54:07,188 [DEBUG] managers.sd_report_manager: text_alignment:justify\n",
      "2022-09-03 16:54:09,276 [WARNING] managers.sd_report_manager: Not a Command\n",
      "2022-09-03 16:54:09,277 [WARNING] managers.sd_report_manager: Not a Command\n",
      "2022-09-03 16:54:09,279 [WARNING] managers.sd_report_manager: Not a Command\n",
      "2022-09-03 16:54:11,246 [WARNING] managers.sd_report_manager: Not a Command\n",
      "2022-09-03 16:54:11,250 [DEBUG] managers.sd_report_manager: text_alignment:justify\n",
      "2022-09-03 16:54:11,256 [WARNING] managers.sd_report_manager: Not a Command\n",
      "2022-09-03 16:54:13,203 [DEBUG] managers.sd_report_manager: text_alignment:justify\n",
      "2022-09-03 16:54:13,206 [WARNING] managers.sd_report_manager: Not a Command\n",
      "2022-09-03 16:54:13,638 [WARNING] managers.sd_report_manager: Not a Command\n",
      "2022-09-03 16:54:13,641 [WARNING] managers.sd_report_manager: Not a Command\n",
      "2022-09-03 16:54:13,643 [WARNING] managers.sd_report_manager: Not a Command\n",
      "2022-09-03 16:54:15,488 [DEBUG] managers.sd_report_manager: text_alignment:justify\n",
      "2022-09-03 16:54:15,495 [WARNING] managers.sd_report_manager: Not a Command\n",
      "2022-09-03 16:54:16,064 [WARNING] managers.sd_report_manager: Not a Command\n",
      "2022-09-03 16:54:16,065 [WARNING] managers.sd_report_manager: Not a Command\n",
      "2022-09-03 16:54:16,067 [WARNING] managers.sd_report_manager: Not a Command\n",
      "2022-09-03 16:54:18,271 [DEBUG] managers.sd_report_manager: text_alignment:justify\n",
      "2022-09-03 16:54:18,277 [WARNING] managers.sd_report_manager: Not a Command\n",
      "2022-09-03 16:54:18,640 [WARNING] managers.sd_report_manager: Not a Command\n",
      "2022-09-03 16:54:18,642 [WARNING] managers.sd_report_manager: Not a Command\n",
      "2022-09-03 16:54:18,643 [WARNING] managers.sd_report_manager: Not a Command\n"
     ]
    }
   ],
   "source": [
    "from managers import sd_report_type_general as report_general_man\n",
    "\n",
    "session_id = \"REPORT_TYPE_01_GENERAL\"\n",
    "template_processor_file_name = \"./reports/processors/sd_general_report_template_processor.json\"\n",
    "report_option = \"Full Report\"\n",
    "\n",
    "## Create the report context\n",
    "report_context = {}\n",
    "report_context[\"template_processor_file_name\"] = template_processor_file_name\n",
    "report_context[\"report_option\"] = report_option\n",
    "report_context[\"include_mapZ\"] = False\n",
    "\n",
    "report_general_man.generate_report(session_id\n",
    "                                 , search_term\n",
    "                                 , report_context\n",
    "                                 , properties)\n"
   ]
  }
 ],
 "metadata": {
  "kernelspec": {
   "display_name": "Python 3 (ipykernel)",
   "language": "python",
   "name": "python3"
  },
  "language_info": {
   "codemirror_mode": {
    "name": "ipython",
    "version": 3
   },
   "file_extension": ".py",
   "mimetype": "text/x-python",
   "name": "python",
   "nbconvert_exporter": "python",
   "pygments_lexer": "ipython3",
   "version": "3.10.2"
  }
 },
 "nbformat": 4,
 "nbformat_minor": 5
}
