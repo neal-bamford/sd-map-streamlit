{
 "cells": [
  {
   "cell_type": "markdown",
   "id": "30125aaf-aec9-41f4-bed0-3888c82df28e",
   "metadata": {},
   "source": [
    "# General Report"
   ]
  },
  {
   "cell_type": "markdown",
   "id": "8a838826-eb60-4647-b1f7-f73e22eb640d",
   "metadata": {
    "tags": []
   },
   "source": [
    "## Setup"
   ]
  },
  {
   "cell_type": "code",
   "execution_count": 1,
   "id": "90994bee-d612-4e81-96a5-e7b03640db5c",
   "metadata": {},
   "outputs": [
    {
     "name": "stdout",
     "output_type": "stream",
     "text": [
      "2022-09-08 14:56:29,211 [INFO] SD_Map_01_Genearl_Report: --done\n"
     ]
    }
   ],
   "source": [
    "%load_ext autoreload\n",
    "\n",
    "%autoreload 3\n",
    "\n",
    "import toml\n",
    "import logging\n",
    "import config_logging\n",
    "\n",
    "log = logging.getLogger(\"SD_Map_01_Genearl_Report\")\n",
    "log.setLevel(logging.INFO)\n",
    "\n",
    "properties = toml.load(\"./.streamlit/secrets.toml\")\n",
    "database_props = properties[properties[\"database\"][\"flavour\"]] \n",
    "log.info(\"--done\")\n"
   ]
  },
  {
   "cell_type": "markdown",
   "id": "5c5b8a8c-7efe-4835-9cf2-3c7e1d4c2133",
   "metadata": {
    "tags": []
   },
   "source": [
    "## Reload"
   ]
  },
  {
   "cell_type": "code",
   "execution_count": 2,
   "id": "1c779cd4-8400-47aa-90e5-15bb24457654",
   "metadata": {},
   "outputs": [
    {
     "name": "stdout",
     "output_type": "stream",
     "text": [
      "The autoreload extension is already loaded. To reload it, use:\n",
      "  %reload_ext autoreload\n",
      "2022-09-08 14:56:29,806 [INFO] numexpr.utils: NumExpr defaulting to 4 threads.\n",
      "2022-09-08 14:56:32,611 [INFO] db_tools: DATABASE CONNECTIVITY\n",
      "2022-09-08 14:56:32,612 [INFO] SD_Map_01_Genearl_Report: --done\n"
     ]
    }
   ],
   "source": [
    "### Set up\n",
    "\n",
    "%load_ext autoreload\n",
    "%autoreload 3\n",
    "\n",
    "from data.daos import dao_facade_local as dao_fac\n",
    "from lib import db_tools as db_tools\n",
    "from lib import masters_data_analytics_lib as mlib\n",
    "from lib import stats as stats\n",
    "\n",
    "db_conn = None\n",
    "db_conn = db_tools.get_db_conn(database_props)\n",
    "log.info(\"--done\")"
   ]
  },
  {
   "cell_type": "markdown",
   "id": "a871c4b6-9391-4b4a-996c-18efa1d3c06d",
   "metadata": {},
   "source": [
    "## Search Criteria"
   ]
  },
  {
   "cell_type": "code",
   "execution_count": 3,
   "id": "9537005d-11fb-492b-b2cf-1bf88aa88414",
   "metadata": {},
   "outputs": [
    {
     "name": "stdout",
     "output_type": "stream",
     "text": [
      "2022-09-08 14:56:32,799 [INFO] SD_Map_01_Genearl_Report: \n",
      "{'city': 'London', 'borough': 'Islington', 'ward_name': 'Holloway', 'post_code': '', 'year_from': 2013, 'year_to': 2022}\n",
      "2022-09-08 14:56:32,801 [INFO] SD_Map_01_Genearl_Report: --done\n"
     ]
    }
   ],
   "source": [
    "city      = \"London\"\n",
    "\n",
    "borough   = \"Islington\"\n",
    "ward_name = \"Holloway\"\n",
    "post_code = \"\"\n",
    "\n",
    "year_from = 2013\n",
    "year_to   = 2022\n",
    "\n",
    "search_term = {\n",
    "    \"city\"      : city\n",
    "  , \"borough\"   : borough\n",
    "  , \"ward_name\" : ward_name\n",
    "  , \"post_code\" : post_code\n",
    "  , \"year_from\" : year_from\n",
    "  , \"year_to\"   : year_to\n",
    "}\n",
    "\n",
    "log.info(f\"\\n{search_term}\")\n",
    "log.info(\"--done\")"
   ]
  },
  {
   "cell_type": "markdown",
   "id": "3282b35a-8a03-420b-ada6-f249f34000ea",
   "metadata": {},
   "source": [
    "# REPORT GENERATION"
   ]
  },
  {
   "cell_type": "code",
   "execution_count": null,
   "id": "69092078-be49-423f-a1d3-9c646777b604",
   "metadata": {},
   "outputs": [
    {
     "name": "stdout",
     "output_type": "stream",
     "text": [
      "2022-09-08 14:56:33,876 [INFO] sd_report_type_general: Generating General Report\n",
      "2022-09-08 14:56:33,877 [INFO] sd_search_validation: Search Validation\n",
      "2022-09-08 14:56:34,033 [INFO] db_tools: DATABASE CONNECTIVITY\n",
      "2022-09-08 14:56:35,173 [INFO] sd_report_section_02_Population: Generating Population Section\n",
      "2022-09-08 14:56:35,188 [INFO] db_tools: DATABASE CONNECTIVITY\n"
     ]
    },
    {
     "name": "stderr",
     "output_type": "stream",
     "text": [
      "C:\\DISTRIBUTIONS\\Python\\Python3_10_2\\lib\\site-packages\\pandas\\io\\sql.py:761: UserWarning: pandas only support SQLAlchemy connectable(engine/connection) ordatabase string URI or sqlite3 DBAPI2 connectionother DBAPI2 objects are not tested, please consider using SQLAlchemy\n",
      "  warnings.warn(\n",
      "C:\\DISTRIBUTIONS\\Python\\Python3_10_2\\lib\\site-packages\\pandas\\io\\sql.py:761: UserWarning: pandas only support SQLAlchemy connectable(engine/connection) ordatabase string URI or sqlite3 DBAPI2 connectionother DBAPI2 objects are not tested, please consider using SQLAlchemy\n",
      "  warnings.warn(\n"
     ]
    },
    {
     "name": "stdout",
     "output_type": "stream",
     "text": [
      "2022-09-08 14:56:37,043 [INFO] sd_report_section_03_Ethnicity: Generating Ethnicity Section\n",
      "2022-09-08 14:56:37,059 [INFO] db_tools: DATABASE CONNECTIVITY\n"
     ]
    },
    {
     "name": "stderr",
     "output_type": "stream",
     "text": [
      "C:\\DISTRIBUTIONS\\Python\\Python3_10_2\\lib\\site-packages\\pandas\\io\\sql.py:761: UserWarning: pandas only support SQLAlchemy connectable(engine/connection) ordatabase string URI or sqlite3 DBAPI2 connectionother DBAPI2 objects are not tested, please consider using SQLAlchemy\n",
      "  warnings.warn(\n",
      "C:\\DISTRIBUTIONS\\Python\\Python3_10_2\\lib\\site-packages\\pandas\\io\\sql.py:761: UserWarning: pandas only support SQLAlchemy connectable(engine/connection) ordatabase string URI or sqlite3 DBAPI2 connectionother DBAPI2 objects are not tested, please consider using SQLAlchemy\n",
      "  warnings.warn(\n",
      "C:\\DISTRIBUTIONS\\Python\\Python3_10_2\\lib\\site-packages\\pandas\\io\\sql.py:761: UserWarning: pandas only support SQLAlchemy connectable(engine/connection) ordatabase string URI or sqlite3 DBAPI2 connectionother DBAPI2 objects are not tested, please consider using SQLAlchemy\n",
      "  warnings.warn(\n",
      "C:\\DISTRIBUTIONS\\Python\\Python3_10_2\\lib\\site-packages\\pandas\\io\\sql.py:761: UserWarning: pandas only support SQLAlchemy connectable(engine/connection) ordatabase string URI or sqlite3 DBAPI2 connectionother DBAPI2 objects are not tested, please consider using SQLAlchemy\n",
      "  warnings.warn(\n"
     ]
    },
    {
     "name": "stdout",
     "output_type": "stream",
     "text": [
      "2022-09-08 14:56:40,308 [INFO] sd_report_section_04_General_Health: Generating General Health Section\n",
      "2022-09-08 14:56:40,322 [INFO] db_tools: DATABASE CONNECTIVITY\n"
     ]
    },
    {
     "name": "stderr",
     "output_type": "stream",
     "text": [
      "C:\\DISTRIBUTIONS\\Python\\Python3_10_2\\lib\\site-packages\\pandas\\io\\sql.py:761: UserWarning: pandas only support SQLAlchemy connectable(engine/connection) ordatabase string URI or sqlite3 DBAPI2 connectionother DBAPI2 objects are not tested, please consider using SQLAlchemy\n",
      "  warnings.warn(\n",
      "C:\\DISTRIBUTIONS\\Python\\Python3_10_2\\lib\\site-packages\\pandas\\io\\sql.py:761: UserWarning: pandas only support SQLAlchemy connectable(engine/connection) ordatabase string URI or sqlite3 DBAPI2 connectionother DBAPI2 objects are not tested, please consider using SQLAlchemy\n",
      "  warnings.warn(\n",
      "C:\\DISTRIBUTIONS\\Python\\Python3_10_2\\lib\\site-packages\\pandas\\io\\sql.py:761: UserWarning: pandas only support SQLAlchemy connectable(engine/connection) ordatabase string URI or sqlite3 DBAPI2 connectionother DBAPI2 objects are not tested, please consider using SQLAlchemy\n",
      "  warnings.warn(\n",
      "C:\\DISTRIBUTIONS\\Python\\Python3_10_2\\lib\\site-packages\\pandas\\io\\sql.py:761: UserWarning: pandas only support SQLAlchemy connectable(engine/connection) ordatabase string URI or sqlite3 DBAPI2 connectionother DBAPI2 objects are not tested, please consider using SQLAlchemy\n",
      "  warnings.warn(\n"
     ]
    },
    {
     "name": "stdout",
     "output_type": "stream",
     "text": [
      "2022-09-08 14:56:48,691 [INFO] sd_report_section_05_Education: Generating Education Section\n",
      "2022-09-08 14:56:48,706 [INFO] db_tools: DATABASE CONNECTIVITY\n"
     ]
    },
    {
     "name": "stderr",
     "output_type": "stream",
     "text": [
      "C:\\DISTRIBUTIONS\\Python\\Python3_10_2\\lib\\site-packages\\pandas\\io\\sql.py:761: UserWarning: pandas only support SQLAlchemy connectable(engine/connection) ordatabase string URI or sqlite3 DBAPI2 connectionother DBAPI2 objects are not tested, please consider using SQLAlchemy\n",
      "  warnings.warn(\n",
      "C:\\DISTRIBUTIONS\\Python\\Python3_10_2\\lib\\site-packages\\pandas\\io\\sql.py:761: UserWarning: pandas only support SQLAlchemy connectable(engine/connection) ordatabase string URI or sqlite3 DBAPI2 connectionother DBAPI2 objects are not tested, please consider using SQLAlchemy\n",
      "  warnings.warn(\n",
      "C:\\DISTRIBUTIONS\\Python\\Python3_10_2\\lib\\site-packages\\pandas\\io\\sql.py:761: UserWarning: pandas only support SQLAlchemy connectable(engine/connection) ordatabase string URI or sqlite3 DBAPI2 connectionother DBAPI2 objects are not tested, please consider using SQLAlchemy\n",
      "  warnings.warn(\n"
     ]
    },
    {
     "name": "stdout",
     "output_type": "stream",
     "text": [
      "2022-09-08 14:56:52,080 [INFO] sd_report_section_06_Earnings: Generating Earnings Section\n"
     ]
    },
    {
     "name": "stderr",
     "output_type": "stream",
     "text": [
      "C:\\DISTRIBUTIONS\\Python\\Python3_10_2\\lib\\site-packages\\pandas\\io\\sql.py:761: UserWarning: pandas only support SQLAlchemy connectable(engine/connection) ordatabase string URI or sqlite3 DBAPI2 connectionother DBAPI2 objects are not tested, please consider using SQLAlchemy\n",
      "  warnings.warn(\n",
      "C:\\DISTRIBUTIONS\\Python\\Python3_10_2\\lib\\site-packages\\pandas\\core\\arrays\\categorical.py:2747: FutureWarning: The `inplace` parameter in pandas.Categorical.set_categories is deprecated and will be removed in a future version. Removing unused categories will always return a new Categorical object.\n",
      "  res = method(*args, **kwargs)\n"
     ]
    },
    {
     "name": "stdout",
     "output_type": "stream",
     "text": [
      "2022-09-08 14:56:52,096 [INFO] db_tools: DATABASE CONNECTIVITY\n"
     ]
    },
    {
     "name": "stderr",
     "output_type": "stream",
     "text": [
      "C:\\DISTRIBUTIONS\\Python\\Python3_10_2\\lib\\site-packages\\pandas\\io\\sql.py:761: UserWarning: pandas only support SQLAlchemy connectable(engine/connection) ordatabase string URI or sqlite3 DBAPI2 connectionother DBAPI2 objects are not tested, please consider using SQLAlchemy\n",
      "  warnings.warn(\n",
      "C:\\DISTRIBUTIONS\\Python\\Python3_10_2\\lib\\site-packages\\pandas\\io\\sql.py:761: UserWarning: pandas only support SQLAlchemy connectable(engine/connection) ordatabase string URI or sqlite3 DBAPI2 connectionother DBAPI2 objects are not tested, please consider using SQLAlchemy\n",
      "  warnings.warn(\n",
      "C:\\DISTRIBUTIONS\\Python\\Python3_10_2\\lib\\site-packages\\pandas\\io\\sql.py:761: UserWarning: pandas only support SQLAlchemy connectable(engine/connection) ordatabase string URI or sqlite3 DBAPI2 connectionother DBAPI2 objects are not tested, please consider using SQLAlchemy\n",
      "  warnings.warn(\n"
     ]
    },
    {
     "name": "stdout",
     "output_type": "stream",
     "text": [
      "2022-09-08 14:56:53,429 [INFO] matplotlib.category: Using categorical units to plot a list of strings that are all parsable as floats or dates. If these strings should be plotted as numbers, cast to the appropriate data type before plotting.\n",
      "2022-09-08 14:56:53,435 [INFO] matplotlib.category: Using categorical units to plot a list of strings that are all parsable as floats or dates. If these strings should be plotted as numbers, cast to the appropriate data type before plotting.\n",
      "2022-09-08 14:56:53,472 [INFO] matplotlib.category: Using categorical units to plot a list of strings that are all parsable as floats or dates. If these strings should be plotted as numbers, cast to the appropriate data type before plotting.\n",
      "2022-09-08 14:56:53,474 [INFO] matplotlib.category: Using categorical units to plot a list of strings that are all parsable as floats or dates. If these strings should be plotted as numbers, cast to the appropriate data type before plotting.\n",
      "2022-09-08 14:56:53,497 [INFO] matplotlib.category: Using categorical units to plot a list of strings that are all parsable as floats or dates. If these strings should be plotted as numbers, cast to the appropriate data type before plotting.\n",
      "2022-09-08 14:56:53,502 [INFO] matplotlib.category: Using categorical units to plot a list of strings that are all parsable as floats or dates. If these strings should be plotted as numbers, cast to the appropriate data type before plotting.\n",
      "2022-09-08 14:56:53,522 [INFO] matplotlib.category: Using categorical units to plot a list of strings that are all parsable as floats or dates. If these strings should be plotted as numbers, cast to the appropriate data type before plotting.\n",
      "2022-09-08 14:56:53,525 [INFO] matplotlib.category: Using categorical units to plot a list of strings that are all parsable as floats or dates. If these strings should be plotted as numbers, cast to the appropriate data type before plotting.\n",
      "2022-09-08 14:56:53,556 [INFO] matplotlib.category: Using categorical units to plot a list of strings that are all parsable as floats or dates. If these strings should be plotted as numbers, cast to the appropriate data type before plotting.\n",
      "2022-09-08 14:56:53,560 [INFO] matplotlib.category: Using categorical units to plot a list of strings that are all parsable as floats or dates. If these strings should be plotted as numbers, cast to the appropriate data type before plotting.\n",
      "2022-09-08 14:56:55,086 [INFO] sd_report_section_07_Crime: Generating Crime Section\n",
      "2022-09-08 14:56:55,101 [INFO] db_tools: DATABASE CONNECTIVITY\n"
     ]
    },
    {
     "name": "stderr",
     "output_type": "stream",
     "text": [
      "C:\\DISTRIBUTIONS\\Python\\Python3_10_2\\lib\\site-packages\\pandas\\io\\sql.py:761: UserWarning: pandas only support SQLAlchemy connectable(engine/connection) ordatabase string URI or sqlite3 DBAPI2 connectionother DBAPI2 objects are not tested, please consider using SQLAlchemy\n",
      "  warnings.warn(\n",
      "C:\\DISTRIBUTIONS\\Python\\Python3_10_2\\lib\\site-packages\\pandas\\io\\sql.py:761: UserWarning: pandas only support SQLAlchemy connectable(engine/connection) ordatabase string URI or sqlite3 DBAPI2 connectionother DBAPI2 objects are not tested, please consider using SQLAlchemy\n",
      "  warnings.warn(\n"
     ]
    }
   ],
   "source": [
    "from managers import sd_report_type_general as report_general_man\n",
    "\n",
    "session_id = \"REPORT_TYPE_01_GENERAL\"\n",
    "template_processor_file_name = \"./reports/processors/sd_general_report_template_processor.json\"\n",
    "# report_option = \"Full Report\"\n",
    "report_option = \"Full Report - New Style\"\n",
    "\n",
    "## Create the report context\n",
    "report_context = {}\n",
    "report_context[\"template_processor_file_name\"] = template_processor_file_name\n",
    "report_context[\"report_option\"] = report_option\n",
    "report_context[\"include_map\"] = True\n",
    "report_context[\"test_list_all_borough_narrative\"] = False\n",
    "\n",
    "generated_general_report = report_general_man.generate_report(session_id\n",
    "                                                            , search_term\n",
    "                                                            , report_context\n",
    "                                                            , properties)\n",
    "\n",
    "log.info(f\"The generated general report can be found at -> {generated_general_report}\")\n"
   ]
  },
  {
   "cell_type": "code",
   "execution_count": null,
   "id": "55bf3426-9c67-462b-893d-417e6e65a530",
   "metadata": {},
   "outputs": [],
   "source": []
  }
 ],
 "metadata": {
  "kernelspec": {
   "display_name": "Python 3 (ipykernel)",
   "language": "python",
   "name": "python3"
  },
  "language_info": {
   "codemirror_mode": {
    "name": "ipython",
    "version": 3
   },
   "file_extension": ".py",
   "mimetype": "text/x-python",
   "name": "python",
   "nbconvert_exporter": "python",
   "pygments_lexer": "ipython3",
   "version": "3.10.2"
  }
 },
 "nbformat": 4,
 "nbformat_minor": 5
}
