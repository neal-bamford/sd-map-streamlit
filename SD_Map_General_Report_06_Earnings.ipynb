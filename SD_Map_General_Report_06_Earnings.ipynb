{
 "cells": [
  {
   "cell_type": "markdown",
   "id": "30125aaf-aec9-41f4-bed0-3888c82df28e",
   "metadata": {},
   "source": [
    "# Earnings"
   ]
  },
  {
   "cell_type": "markdown",
   "id": "8a838826-eb60-4647-b1f7-f73e22eb640d",
   "metadata": {
    "jp-MarkdownHeadingCollapsed": true,
    "tags": []
   },
   "source": [
    "## Setup"
   ]
  },
  {
   "cell_type": "code",
   "execution_count": null,
   "id": "90994bee-d612-4e81-96a5-e7b03640db5c",
   "metadata": {},
   "outputs": [
    {
     "name": "stdout",
     "output_type": "stream",
     "text": [
      "2022-08-23 22:35:44,571 [INFO] numexpr.utils: NumExpr defaulting to 4 threads.\n"
     ]
    }
   ],
   "source": [
    "from matplotlib.colors import ListedColormap \n",
    "from matplotlib.ticker import (MultipleLocator, FormatStrFormatter, AutoMinorLocator)\n",
    "from lib import formatting as sd_formatting\n",
    "import pyodbc \n",
    "import toml\n",
    "import config_logging\n",
    "import logging\n",
    "import urllib.request\n",
    "import pandas as pd\n",
    "import colorcet as cc\n",
    "\n",
    "log = logging.getLogger(__name__)\n",
    "external_ip = urllib.request.urlopen('https://ident.me').read().decode('utf8')\n",
    "\n",
    "secrets = toml.load(\"./.streamlit/secrets.toml\")\n",
    "\n",
    "database_toml = secrets[secrets[\"database\"][\"flavour\"]] \n",
    "\n",
    "database_props = {\n",
    "                   \"driver\"   : database_toml[\"driver\"]\n",
    "                 , \"host\"     : database_toml[\"host\"]\n",
    "                 , \"port\"     : database_toml[\"port\"]\n",
    "                 , \"instance\" : database_toml[\"instance\"]\n",
    "                 , \"database\" : database_toml[\"database\"]\n",
    "                 , \"username\" : database_toml[\"username\"]\n",
    "                 , \"password\" : database_toml[\"password\"]\n",
    "}\n",
    "db_conn = None\n",
    "## Connect to the database -- this might move to a factory method to provide the connection\n",
    "\n",
    "\n",
    "def get_db_conn(database_props):\n",
    "    try:                      \n",
    "        db_conn = pyodbc.connect(driver   = database_props[\"driver\"]\n",
    "                               , server   = \"{},{}\\{}\".format(database_props[\"host\"], database_props[\"port\"], database_props[\"instance\"])\n",
    "                               , database = database_props[\"database\"]\n",
    "                               , uid      = database_props[\"username\"]\n",
    "                               , pwd      = database_props[\"password\"])\n",
    "\n",
    "        log.info(f\"DATABASE CONNECTIVITY from {external_ip}\") \n",
    "    except Exception as e:\n",
    "        log.error(f\"NO DATABASE CONNECTIVITY from {external_ip}\") \n",
    "        log.error(e)\n",
    "        raise Exception(\"DATABASE CONNECTIVITY\")\n",
    "        \n",
    "    return db_conn\n",
    "\n"
   ]
  },
  {
   "cell_type": "markdown",
   "id": "168213f0-98af-4de0-8caf-87af99dfcb4e",
   "metadata": {
    "tags": []
   },
   "source": [
    "## Reload"
   ]
  },
  {
   "cell_type": "code",
   "execution_count": null,
   "id": "1c779cd4-8400-47aa-90e5-15bb24457654",
   "metadata": {},
   "outputs": [],
   "source": [
    "### Set up\n",
    "%load_ext autoreload\n",
    "\n",
    "%autoreload 3\n",
    "from lib import masters_data_analytics_lib as mlib\n",
    "from lib import stats as stats\n",
    "from data.daos import dao_facade_local as dao_fac\n",
    "\n",
    "\n",
    "\n",
    "\n",
    "db_conn = get_db_conn(database_props)\n"
   ]
  },
  {
   "cell_type": "markdown",
   "id": "17cd6543-6227-4eda-8b0b-d602b30a5b5f",
   "metadata": {},
   "source": [
    "### Country Average Earnings 2010 - 2021 as DF, Move to Database"
   ]
  },
  {
   "cell_type": "code",
   "execution_count": null,
   "id": "568b6435-7e83-45aa-8e73-26193381bff8",
   "metadata": {},
   "outputs": [],
   "source": [
    "# index = [2010, 2011, 2012, 2013, 2014, 2015, 2016, 2017, 2018, 2019, 2020, 2021]\n",
    "data = [[2010, 25370], [2011, 25896], [2012, 26312], [2013, 26884], [2014, 26936], [2015, 27404], [2016, 28028], \\\n",
    "        [2017, 28600], [2018, 29536], [2019, 30420], [2020,30472], [2021, 31772]]\n",
    "\n",
    "average_country_earnings_df = pd.DataFrame(data=data, columns=[\"YEAR\", \"MEAN_INCOME_GBP_COUNTRY\"])\n",
    "\n",
    "# average_country_earnings_df.info()"
   ]
  },
  {
   "cell_type": "markdown",
   "id": "2012938a-e341-4bc7-9bf6-6e03a20e1362",
   "metadata": {
    "tags": []
   },
   "source": [
    "## Build the Data"
   ]
  },
  {
   "cell_type": "markdown",
   "id": "703da30b-0a1f-4771-b981-aea7fa058733",
   "metadata": {
    "tags": []
   },
   "source": [
    "### Search Critera & DAO Access to get all required data"
   ]
  },
  {
   "cell_type": "code",
   "execution_count": null,
   "id": "11f4f262-f800-484a-8be2-263e7c41cb77",
   "metadata": {},
   "outputs": [],
   "source": [
    "year_from = 2010\n",
    "year_to   = 2021\n",
    "city      = \"London\"\n",
    "borough   = \"Islington\"\n",
    "borough   = \"Barking and Dagenham\"\n",
    "borough   = \"City of London\"       # Highest\n",
    "borough   = \"Richmond upon Thames\" # Middle\n",
    "# borough   = \"Sutton\"               # Lowest\n",
    "# borough   = \"Kingston upon Thames\" # Some Estimated\n",
    "borough   = \"Croydon\" # Some Estimated\n",
    "ward_name = \"\"\n",
    "\n",
    "# What do we have? We are only using the max for now\n",
    "earnings_min_max_year_df = dao_fac.earnings_min_max_year(db_conn)\n",
    "\n",
    "log.debug(earnings_min_max_year_df)\n",
    "\n",
    "earnings_year_from = year_from\n",
    "earnings_year_to   = year_to\n",
    "\n",
    "earnings_year_min = earnings_min_max_year_df[\"MIN_YEAR\"].values[0]\n",
    "earnings_year_max = earnings_min_max_year_df[\"MAX_YEAR\"].values[0]\n",
    "\n",
    "earnings_year_from_orig = earnings_year_from\n",
    "earnings_year_to_orig = earnings_year_to\n",
    "\n",
    "if earnings_year_from < int(earnings_year_min):\n",
    "    earnings_year_from = int(earnings_year_min)\n",
    "elif earnings_year_from > int(earnings_year_max):\n",
    "    earnings_year_from = int(earnings_year_max)\n",
    "\n",
    "if earnings_year_to > int(earnings_year_max):\n",
    "    earnings_year_to = int(earnings_year_max)\n",
    "elif earnings_year_to < int(earnings_year_min):\n",
    "    earnings_year_to = int(earnings_year_min)\n",
    "\n",
    "log.debug(f\"earnings orig_year_to    :{earnings_year_to_orig}\")\n",
    "log.debug(f\"earnings search_year_to  :{earnings_year_to}\")\n",
    "\n",
    "search_term = {\"year_from\":earnings_year_from,\n",
    "               \"year_to\"  :earnings_year_to,\n",
    "               \"borough\"  :borough,\n",
    "               \"ward_name\":ward_name}\n",
    "\n",
    "\n",
    "## DATAFRAME\n",
    "borough_earnings_ranking_by_year_df = dao_fac.earnings_ranked_by_borough_years(db_conn, search_term)\n",
    "\n",
    "## MIN TO MAX YEARS TO SCROLL THROUGH\n",
    "unique_years = borough_earnings_ranking_by_year_df[\"YEAR\"].unique().tolist()\n",
    "\n",
    "log.debug(f\"orig_year_from  :{earnings_year_from_orig}\")\n",
    "log.debug(f\"orig_year_to    :{earnings_year_to_orig}\")\n",
    "\n",
    "log.debug(f\"search_year_from:{earnings_year_from}\")\n",
    "log.debug(f\"search_year_to  :{earnings_year_to}\")\n",
    "\n"
   ]
  },
  {
   "cell_type": "code",
   "execution_count": null,
   "id": "b2a4f453-5acd-4f5a-838d-034599ab9db5",
   "metadata": {},
   "outputs": [],
   "source": [
    "earnings_changed_search_date_dates     = f\"The new date is {earnings_year_to}\" if earnings_year_from == earnings_year_to else \\\n",
    "                                         f\"The new dates are {earnings_year_from} to {earnings_year_to}\"\n",
    "\n",
    "earnings_changed_search_s              = f\" was\" if earnings_year_from == earnings_year_to else \\\n",
    "                                         f\"s were\"\n",
    "\n",
    "earnings_changed_search_date_narrative = f\"Your original search date{earnings_changed_search_s} changed to match the date range of the earnings data. {earnings_changed_search_date_dates}\" \\\n",
    "                                         if ((earnings_year_from != earnings_year_from_orig) or \\\n",
    "                                             (earnings_year_to   != earnings_year_to_orig)) else \"\"\n",
    "\n",
    "log.debug(f\"\\n{earnings_changed_search_date_narrative}\")"
   ]
  },
  {
   "cell_type": "markdown",
   "id": "b703e9ac-b312-486b-a164-42cedcc1679d",
   "metadata": {
    "tags": []
   },
   "source": [
    "### Build Data For the Plot"
   ]
  },
  {
   "cell_type": "code",
   "execution_count": null,
   "id": "287b85f2-9e99-42f8-9d04-6d4a9f791ad7",
   "metadata": {},
   "outputs": [],
   "source": [
    "index = []\n",
    "data  = []\n",
    "columns = [\"CITY_MAX_IN_YEAR\", \"CITY_MEAN_IN_YEAR\", \"CITY_MIN_IN_YEAR\", \"BOROUGH_MEAN_IN_YEAR\", \"ACTUAL_ESTIMATE\", \"COUNTRY_MEAN_IN_YEAR\"]\n",
    "\n",
    "unique_years_plot = sorted(unique_years)\n",
    "\n",
    "for year in unique_years_plot:\n",
    "    data_row = []\n",
    "    city_max_in_year     = borough_earnings_ranking_by_year_df[borough_earnings_ranking_by_year_df[\"YEAR\"] == year][\"MEAN_INCOME_GBP_BOROUGH\"].max()\n",
    "    city_mean_in_year    = borough_earnings_ranking_by_year_df[borough_earnings_ranking_by_year_df[\"YEAR\"] == year][\"MEAN_INCOME_GBP_BOROUGH\"].mean()\n",
    "    city_min_in_year     = borough_earnings_ranking_by_year_df[borough_earnings_ranking_by_year_df[\"YEAR\"] == year][\"MEAN_INCOME_GBP_BOROUGH\"].min()\n",
    "    borough_mean_in_year = borough_earnings_ranking_by_year_df[(borough_earnings_ranking_by_year_df[\"YEAR\"] == year) &\n",
    "                                                             (borough_earnings_ranking_by_year_df[\"BOROUGH\"] == borough)][\"MEAN_INCOME_GBP_BOROUGH\"].values[0]\n",
    "    borough_actual_estimate_in_year = borough_earnings_ranking_by_year_df[(borough_earnings_ranking_by_year_df[\"YEAR\"] == year) &\n",
    "                                                             (borough_earnings_ranking_by_year_df[\"BOROUGH\"] == borough)][\"MEAN_INCOME_ACTUAL_ESTIMATED\"].values[0]\n",
    "    country_mean_in_year = average_country_earnings_df[average_country_earnings_df[\"YEAR\"] == int(year)][\"MEAN_INCOME_GBP_COUNTRY\"].values[0]\n",
    "        \n",
    "    max_in_year_fmt          = \"£{:,.0f}\".format(city_max_in_year)\n",
    "    mean_in_year_fmt         = \"£{:,.0f}\".format(city_mean_in_year)\n",
    "    min_in_year_fmt          = \"£{:,.0f}\".format(city_min_in_year)\n",
    "    borough_mean_in_year_fmt = \"£{:,.0f}\".format(borough_mean_in_year)\n",
    "    country_mean_in_year_fmt = \"£{:,.0f}\".format(country_mean_in_year)\n",
    "        \n",
    "    index.append(year)\n",
    "    data_row.append(city_max_in_year)\n",
    "    data_row.append(city_mean_in_year)\n",
    "    data_row.append(city_min_in_year)\n",
    "    data_row.append(borough_mean_in_year)\n",
    "    data_row.append(borough_actual_estimate_in_year)\n",
    "    data_row.append(country_mean_in_year)\n",
    "    data.append(data_row)\n",
    "    # log.debug(f\"[{borough}]-{year} - borough mean:{borough_mean_in_year_fmt} - city max:{max_in_year_fmt} - city mean:{mean_in_year_fmt} - city min:{min_in_year_fmt} - country mean:{country_mean_in_year_fmt}\")\n",
    "    \n",
    "earning_ts_df = pd.DataFrame(data=data, index=index, columns=columns)    \n",
    "earning_ts_df[\"Year\"] = earning_ts_df.index\n",
    "\n",
    "## Estimated or Actual\n",
    "earning_ts_estimated_df = None\n",
    "earning_ts_estimated_df = earning_ts_df[earning_ts_df[\"ACTUAL_ESTIMATE\"] == \"e\"][[\"BOROUGH_MEAN_IN_YEAR\", \"ACTUAL_ESTIMATE\"]]\n",
    "earning_ts_estimated_df[\"Year\"] = earning_ts_estimated_df.index\n"
   ]
  },
  {
   "cell_type": "code",
   "execution_count": null,
   "id": "f56d6d39-b9e1-4eef-8889-9df8551de676",
   "metadata": {},
   "outputs": [],
   "source": [
    "earning_ts_df\n",
    "# earning_ts_estimated_df"
   ]
  },
  {
   "cell_type": "markdown",
   "id": "4499e668-e81f-4f80-bf42-1562db9bb645",
   "metadata": {
    "tags": []
   },
   "source": [
    "## Build the Time Series Plot"
   ]
  },
  {
   "cell_type": "markdown",
   "id": "cc56919f-7045-4c26-bb43-47c5f3fada5e",
   "metadata": {
    "tags": []
   },
   "source": [
    "### Text Description of Plot"
   ]
  },
  {
   "cell_type": "code",
   "execution_count": null,
   "id": "3251c4d2-8fed-42e6-aeb8-321a62c53f78",
   "metadata": {},
   "outputs": [],
   "source": [
    "earnings_plot_desctiption_year_range = f\"between {earnings_year_from} and {earnings_year_to}\" if earnings_year_to != earnings_year_from else f\"for {earnings_year_to}\"\n",
    "earnings_plot_description_narrative = f\"The graph below compares the average earnings in the {city} borough of {borough} {earnings_plot_desctiption_year_range}.\"\n",
    "log.debug(f\"\\n{earnings_plot_description_narrative}\")"
   ]
  },
  {
   "cell_type": "markdown",
   "id": "f03401e0-1f09-44df-98b0-11b348440cd4",
   "metadata": {
    "tags": []
   },
   "source": [
    "### Earnings Time Series Plot"
   ]
  },
  {
   "cell_type": "code",
   "execution_count": null,
   "id": "8af4e631-13b7-493a-84d3-7d974e4b5741",
   "metadata": {},
   "outputs": [],
   "source": [
    "import seaborn as sns\n",
    "import matplotlib.pyplot as plt\n",
    "import matplotlib.ticker as ticker\n",
    "\n",
    "\n",
    "x_fig_size = 15\n",
    "y_fig_size = 8\n",
    "\n",
    "## Set the size\n",
    "sns.set(rc={\"figure.figsize\":(x_fig_size, y_fig_size)})\n",
    "\n",
    "## Set the theme\n",
    "sns.set_style(\"whitegrid\")\n",
    "\n",
    "marker = \"\" if year_from != year_to else \"o\"\n",
    "\n",
    "fig, ax = plt.subplots()\n",
    "sns.lineplot(data=earning_ts_df, x=\"Year\", y=\"CITY_MAX_IN_YEAR\",     ax=ax, label=f\"{city} Max.\",   color='blue', marker=marker)\n",
    "sns.lineplot(data=earning_ts_df, x=\"Year\", y=\"CITY_MEAN_IN_YEAR\",    ax=ax, label=f\"{city} Avg.\",    color='green', marker=marker)\n",
    "sns.lineplot(data=earning_ts_df, x=\"Year\", y=\"CITY_MIN_IN_YEAR\",     ax=ax, label=f\"{city} Min.\",    color='red', marker=marker)\n",
    "sns.lineplot(data=earning_ts_df, x=\"Year\", y=\"BOROUGH_MEAN_IN_YEAR\", ax=ax, label=f\"{borough} Avg.\", color='orange', marker=marker)\n",
    "sns.scatterplot(data=earning_ts_estimated_df, x=\"Year\", y=\"BOROUGH_MEAN_IN_YEAR\", ax=ax, label=f\"{borough} Avg. Estimated\", color=\"orange\", s=200)\n",
    "sns.lineplot(data=earning_ts_df, x=\"Year\", y=\"COUNTRY_MEAN_IN_YEAR\", ax=ax, label=f\"Country Avg.\", color='grey', marker=marker)\n",
    "\n",
    "plot_title = \"Earnings  between {} and {}\".format(earnings_year_from, earnings_year_to) if earnings_year_from != earnings_year_to else \\\n",
    "             \"Earnings for {}\".format(earnings_year_to)\n",
    "\n",
    "ax.set_title(plot_title, fontsize=20)\n",
    "ax.set_ylabel(\"Earnings (GBP)\", fontsize=20)\n",
    "ax.set_xlabel(\"Year\", fontsize=20)\n",
    "\n",
    "ax.legend(title=\"legend\")\n",
    "ax.legend(loc=\"upper right\")\n",
    "plt.legend(bbox_to_anchor=(1.05, 1), loc=2, borderaxespad=0.)\n",
    "\n",
    "ax.yaxis.set_major_formatter(ticker.StrMethodFormatter('{x:,.0f}'))\n",
    "\n",
    "for line in ax.get_lines():\n",
    "    line.set_linewidth(5)\n",
    "    line.set_ms(10)\n",
    "\n",
    "ax.grid(False)\n",
    "plt.yticks(fontsize=20)\n",
    "plt.xticks(fontsize=20)\n",
    "\n",
    "plt.tight_layout()\n",
    "\n",
    "earnings_plot = plt.gcf()\n",
    "\n",
    "# plt.show()\n",
    "\n"
   ]
  },
  {
   "cell_type": "markdown",
   "id": "b625af3f-28fe-4adf-ab6b-30fcf5b0f81d",
   "metadata": {
    "tags": []
   },
   "source": [
    "### Earnings Time Series Narrative"
   ]
  },
  {
   "cell_type": "code",
   "execution_count": null,
   "id": "cbead39b-e520-4430-abea-e586f001c066",
   "metadata": {},
   "outputs": [],
   "source": [
    "## The maximum year from the data set\n",
    "earnings_latest_year = average_country_earnings_df[\"YEAR\"].max()\n",
    "earnings_latest_year = year_to\n",
    "\n",
    "## The Average earnings across all the boroughs for that year\n",
    "borough_earnings_ranking_filtered_max_year_df =  borough_earnings_ranking_by_year_df[borough_earnings_ranking_by_year_df[\"YEAR\"].astype(int) == earnings_year_to]\n",
    "\n",
    "\n",
    "latest_city_max_mean_salary     = borough_earnings_ranking_filtered_max_year_df[\"MEAN_INCOME_GBP_BOROUGH\"].max()\n",
    "latest_city_mean_mean_salary    = borough_earnings_ranking_filtered_max_year_df[\"MEAN_INCOME_GBP_BOROUGH\"].mean()\n",
    "latest_borough_mean_salary      = borough_earnings_ranking_filtered_max_year_df[borough_earnings_ranking_filtered_max_year_df[\"BOROUGH\"] == borough][\"MEAN_INCOME_GBP_BOROUGH\"].values[0]\n",
    "latest_city_min_mean_salary     = borough_earnings_ranking_filtered_max_year_df[\"MEAN_INCOME_GBP_BOROUGH\"].min()\n",
    "latest_country_mean_mean_salary = average_country_earnings_df[average_country_earnings_df[\"YEAR\"] == earnings_year_to][\"MEAN_INCOME_GBP_COUNTRY\"].values[0]\n",
    "\n",
    "\n",
    "def prepend(a, b):\n",
    "  ret_val = \"\"\n",
    "  if a > b:\n",
    "    ret_val = \"significantly \" if a/b >= 2.0 else \"\"\n",
    "  elif a < b:\n",
    "    ret_val = \"significantly \" if b/a >= 2.0 else \"\"\n",
    "  return ret_val\n",
    "\n",
    "def above_below_equal(a, b):\n",
    "    ret_val = \"\"\n",
    "    if a > b:\n",
    "        if a/b <= 1.1:\n",
    "            ret_val = \"comparable to\"\n",
    "        else:\n",
    "            ret_val = \"above\"\n",
    "    elif a < b:\n",
    "        if b/a <= 1.1:\n",
    "            ret_val = \"comparable to\"\n",
    "        else:\n",
    "            ret_val = \"below\"\n",
    "    else:\n",
    "        ret_val = \"equal to\"\n",
    "\n",
    "    return ret_val\n",
    "\n",
    "\n",
    "## Format the latest for the text\n",
    "### City\n",
    "latest_city_max_mean_salary_fmt     = \"£{:,.0f}\".format(float(latest_city_max_mean_salary))\n",
    "latest_city_mean_mean_salary_fmt    = \"£{:,.0f}\".format(float(latest_city_mean_mean_salary))\n",
    "latest_borough_mean_salary_fmt      = \"£{:,.0f}\".format(float(latest_borough_mean_salary))\n",
    "latest_city_min_mean_salary_fmt     = \"£{:,.0f}\".format(float(latest_city_min_mean_salary))\n",
    "### Country\n",
    "latest_country_mean_mean_salary_fmt = \"£{:,.0f}\".format(float(latest_country_mean_mean_salary))\n",
    "\n",
    "## Preamble\n",
    "part_01 = f\"The {earnings_year_to} earnings in {borough} are {latest_borough_mean_salary_fmt}\"\n",
    "\n",
    "## CITY BOROUGH MEAN COMPARE TO CITY MEAN MEAN [X]\n",
    "mean_explanation = f\"{prepend(latest_borough_mean_salary, latest_city_mean_mean_salary)}{above_below_equal(latest_borough_mean_salary, latest_city_mean_mean_salary)}\"\n",
    "part_02 = f\". This is {mean_explanation} the average for {city} in the same period of {latest_city_mean_mean_salary_fmt}\"\n",
    "\n",
    "# CITY BOROUGH MEAN COMPARE TO CITY MAX MEAN [X]\n",
    "max_explanation = f\"{prepend(latest_borough_mean_salary, latest_city_max_mean_salary)}{above_below_equal(latest_borough_mean_salary, latest_city_max_mean_salary)}\"\n",
    "part_03 = f\" and is {max_explanation} the average maximum of {latest_city_max_mean_salary_fmt}\"\n",
    "\n",
    "# average across {city} for the same period of {latest_city_max_mean_salary_fmt}\"\n",
    "\n",
    "## CITY BOROUGH MEAN COMPARE TO CITY MIN MEAN [X]\n",
    "min_explanation = f\"{prepend(latest_borough_mean_salary, latest_city_min_mean_salary)}{above_below_equal(latest_borough_mean_salary, latest_city_min_mean_salary)}\"\n",
    "part_04 = f\". It is {min_explanation} the average minimum of {latest_city_min_mean_salary_fmt}\"\n",
    "\n",
    "## CITY BOROUGH MEAN COMPARE TO COUNTRY MEAN MEAN [X] \n",
    "country_mean_explanation = f\"{prepend(latest_borough_mean_salary, latest_country_mean_mean_salary)}{above_below_equal(latest_borough_mean_salary, latest_country_mean_mean_salary)}\"\n",
    "part_05 = f\" and is {country_mean_explanation} the country average of {latest_country_mean_mean_salary_fmt}.\"\n",
    "\n",
    "\n",
    "\n",
    "from scipy import stats\n",
    "y = [earning_ts_df[\"BOROUGH_MEAN_IN_YEAR\"].tolist()]\n",
    "x = earning_ts_df.index.astype(int).tolist()\n",
    "\n",
    "part_06 = \"\"\n",
    "\n",
    "if len(x) >= 3:\n",
    "\n",
    "    log.debug(y)\n",
    "    log.debug(x)\n",
    "\n",
    "\n",
    "    slope, intercept, r, p, std_err = stats.linregress(x, y)\n",
    "\n",
    "    if slope == 0:\n",
    "        rate = \"has remained level\"\n",
    "    elif slope > 0:    \n",
    "        if slope >= 0.1:\n",
    "            rate = \"has slightly increased\"\n",
    "        elif slope >=  0.5:\n",
    "            rate = \"has moderatly increased\"\n",
    "        else:\n",
    "            rate = \"has greatly increased\"\n",
    "    else:\n",
    "        if slope <= - 0.1:\n",
    "            rate = \"has slightly decreased\"\n",
    "        elif slope <= - 0.5:\n",
    "            rate = \"has moderatly decreased\"\n",
    "        else:\n",
    "            rate = \"has greatly decreasd\"\n",
    "\n",
    "\n",
    "    part_06 = f\" Over the period {earnings_year_from} to {earnings_year_to} average earnings in {borough} {rate}.\"\n",
    "\n",
    "part_07 = f\"\"\n",
    "\n",
    "if not earning_ts_estimated_df.empty:\n",
    "    estimated_list = earning_ts_estimated_df.index.to_list()\n",
    "    year_prefix = \"the \" if len(estimated_list) == 1 else \"\"\n",
    "    year_suffix = \"\" if len(estimated_list) == 1 else \"s\"\n",
    "    estimated_prefix = \"is\" if len(estimated_list) == 1 else \"are\"\n",
    "    \n",
    "    part_07 = f\" Please note that the earnings for {year_prefix}year{year_suffix} {sd_formatting.series_format(estimated_list)} {estimated_prefix} estimated.\"\n",
    "    \n",
    "### Put them all together  [ ]\n",
    "earnings_narrative = f\"{part_01}{part_02}{part_03}{part_04}{part_05}{part_06}{part_07}\"\n",
    "\n",
    "log.debug(f\"\\n{earnings_narrative}\")\n"
   ]
  },
  {
   "cell_type": "code",
   "execution_count": null,
   "id": "b3ca9493-5206-4baf-9e2f-33aad71312a8",
   "metadata": {},
   "outputs": [],
   "source": [
    "borough_earnings_ranking_filtered_max_year_df"
   ]
  },
  {
   "cell_type": "markdown",
   "id": "bf8fde29-7dcb-4a3e-bf05-1344989864b2",
   "metadata": {},
   "source": [
    "## Build Bump Chart Plot"
   ]
  },
  {
   "cell_type": "code",
   "execution_count": null,
   "id": "9f90bdcb-bc9b-49ee-a309-77d8ab1f7337",
   "metadata": {},
   "outputs": [],
   "source": [
    "years_sorted = borough_earnings_ranking_by_year_df[\"YEAR\"].sort_values().drop_duplicates()\n",
    "first_year = years_sorted.iloc[0]\n",
    "borough_sort_order = borough_earnings_ranking_by_year_df.loc[borough_earnings_ranking_by_year_df[\"YEAR\"]==first_year][\"BOROUGH\"]\n",
    "top_borough = borough_sort_order.iloc[0]\n",
    "mid_borough = borough_sort_order.iloc[16]\n",
    "bottom_borough = borough_sort_order.iloc[-1]\n",
    "\n",
    "## Loop through the boroughs in the sort order of first year\n",
    "all_borough_ranking_by_year = []\n",
    "\n",
    "## BOROUGH LOOP\n",
    "for _borough in borough_sort_order:\n",
    "\n",
    "    borough_ranking_by_year_list = []\n",
    "\n",
    "    ## Add the Borough\n",
    "    borough_ranking_by_year_list.append(_borough)\n",
    "\n",
    "    ## YEAR LOOP\n",
    "    for year in years_sorted:\n",
    "\n",
    "        borough_ranking_for_year = borough_earnings_ranking_by_year_df.loc[(borough_earnings_ranking_by_year_df[\"BOROUGH\"]==_borough) &\n",
    "                                                                           (borough_earnings_ranking_by_year_df[\"YEAR\"]==year)][\"RANK\"].values[0]\n",
    "\n",
    "        borough_ranking_by_year_list.append(borough_ranking_for_year)\n",
    "\n",
    "    all_borough_ranking_by_year.append(borough_ranking_by_year_list)\n",
    "\n",
    "columns = [\"Borough\"] + list(years_sorted)\n",
    "\n",
    "all_borough_ranking_by_year_df = pd.DataFrame(all_borough_ranking_by_year, columns=columns).set_index(\"Borough\")\n",
    "\n",
    "tmb_borough_ranking_by_year_df = all_borough_ranking_by_year_df.copy()\n"
   ]
  },
  {
   "cell_type": "markdown",
   "id": "9df579de-3132-446a-a5fb-c46506a022ad",
   "metadata": {},
   "source": [
    "### Earnings Time Series Bump Chart Narrative"
   ]
  },
  {
   "cell_type": "code",
   "execution_count": null,
   "id": "bfe74998-7c8f-44db-8adf-a373ed4d010c",
   "metadata": {},
   "outputs": [],
   "source": [
    "earnings_bump_chart_date_range = f\"over the period {earnings_year_from} to {earnings_year_to}\" if earnings_year_from != earnings_year_to else f\"for {earnings_year_to}\"\n",
    "\n",
    "earnings_bump_chart_narrative = f\"How {borough} ranks with the other London boroughs {earnings_bump_chart_date_range} can be seen below. Ranking is top to bottom, with the top representing the highest earnings.\"\n",
    "log.debug(f\"\\n{earnings_bump_chart_narrative}\")"
   ]
  },
  {
   "cell_type": "markdown",
   "id": "ab1de41c-f747-4f46-baeb-33de5d84bf26",
   "metadata": {
    "tags": []
   },
   "source": [
    "### Earnings Time Series Bump Chart"
   ]
  },
  {
   "cell_type": "code",
   "execution_count": null,
   "id": "4c4d7ef5-c4e9-453f-9bf5-c2830f55fde6",
   "metadata": {},
   "outputs": [],
   "source": [
    "####\n",
    "#### CREATE THE PLOTS - APPENDICES VERSION\n",
    "#### \n",
    "\n",
    "palette = sns.color_palette(cc.glasbey, n_colors=len(borough_sort_order))\n",
    "my_cmap = ListedColormap(sns.color_palette(palette).as_hex())\n",
    "ax = all_borough_ranking_by_year_df.T.plot(figsize=(20, 10), marker=\"o\",  ms=5, cmap=my_cmap)\n",
    "\n",
    "ax.grid(False)\n",
    "title = f\"Borough Rankings of Average Earnings {earnings_year_from} and {earnings_year_to}\" if earnings_year_from != earnings_year_to else \\\n",
    "        f\"Borough Rankings of Average Earnings in {earnings_year_to}\"\n",
    "\n",
    "ax.set_title(title, fontsize=20)\n",
    "\n",
    "plt.xticks(fontsize=10)\n",
    "\n",
    "## Generate labels from the Borough names for the Y Axis\n",
    "plt.yticks(range(1, len(borough_sort_order)+1), [borough_sort_order.iloc[i] for i in range(len(borough_sort_order))])\n",
    "plt.yticks(fontsize=15)\n",
    "\n",
    "plt.gca().invert_yaxis()\n",
    "plt.gca().get_legend().remove()\n",
    "\n",
    "for line in ax.get_lines():\n",
    "    # if (line.get_label() == borough) or (line.get_label() == top_borough) or (line.get_label() == mid_borough) or (line.get_label() == bottom_borough):\n",
    "    if (line.get_label() == borough) or (line.get_label() == top_borough) or (line.get_label() == bottom_borough):\n",
    "        line.set_linewidth(5)\n",
    "        line.set_ms(10)\n",
    "    else:\n",
    "        line.set_linewidth(2)\n",
    "        line.set_ms(4)\n",
    "        line.set_alpha(0.3)\n",
    "\n",
    "earnings_bump_plot = plt.gcf()         \n",
    "# plt.show(block=True)\n",
    "    "
   ]
  },
  {
   "cell_type": "markdown",
   "id": "92ad68f3-9a75-4977-a11f-20eefa6d0f42",
   "metadata": {},
   "source": [
    "### Build the table for year on year benchmark salaries"
   ]
  },
  {
   "cell_type": "code",
   "execution_count": null,
   "id": "190fbfbb-3a16-450b-b4b9-d9d14fc32194",
   "metadata": {},
   "outputs": [],
   "source": [
    "# earning_ts_df\n",
    "\n",
    "# all_borough_ranking_by_year_df\n",
    "\n",
    "## Change the order of unique years back to Descednding\n",
    "\n",
    "earnings_benchamark_data = []\n",
    "\n",
    "## Loop through the years to create our data frame for benchmarking\n",
    "\n",
    "unique_years_bench = sorted(unique_years, reverse=True)\n",
    "\n",
    "for year in unique_years_bench:\n",
    "  ## Vertical Slice  \n",
    "  borough_year_data = all_borough_ranking_by_year_df[year] \n",
    "  ## Loop through each borough\n",
    "  idx = 0;\n",
    "  \n",
    "  ## Add uear to the dataframe row\n",
    "  earnings_benchmark_data_row = []\n",
    "  earnings_benchmark_data_row.append(str(year))\n",
    "\n",
    "  for earnings_borough in borough_year_data.index:\n",
    "    ranking = borough_year_data[idx]     \n",
    "    borough_max_min_earnings_year = earning_ts_df[earning_ts_df[\"Year\"].astype(int) == int(year)][[\"CITY_MAX_IN_YEAR\", \"CITY_MIN_IN_YEAR\"]]\n",
    "    \n",
    "    max_borough_earnings_for_year = borough_max_min_earnings_year[\"CITY_MAX_IN_YEAR\"]\n",
    "    max_borough_earnings_for_year_fmt = \"£{:,.0f}\".format(float(max_borough_earnings_for_year))\n",
    "    \n",
    "    min_borough_earnings_for_year = borough_max_min_earnings_year[\"CITY_MIN_IN_YEAR\"]\n",
    "    min_borough_earnings_for_year_fmt = \"£{:,.0f}\".format(float(min_borough_earnings_for_year))\n",
    "\n",
    "    # log.debug(ranking)\n",
    "    if ranking == 1:\n",
    "      max_str = f\"{earnings_borough} - {max_borough_earnings_for_year_fmt}\"\n",
    "    \n",
    "    if ranking == 33:\n",
    "      min_str = f\"{earnings_borough} - {min_borough_earnings_for_year_fmt}\"\n",
    "    \n",
    "    idx += 1\n",
    "    \n",
    "  ## Lowest borough in year\n",
    "  earnings_benchmark_data_row.append(min_str)\n",
    "  \n",
    "  ## Our borough's \n",
    "  search_borough_avg_earnings_year = earning_ts_df[earning_ts_df[\"Year\"] == year][\"BOROUGH_MEAN_IN_YEAR\"].values[0]\n",
    "  search_borough_avg_earnings_year_fmt = \"£{:,.0f}\".format(float(search_borough_avg_earnings_year))\n",
    "  earnings_benchmark_data_row.append(search_borough_avg_earnings_year_fmt)\n",
    "\n",
    "  ## Highest borough in year\n",
    "  earnings_benchmark_data_row.append(max_str)\n",
    "  \n",
    "  earnings_benchamark_data.append(earnings_benchmark_data_row)\n",
    "  \n",
    "  earnings_benchamark_data_df = pd.DataFrame(data=earnings_benchamark_data, columns=[\"Year\", \"Borough with Lowest Avg. Earnings\", f\"{borough} Avg. Earnings\", \"Borough with Highest Avg. Earnings\"])\n",
    "  earnings_benchamark_data_df = earnings_benchamark_data_df.set_index(\"Year\")\n",
    "    \n",
    "    \n",
    "from IPython.display import HTML\n",
    "styles = [\n",
    "  dict(selector=\"tr\", props=[(\"font-size\", \"120%\"),\n",
    "                             (\"text-align\", \"right\")])\n",
    "]\n",
    "\n",
    "earnings_benchamark_data_df_html = (earnings_benchamark_data_df.style.set_table_styles(styles))\n"
   ]
  },
  {
   "cell_type": "code",
   "execution_count": null,
   "id": "e2ffe1a8-5d43-46a1-b13b-7a965d04248a",
   "metadata": {},
   "outputs": [],
   "source": [
    "earning_ts_df"
   ]
  },
  {
   "cell_type": "code",
   "execution_count": null,
   "id": "14b905ba-9613-49f2-83c7-4f38bdb256fd",
   "metadata": {},
   "outputs": [],
   "source": [
    "earnings_ranking_chart_narrative = f\"The table below shows the borough average earnings rankings for each year\"\n",
    "log.debug(f\"\\n{earnings_ranking_chart_narrative}\")"
   ]
  },
  {
   "cell_type": "code",
   "execution_count": null,
   "id": "4eb51550-0daf-4250-8515-5f3ba2bf1e14",
   "metadata": {},
   "outputs": [],
   "source": [
    "earnings_benchamark_data_df_html"
   ]
  },
  {
   "cell_type": "markdown",
   "id": "4b6ea532-df7c-4886-b093-4f8f8e176405",
   "metadata": {},
   "source": [
    "# REPORT PAGE"
   ]
  },
  {
   "cell_type": "code",
   "execution_count": null,
   "id": "26a9dafd-f79b-4a7e-a0a1-52efc01c35d0",
   "metadata": {},
   "outputs": [],
   "source": [
    "print(earnings_changed_search_date_narrative) #If it isn't altered this line doesn't show\n",
    "print(earnings_plot_description_narrative)"
   ]
  },
  {
   "cell_type": "code",
   "execution_count": null,
   "id": "d95e75a6-3848-456d-870f-7b8cca460666",
   "metadata": {},
   "outputs": [],
   "source": [
    "earnings_plot\n"
   ]
  },
  {
   "cell_type": "code",
   "execution_count": null,
   "id": "fd673acb-e75d-48de-a51b-fa5cbd5065f3",
   "metadata": {},
   "outputs": [],
   "source": [
    "print(earnings_narrative)\n",
    "print(\"\")\n",
    "print(earnings_bump_chart_narrative)"
   ]
  },
  {
   "cell_type": "code",
   "execution_count": null,
   "id": "8bf5e05b-ded7-4188-9d54-93352a7c31f6",
   "metadata": {},
   "outputs": [],
   "source": [
    "earnings_bump_plot"
   ]
  },
  {
   "cell_type": "code",
   "execution_count": null,
   "id": "f6de86a6-6e4f-4ddb-be2c-a5f851af35be",
   "metadata": {},
   "outputs": [],
   "source": [
    "print(earnings_ranking_chart_narrative)"
   ]
  },
  {
   "cell_type": "code",
   "execution_count": null,
   "id": "865483ad-a504-4384-95b6-1dadb209bc0a",
   "metadata": {},
   "outputs": [],
   "source": [
    "earnings_benchamark_data_df_html"
   ]
  }
 ],
 "metadata": {
  "kernelspec": {
   "display_name": "Python 3 (ipykernel)",
   "language": "python",
   "name": "python3"
  },
  "language_info": {
   "codemirror_mode": {
    "name": "ipython",
    "version": 3
   },
   "file_extension": ".py",
   "mimetype": "text/x-python",
   "name": "python",
   "nbconvert_exporter": "python",
   "pygments_lexer": "ipython3",
   "version": "3.10.2"
  }
 },
 "nbformat": 4,
 "nbformat_minor": 5
}
