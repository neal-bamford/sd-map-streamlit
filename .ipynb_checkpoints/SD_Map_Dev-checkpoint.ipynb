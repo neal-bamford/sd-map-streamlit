{
 "cells": [
  {
   "cell_type": "code",
   "execution_count": 72,
   "id": "94d0fbe3-3250-4f17-8fef-b75a7271f00d",
   "metadata": {},
   "outputs": [],
   "source": [
    "import pandas as pd\n",
    "import numpy as np\n",
    "from lib import masters_data_analytics_lib as mlib\n",
    "from lib import stats as stats"
   ]
  },
  {
   "cell_type": "code",
   "execution_count": 150,
   "id": "d3a8b9e5-43d2-45c2-bddd-3e590c4d7a3d",
   "metadata": {},
   "outputs": [],
   "source": [
    "## City\n",
    "city = \"london\"\n",
    "search_term = \"E1 6AN\"\n",
    "\n",
    "##\n",
    "## LOAD ALL THE DATA FILES\n",
    "##\n",
    "## London Post Codes\n",
    "sd_london_postcodes_file = \"./data/streamlit_{}_postcodes_oa.csv\".format(city)\n",
    "sd_london_population_oa_file = \"./data/streamlit_{}_population_oa.csv\".format(city)\n",
    "sd_london_household_oa_file = \"./data/streamlit_{}_household_population_oa.csv\".format(city)\n",
    "sd_london_qualification_oa_file = \"./data/streamlit_{}_qualifictation_population_oa.csv\".format(city)\n",
    "\n",
    "sd_london_population_oa_df   = mlib.csv_to_dataframe(sd_london_population_oa_file)\n",
    "sd_london_postcodes_df = mlib.csv_to_dataframe(sd_london_postcodes_file)\n",
    "sd_london_household_oa_df   = mlib.csv_to_dataframe(sd_london_household_oa_file)\n",
    "sd_london_qualification_oa_df   = mlib.csv_to_dataframe(sd_london_qualification_oa_file) \n"
   ]
  },
  {
   "cell_type": "code",
   "execution_count": 151,
   "id": "71a697e6-21fd-4a24-824a-629b66f59f0d",
   "metadata": {},
   "outputs": [],
   "source": [
    "try:\n",
    "    OAcode = sd_london_postcodes_df.loc[sd_london_postcodes_df[\"Post_Code\"] == search_term][\"OAcode\"].values[0]\n",
    "except:\n",
    "    raise Exception(\"Unable to find post code {}\".format(search_term))\n",
    "\n",
    "other_post_codes = sd_london_postcodes_df.loc[sd_london_postcodes_df[\"OAcode\"] == OAcode][\"Post_Code\"].to_numpy()\n",
    "other_post_codes = np.delete(other_post_codes, np.where(other_post_codes == search_term))\n",
    "number_of_boroughs = len(sd_london_postcodes_df[\"borough\"].unique())\n",
    "\n",
    "\n",
    "## Obtain the ward_name from the OACode\n",
    "ward_name = sd_london_postcodes_df.loc[sd_london_postcodes_df[\"OAcode\"] == OAcode][\"WARD_NAME\"].values[0]\n",
    "borough   = sd_london_postcodes_df.loc[sd_london_postcodes_df['OAcode'] == OAcode][\"borough\"].values[0]\n",
    "\n",
    "other_wards = sd_london_postcodes_df.loc[sd_london_postcodes_df[\"borough\"] == borough][\"WARD_NAME\"]\n",
    "other_wards = other_wards.unique()\n",
    "other_wards = np.delete(other_wards, np.where(other_wards == borough))\n",
    "\n",
    "post_code_search_longitude = sd_london_postcodes_df.loc[sd_london_postcodes_df[\"Post_Code\"] == search_term][\"longitude\"].to_numpy()\n",
    "post_code_search_latitude = sd_london_postcodes_df.loc[sd_london_postcodes_df[\"Post_Code\"] == search_term][\"latitude\"].to_numpy()\n",
    "\n",
    "pc_longitudes = sd_london_postcodes_df.loc[sd_london_postcodes_df[\"borough\"] == borough][\"longitude\"].to_numpy()\n",
    "pc_latitudes  = sd_london_postcodes_df.loc[sd_london_postcodes_df[\"borough\"] == borough][\"latitude\"].to_numpy()\n"
   ]
  },
  {
   "cell_type": "code",
   "execution_count": 152,
   "id": "76b47e2d-9955-4732-b5f6-6bd4b5375479",
   "metadata": {},
   "outputs": [],
   "source": [
    "### Stats\n",
    "\n",
    "###\n",
    "### Population\n",
    "###\n",
    "pop_all_stats\t  = stats.generate_stats(sd_london_population_oa_df, borough, ward_name, OAcode, \"All\")\n",
    "pop_male_stats\t  = stats.generate_stats(sd_london_population_oa_df, borough, ward_name, OAcode, \"Males\")\n",
    "pop_female_stats  = stats.generate_stats(sd_london_population_oa_df, borough, ward_name, OAcode, \"Females\")\n",
    "pop_density_stats = stats.generate_stats(sd_london_population_oa_df, borough, ward_name, OAcode, \"DensityPPH\")\n"
   ]
  },
  {
   "cell_type": "code",
   "execution_count": 153,
   "id": "c9fd26cc-4391-4501-8281-31360b5e0171",
   "metadata": {},
   "outputs": [
    {
     "name": "stdout",
     "output_type": "stream",
     "text": [
      "55.0\n"
     ]
    }
   ],
   "source": [
    "### Male female ratio\n",
    "## OA\n",
    "pop_male_female_oa_total =pop_male_stats[\"oacode_sum\"] + pop_female_stats[\"oacode_sum\"]\n",
    "pop_male_oa_ratio = round(pop_male_stats[\"oacode_sum\"]/pop_male_female_oa_total * 100,0)\n",
    "pop_female_oa_ratio = round(pop_female_stats[\"oacode_sum\"]/pop_male_female_oa_total * 100,0)\n",
    "print(\"OA M:{} F:{}\".format(pop_male_oa_ratio, pop_female_oa_ratio))\n",
    "\n",
    "## Ward\n",
    "pop_male_female_ward_total =pop_male_stats[\"ward_sum\"] + pop_female_stats[\"ward_sum\"]\n",
    "pop_male_ward_ratio = round(pop_male_stats[\"ward_sum\"]/pop_male_female_oa_total * 100,0)\n",
    "pop_female_ward_ratio = round(pop_female_stats[\"ward_sum\"]/pop_male_female_oa_total * 100,0)\n",
    "\n",
    "## Borough\n",
    "pop_male_female_borough_total = pop_male_stats[\"borough_sum\"] + pop_female_stats[\"borough_sum\"]\n",
    "pop_male_borough_ratio = round(pop_male_stats[\"borough_sum\"]/pop_male_female_borough_total * 100,0)\n",
    "pop_female_borough_ratio = round(pop_female_stats[\"borough_sum\"]/pop_male_female_borough_total * 100,0)\n",
    "\n",
    "## Borough Average\n",
    "pop_male_female_city_borough_total = pop_male_stats[\"city_sum\"] + pop_female_stats[\"city_sum\"]\n",
    "pop_male_city_ratio = round(pop_male_stats[\"city_sum\"]/pop_male_female_city_borough_total * 100,0)\n",
    "pop_female_city_ratio = round(pop_female_stats[\"city_sum\"]/pop_male_female_city_borough_total * 100,0)\n",
    "\n",
    "print(pop_male_ratio)\n"
   ]
  },
  {
   "cell_type": "code",
   "execution_count": 88,
   "id": "1b5f87c2-cabe-4795-972d-c648cfb6454f",
   "metadata": {},
   "outputs": [
    {
     "data": {
      "image/png": "[encoded data removed]",
      "text/plain": [
       "<Figure size 432x288 with 1 Axes>"
      ]
     },
     "metadata": {
      "needs_background": "light"
     },
     "output_type": "display_data"
    }
   ],
   "source": [
    "import matplotlib.pyplot as plt\n",
    "\n",
    "# create data\n",
    "x = [\"Males Borough\", \"Males Borough Avg.\", \"Females Borough\", \"Females Borough Avg.\"]\n",
    "y1 = [pop_male_borough_ratio, pop_female_borough_ratio, pop_male_city_ratio, pop_female_city_ratio]\n",
    "  \n",
    "# plot bars in stack manner\n",
    "plt.bar(x, y1, color='r')\n",
    "# plt.bar(x, y2, bottom=y1, color='b')\n",
    "plt.show()"
   ]
  },
  {
   "cell_type": "code",
   "execution_count": 133,
   "id": "8cc7aa78-51a2-4b34-936f-427458491620",
   "metadata": {},
   "outputs": [
    {
     "ename": "ValueError",
     "evalue": "Length of names must match number of levels in MultiIndex.",
     "output_type": "error",
     "traceback": [
      "\u001b[1;31m---------------------------------------------------------------------------\u001b[0m",
      "\u001b[1;31mValueError\u001b[0m                                Traceback (most recent call last)",
      "Input \u001b[1;32mIn [133]\u001b[0m, in \u001b[0;36m<module>\u001b[1;34m\u001b[0m\n\u001b[0;32m     29\u001b[0m props \u001b[38;5;241m=\u001b[39m \u001b[38;5;28;01mlambda\u001b[39;00m key: {\u001b[38;5;124m'\u001b[39m\u001b[38;5;124mcolor\u001b[39m\u001b[38;5;124m'\u001b[39m: \u001b[38;5;124m'\u001b[39m\u001b[38;5;124morange\u001b[39m\u001b[38;5;124m'\u001b[39m \u001b[38;5;28;01mif\u001b[39;00m \u001b[38;5;124m'\u001b[39m\u001b[38;5;124mmale\u001b[39m\u001b[38;5;124m'\u001b[39m \u001b[38;5;129;01min\u001b[39;00m key \u001b[38;5;28;01melse\u001b[39;00m \u001b[38;5;124m'\u001b[39m\u001b[38;5;124mdeepskyblue\u001b[39m\u001b[38;5;124m'\u001b[39m}\n\u001b[0;32m     32\u001b[0m matrix \u001b[38;5;241m=\u001b[39m \u001b[38;5;28mlist\u001b[39m(product(names, options))\n\u001b[1;32m---> 34\u001b[0m index \u001b[38;5;241m=\u001b[39m \u001b[43mpd\u001b[49m\u001b[38;5;241;43m.\u001b[39;49m\u001b[43mMultiIndex\u001b[49m\u001b[38;5;241;43m.\u001b[39;49m\u001b[43mfrom_tuples\u001b[49m\u001b[43m(\u001b[49m\u001b[43mmatrix\u001b[49m\u001b[43m,\u001b[49m\u001b[43m \u001b[49m\u001b[43mnames\u001b[49m\u001b[38;5;241;43m=\u001b[39;49m\u001b[43mnames\u001b[49m\u001b[43m)\u001b[49m\n\u001b[0;32m     36\u001b[0m \u001b[38;5;28mprint\u001b[39m(index)\n\u001b[0;32m     38\u001b[0m data \u001b[38;5;241m=\u001b[39m pd\u001b[38;5;241m.\u001b[39mSeries(_data, index\u001b[38;5;241m=\u001b[39mindex)\n",
      "File \u001b[1;32mC:\\DISTRIBUTIONS\\Python\\Python3_10_2\\lib\\site-packages\\pandas\\core\\indexes\\multi.py:204\u001b[0m, in \u001b[0;36mnames_compat.<locals>.new_meth\u001b[1;34m(self_or_cls, *args, **kwargs)\u001b[0m\n\u001b[0;32m    201\u001b[0m \u001b[38;5;28;01melif\u001b[39;00m \u001b[38;5;124m\"\u001b[39m\u001b[38;5;124mname\u001b[39m\u001b[38;5;124m\"\u001b[39m \u001b[38;5;129;01min\u001b[39;00m kwargs:\n\u001b[0;32m    202\u001b[0m     kwargs[\u001b[38;5;124m\"\u001b[39m\u001b[38;5;124mnames\u001b[39m\u001b[38;5;124m\"\u001b[39m] \u001b[38;5;241m=\u001b[39m kwargs\u001b[38;5;241m.\u001b[39mpop(\u001b[38;5;124m\"\u001b[39m\u001b[38;5;124mname\u001b[39m\u001b[38;5;124m\"\u001b[39m)\n\u001b[1;32m--> 204\u001b[0m \u001b[38;5;28;01mreturn\u001b[39;00m meth(self_or_cls, \u001b[38;5;241m*\u001b[39margs, \u001b[38;5;241m*\u001b[39m\u001b[38;5;241m*\u001b[39mkwargs)\n",
      "File \u001b[1;32mC:\\DISTRIBUTIONS\\Python\\Python3_10_2\\lib\\site-packages\\pandas\\core\\indexes\\multi.py:566\u001b[0m, in \u001b[0;36mMultiIndex.from_tuples\u001b[1;34m(cls, tuples, sortorder, names)\u001b[0m\n\u001b[0;32m    563\u001b[0m     arrs \u001b[38;5;241m=\u001b[39m \u001b[38;5;28mzip\u001b[39m(\u001b[38;5;241m*\u001b[39mtuples)\n\u001b[0;32m    564\u001b[0m     arrays \u001b[38;5;241m=\u001b[39m cast(List[Sequence[Hashable]], arrs)\n\u001b[1;32m--> 566\u001b[0m \u001b[38;5;28;01mreturn\u001b[39;00m \u001b[38;5;28;43mcls\u001b[39;49m\u001b[38;5;241;43m.\u001b[39;49m\u001b[43mfrom_arrays\u001b[49m\u001b[43m(\u001b[49m\u001b[43marrays\u001b[49m\u001b[43m,\u001b[49m\u001b[43m \u001b[49m\u001b[43msortorder\u001b[49m\u001b[38;5;241;43m=\u001b[39;49m\u001b[43msortorder\u001b[49m\u001b[43m,\u001b[49m\u001b[43m \u001b[49m\u001b[43mnames\u001b[49m\u001b[38;5;241;43m=\u001b[39;49m\u001b[43mnames\u001b[49m\u001b[43m)\u001b[49m\n",
      "File \u001b[1;32mC:\\DISTRIBUTIONS\\Python\\Python3_10_2\\lib\\site-packages\\pandas\\core\\indexes\\multi.py:493\u001b[0m, in \u001b[0;36mMultiIndex.from_arrays\u001b[1;34m(cls, arrays, sortorder, names)\u001b[0m\n\u001b[0;32m    490\u001b[0m \u001b[38;5;28;01mif\u001b[39;00m names \u001b[38;5;129;01mis\u001b[39;00m lib\u001b[38;5;241m.\u001b[39mno_default:\n\u001b[0;32m    491\u001b[0m     names \u001b[38;5;241m=\u001b[39m [\u001b[38;5;28mgetattr\u001b[39m(arr, \u001b[38;5;124m\"\u001b[39m\u001b[38;5;124mname\u001b[39m\u001b[38;5;124m\"\u001b[39m, \u001b[38;5;28;01mNone\u001b[39;00m) \u001b[38;5;28;01mfor\u001b[39;00m arr \u001b[38;5;129;01min\u001b[39;00m arrays]\n\u001b[1;32m--> 493\u001b[0m \u001b[38;5;28;01mreturn\u001b[39;00m \u001b[38;5;28;43mcls\u001b[39;49m\u001b[43m(\u001b[49m\n\u001b[0;32m    494\u001b[0m \u001b[43m    \u001b[49m\u001b[43mlevels\u001b[49m\u001b[38;5;241;43m=\u001b[39;49m\u001b[43mlevels\u001b[49m\u001b[43m,\u001b[49m\n\u001b[0;32m    495\u001b[0m \u001b[43m    \u001b[49m\u001b[43mcodes\u001b[49m\u001b[38;5;241;43m=\u001b[39;49m\u001b[43mcodes\u001b[49m\u001b[43m,\u001b[49m\n\u001b[0;32m    496\u001b[0m \u001b[43m    \u001b[49m\u001b[43msortorder\u001b[49m\u001b[38;5;241;43m=\u001b[39;49m\u001b[43msortorder\u001b[49m\u001b[43m,\u001b[49m\n\u001b[0;32m    497\u001b[0m \u001b[43m    \u001b[49m\u001b[43mnames\u001b[49m\u001b[38;5;241;43m=\u001b[39;49m\u001b[43mnames\u001b[49m\u001b[43m,\u001b[49m\n\u001b[0;32m    498\u001b[0m \u001b[43m    \u001b[49m\u001b[43mverify_integrity\u001b[49m\u001b[38;5;241;43m=\u001b[39;49m\u001b[38;5;28;43;01mFalse\u001b[39;49;00m\u001b[43m,\u001b[49m\n\u001b[0;32m    499\u001b[0m \u001b[43m\u001b[49m\u001b[43m)\u001b[49m\n",
      "File \u001b[1;32mC:\\DISTRIBUTIONS\\Python\\Python3_10_2\\lib\\site-packages\\pandas\\core\\indexes\\multi.py:335\u001b[0m, in \u001b[0;36mMultiIndex.__new__\u001b[1;34m(cls, levels, codes, sortorder, names, dtype, copy, name, verify_integrity)\u001b[0m\n\u001b[0;32m    332\u001b[0m result\u001b[38;5;241m.\u001b[39m_names \u001b[38;5;241m=\u001b[39m [\u001b[38;5;28;01mNone\u001b[39;00m] \u001b[38;5;241m*\u001b[39m \u001b[38;5;28mlen\u001b[39m(levels)  \u001b[38;5;66;03m# type: ignore[assignment]\u001b[39;00m\n\u001b[0;32m    333\u001b[0m \u001b[38;5;28;01mif\u001b[39;00m names \u001b[38;5;129;01mis\u001b[39;00m \u001b[38;5;129;01mnot\u001b[39;00m \u001b[38;5;28;01mNone\u001b[39;00m:\n\u001b[0;32m    334\u001b[0m     \u001b[38;5;66;03m# handles name validation\u001b[39;00m\n\u001b[1;32m--> 335\u001b[0m     \u001b[43mresult\u001b[49m\u001b[38;5;241;43m.\u001b[39;49m\u001b[43m_set_names\u001b[49m\u001b[43m(\u001b[49m\u001b[43mnames\u001b[49m\u001b[43m)\u001b[49m\n\u001b[0;32m    337\u001b[0m \u001b[38;5;28;01mif\u001b[39;00m sortorder \u001b[38;5;129;01mis\u001b[39;00m \u001b[38;5;129;01mnot\u001b[39;00m \u001b[38;5;28;01mNone\u001b[39;00m:\n\u001b[0;32m    338\u001b[0m     result\u001b[38;5;241m.\u001b[39msortorder \u001b[38;5;241m=\u001b[39m \u001b[38;5;28mint\u001b[39m(sortorder)\n",
      "File \u001b[1;32mC:\\DISTRIBUTIONS\\Python\\Python3_10_2\\lib\\site-packages\\pandas\\core\\indexes\\multi.py:1438\u001b[0m, in \u001b[0;36mMultiIndex._set_names\u001b[1;34m(self, names, level, validate)\u001b[0m\n\u001b[0;32m   1436\u001b[0m         \u001b[38;5;28;01mraise\u001b[39;00m \u001b[38;5;167;01mValueError\u001b[39;00m(\u001b[38;5;124m\"\u001b[39m\u001b[38;5;124mLength of names must match length of level.\u001b[39m\u001b[38;5;124m\"\u001b[39m)\n\u001b[0;32m   1437\u001b[0m     \u001b[38;5;28;01mif\u001b[39;00m level \u001b[38;5;129;01mis\u001b[39;00m \u001b[38;5;28;01mNone\u001b[39;00m \u001b[38;5;129;01mand\u001b[39;00m \u001b[38;5;28mlen\u001b[39m(names) \u001b[38;5;241m!=\u001b[39m \u001b[38;5;28mself\u001b[39m\u001b[38;5;241m.\u001b[39mnlevels:\n\u001b[1;32m-> 1438\u001b[0m         \u001b[38;5;28;01mraise\u001b[39;00m \u001b[38;5;167;01mValueError\u001b[39;00m(\n\u001b[0;32m   1439\u001b[0m             \u001b[38;5;124m\"\u001b[39m\u001b[38;5;124mLength of names must match number of levels in MultiIndex.\u001b[39m\u001b[38;5;124m\"\u001b[39m\n\u001b[0;32m   1440\u001b[0m         )\n\u001b[0;32m   1442\u001b[0m \u001b[38;5;28;01mif\u001b[39;00m level \u001b[38;5;129;01mis\u001b[39;00m \u001b[38;5;28;01mNone\u001b[39;00m:\n\u001b[0;32m   1443\u001b[0m     level \u001b[38;5;241m=\u001b[39m \u001b[38;5;28mrange\u001b[39m(\u001b[38;5;28mself\u001b[39m\u001b[38;5;241m.\u001b[39mnlevels)\n",
      "\u001b[1;31mValueError\u001b[0m: Length of names must match number of levels in MultiIndex."
     ]
    }
   ],
   "source": [
    "import pandas as pd\n",
    "from statsmodels.graphics.mosaicplot import mosaic\n",
    "import pylab\n",
    "from itertools import product\n",
    "import numpy as np\n",
    "\n",
    "\n",
    "if 1==1:\n",
    "\n",
    "    # pop_male_borough_ratio = 20\n",
    "    # pop_male_city_ratio = 50\n",
    "    # pop_female_borough_ratio = 80\n",
    "    # pop_female_city_ratio = 50\n",
    "\n",
    "    _data = [pop_male_oa_ratio\n",
    "                    , pop_male_ward_ratio\n",
    "                    , pop_male_borough_ratio\n",
    "                    , pop_male_city_ratio\n",
    "                    , pop_female_oa_ratio\n",
    "                    , pop_female_ward_ratio\n",
    "                    , pop_female_borough_ratio\n",
    "                    , pop_female_city_ratio]\n",
    "\n",
    "    \n",
    "    \n",
    "    options = [\"male\", \"female\"]\n",
    "    names = [\"OA\", \"ward\", \"borough\", \"borough average\"]\n",
    "    title = \"Gender Population - OA, Borough and Borough Average\"\n",
    "    props = lambda key: {'color': 'orange' if 'male' in key else 'deepskyblue'}\n",
    "    \n",
    "\n",
    "    matrix = list(product(names, options))\n",
    "\n",
    "    index = pd.MultiIndex.from_tuples(matrix, names=names)\n",
    "    \n",
    "    print(index)\n",
    "\n",
    "    data = pd.Series(_data, index=index)\n",
    "\n",
    "    mosaic(data, gap=0.01, title='Who knows multiple foregin languages? - Mosaic Chart')\n",
    "\n",
    "    pylab.show()    \n",
    "    \n",
    "    \n",
    "    \n",
    "    \n",
    "#     mosaic(data, gap=0.01, title='Gender Population - OA, Ward, Borough and Borough Average', properties=props)\n",
    "\n",
    "\n",
    "#     mlib.save_plot(plot=pylab, path=\"c:/temp/\", name=\"x.png\", save_artefacts=True)\n",
    "#     pylab.show()\n"
   ]
  },
  {
   "cell_type": "code",
   "execution_count": 149,
   "id": "fc7f6119-ef9a-4909-bb27-ad89bc8b190b",
   "metadata": {},
   "outputs": [
    {
     "data": {
      "text/plain": [
       "<module 'pylab' from 'C:\\\\DISTRIBUTIONS\\\\Python\\\\Python3_10_2\\\\lib\\\\site-packages\\\\pylab.py'>"
      ]
     },
     "execution_count": 149,
     "metadata": {},
     "output_type": "execute_result"
    },
    {
     "data": {
      "image/png": "[encoded data removed]",
      "text/plain": [
       "<Figure size 432x288 with 3 Axes>"
      ]
     },
     "metadata": {
      "needs_background": "light"
     },
     "output_type": "display_data"
    }
   ],
   "source": [
    "import pandas as pd\n",
    "import pylab\n",
    "import numpy as np\n",
    "from statsmodels.graphics.mosaicplot import mosaic\n",
    "from itertools import product\n",
    "\n",
    "# options == male/female || yes/no\n",
    "# names   == oa->boroufh avg || male/femal\n",
    "\n",
    "def mekko_chart(data, options, names, title, props):\n",
    "    \"\"\"\n",
    "    Makes a mekko chart\n",
    "    \"\"\"\n",
    "    ## Changing the order of this will change the axis\n",
    "    matrix = list(product(names, options))\n",
    "    index = pd.MultiIndex.from_tuples(matrix, names=options)\n",
    "    \n",
    "    data_series = pd.Series(data, index=index)\n",
    "    mosaic(data_series, gap=[0.01, 0.01], title=title, properties=props)\n",
    "    \n",
    "    return pylab\n",
    "\n",
    "### Call the method\n",
    "\n",
    "data = [pop_male_oa_ratio\n",
    "      , pop_male_ward_ratio\n",
    "      , pop_male_borough_ratio\n",
    "      , pop_male_city_ratio\n",
    "      , pop_female_oa_ratio\n",
    "      , pop_female_ward_ratio\n",
    "      , pop_female_borough_ratio\n",
    "      , pop_female_city_ratio]\n",
    "\n",
    "options = [\"male\", \"female\"]\n",
    "names = [\"OA\", \"ward\", \"borough\", \"borough average\"]\n",
    "title = \"Gender Population - OA, Borough and Borough Average\"\n",
    "props = lambda key: {'color': 'orange' if 'male' in key else 'deepskyblue'}\n",
    "title = \"Gender Ratio by OA, Ward, Borough and Borough Average\"\n",
    "\n",
    "mekko_chart(data=data, options=options, names=names, title=title, props=props)\n"
   ]
  },
  {
   "cell_type": "code",
   "execution_count": 117,
   "id": "eefe6276-e82e-46ef-ad88-8410430a8d87",
   "metadata": {},
   "outputs": [
    {
     "name": "stdout",
     "output_type": "stream",
     "text": [
      "MultiIndex([(  'male', 'yes'),\n",
      "            (  'male',  'no'),\n",
      "            ('female', 'yes'),\n",
      "            ('female',  'no')],\n",
      "           names=['male', 'female'])\n"
     ]
    },
    {
     "data": {
      "image/png": "[encoded data removed]",
      "text/plain": [
       "<Figure size 432x288 with 3 Axes>"
      ]
     },
     "metadata": {
      "needs_background": "light"
     },
     "output_type": "display_data"
    }
   ],
   "source": [
    "import pandas as pd\n",
    "from statsmodels.graphics.mosaicplot import mosaic\n",
    "import pylab\n",
    "from itertools import product\n",
    "import numpy as np\n",
    "\n",
    "rand = np.random.random\n",
    "\n",
    "speaks_mul_foreign_languages = list(product(['male', 'female'], ['yes', 'no']))\n",
    "\n",
    "index = pd.MultiIndex.from_tuples(speaks_mul_foreign_languages, names=['male', 'female'])\n",
    "\n",
    "print(index)\n",
    "\n",
    "data = pd.Series(rand(4), index=index)\n",
    "\n",
    "mosaic(data, gap=0.01, title='Who knows multiple foregin languages? - Mosaic Chart')\n",
    "\n",
    "pylab.show()"
   ]
  }
 ],
 "metadata": {
  "kernelspec": {
   "display_name": "Python 3 (ipykernel)",
   "language": "python",
   "name": "python3"
  },
  "language_info": {
   "codemirror_mode": {
    "name": "ipython",
    "version": 3
   },
   "file_extension": ".py",
   "mimetype": "text/x-python",
   "name": "python",
   "nbconvert_exporter": "python",
   "pygments_lexer": "ipython3",
   "version": "3.10.2"
  }
 },
 "nbformat": 4,
 "nbformat_minor": 5
}
