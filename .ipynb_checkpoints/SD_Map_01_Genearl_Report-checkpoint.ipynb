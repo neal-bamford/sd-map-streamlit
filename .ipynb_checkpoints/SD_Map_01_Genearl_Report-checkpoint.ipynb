{
 "cells": [
  {
   "cell_type": "markdown",
   "id": "30125aaf-aec9-41f4-bed0-3888c82df28e",
   "metadata": {},
   "source": [
    "# General Report"
   ]
  },
  {
   "cell_type": "markdown",
   "id": "8a838826-eb60-4647-b1f7-f73e22eb640d",
   "metadata": {
    "tags": []
   },
   "source": [
    "## Setup"
   ]
  },
  {
   "cell_type": "code",
   "execution_count": null,
   "id": "90994bee-d612-4e81-96a5-e7b03640db5c",
   "metadata": {},
   "outputs": [],
   "source": [
    "from matplotlib.colors import ListedColormap \n",
    "from matplotlib.ticker import (MultipleLocator, FormatStrFormatter, AutoMinorLocator)\n",
    "from lib import formatting as sd_formatting\n",
    "import pyodbc \n",
    "import toml\n",
    "import config_logging\n",
    "import logging\n",
    "import urllib.request\n",
    "import pandas as pd\n",
    "import colorcet as cc\n",
    "import numpy as np\n",
    "\n",
    "log = logging.getLogger(__name__)\n",
    "external_ip = urllib.request.urlopen('https://ident.me').read().decode('utf8')\n",
    "\n",
    "properties = toml.load(\"./.streamlit/secrets.toml\")\n",
    "\n",
    "database_props = properties[properties[\"database\"][\"flavour\"]] \n"
   ]
  },
  {
   "cell_type": "markdown",
   "id": "5c5b8a8c-7efe-4835-9cf2-3c7e1d4c2133",
   "metadata": {
    "tags": []
   },
   "source": [
    "## Reload"
   ]
  },
  {
   "cell_type": "code",
   "execution_count": null,
   "id": "1c779cd4-8400-47aa-90e5-15bb24457654",
   "metadata": {},
   "outputs": [],
   "source": [
    "### Set up\n",
    "\n",
    "%load_ext autoreload\n",
    "%autoreload 3\n",
    "\n",
    "from data.daos import dao_facade_local as dao_fac\n",
    "from lib import db_tools as db_tools\n",
    "from lib import masters_data_analytics_lib as mlib\n",
    "from lib import stats as stats\n",
    "\n",
    "db_conn = None\n",
    "db_conn = db_tools.get_db_conn(database_props)\n"
   ]
  },
  {
   "cell_type": "markdown",
   "id": "a871c4b6-9391-4b4a-996c-18efa1d3c06d",
   "metadata": {},
   "source": [
    "## Search Criteria"
   ]
  },
  {
   "cell_type": "code",
   "execution_count": null,
   "id": "9537005d-11fb-492b-b2cf-1bf88aa88414",
   "metadata": {},
   "outputs": [],
   "source": [
    "city      = \"London\"\n",
    "\n",
    "borough   = \"Islington\"\n",
    "ward_name = \"Holloway\"\n",
    "\n",
    "## 27% Black African Carribean at Borough Level\n",
    "borough   = \"Lewisham\"\n",
    "ward_name = \"Bellingham\"\n",
    "\n",
    "borough   = \"Islington\"\n",
    "ward_name = \"Holloway\"\n",
    "\n",
    "## 27% Black African Carribean at Borough Level\n",
    "borough   = \"Lewisham\"\n",
    "ward_name = \"Bellingham\"\n",
    "\n",
    "borough   = \"Barking and Dagenham\"\n",
    "ward_name = \"Abbey\"\n",
    "\n",
    "## FEMALE\n",
    "### HIGH RATION\n",
    "borough   = \"Croydon\"\n",
    "ward_name = \"New Addington North\"\n",
    "\n",
    "borough   = \"Merton\"\n",
    "ward_name = \"Dundonald\"\n",
    "\n",
    "\n",
    "year_from = 2009\n",
    "year_to   = 2022\n",
    "\n",
    "#post_code = \"SW20 8ED\"\n",
    "\n",
    "search_term = {\n",
    "    \"city\"      : city\n",
    "  , \"borough\"   : borough\n",
    "  , \"ward_name\" : ward_name\n",
    "  , \"post_code\" : post_code\n",
    "  , \"year_from\" : year_from\n",
    "  , \"year_to\"   : year_to\n",
    "}\n"
   ]
  },
  {
   "cell_type": "markdown",
   "id": "3282b35a-8a03-420b-ada6-f249f34000ea",
   "metadata": {},
   "source": [
    "# REPORT GENERATION"
   ]
  },
  {
   "cell_type": "code",
   "execution_count": null,
   "id": "69092078-be49-423f-a1d3-9c646777b604",
   "metadata": {},
   "outputs": [],
   "source": [
    "from managers import sd_report_type_general_new as report_general_man\n",
    "\n",
    "session_id = \"REPORT_TYPE_01_GENERAL\"\n",
    "template_processor_file_name = \"./reports/processors/sd_general_report_template_processor_dev.json\"\n",
    "report_option = \"Full\"\n",
    "\n",
    "## Create the report context\n",
    "report_context = {}\n",
    "report_context[\"template_processor_file_name\"] = template_processor_file_name\n",
    "report_context[\"report_option\"] = report_option\n",
    "report_context[\"\"] = False\n",
    "\n",
    "report_general_man.generate_report(session_id\n",
    "                                 , search_term\n",
    "                                 , report_context\n",
    "                                 , properties)\n",
    "\n",
    "\n"
   ]
  }
 ],
 "metadata": {
  "kernelspec": {
   "display_name": "Python 3 (ipykernel)",
   "language": "python",
   "name": "python3"
  },
  "language_info": {
   "codemirror_mode": {
    "name": "ipython",
    "version": 3
   },
   "file_extension": ".py",
   "mimetype": "text/x-python",
   "name": "python",
   "nbconvert_exporter": "python",
   "pygments_lexer": "ipython3",
   "version": "3.10.2"
  }
 },
 "nbformat": 4,
 "nbformat_minor": 5
}
