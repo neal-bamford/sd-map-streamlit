{
 "cells": [
  {
   "cell_type": "markdown",
   "id": "30125aaf-aec9-41f4-bed0-3888c82df28e",
   "metadata": {},
   "source": [
    "# Population"
   ]
  },
  {
   "cell_type": "markdown",
   "id": "8a838826-eb60-4647-b1f7-f73e22eb640d",
   "metadata": {
    "tags": []
   },
   "source": [
    "## Setup"
   ]
  },
  {
   "cell_type": "code",
   "execution_count": 159,
   "id": "90994bee-d612-4e81-96a5-e7b03640db5c",
   "metadata": {},
   "outputs": [],
   "source": [
    "from matplotlib.colors import ListedColormap \n",
    "from matplotlib.ticker import (MultipleLocator, FormatStrFormatter, AutoMinorLocator)\n",
    "from lib import formatting as sd_formatting\n",
    "import pyodbc \n",
    "import toml\n",
    "import config_logging\n",
    "import logging\n",
    "import urllib.request\n",
    "import pandas as pd\n",
    "import colorcet as cc\n",
    "import numpy as np\n",
    "\n",
    "log = logging.getLogger(__name__)\n",
    "external_ip = urllib.request.urlopen('https://ident.me').read().decode('utf8')\n",
    "\n",
    "properties = toml.load(\"./.streamlit/secrets.toml\")\n",
    "\n",
    "database_props = properties[properties[\"database\"][\"flavour\"]] \n"
   ]
  },
  {
   "cell_type": "markdown",
   "id": "5c5b8a8c-7efe-4835-9cf2-3c7e1d4c2133",
   "metadata": {
    "tags": []
   },
   "source": [
    "## Reload"
   ]
  },
  {
   "cell_type": "code",
   "execution_count": 160,
   "id": "1c779cd4-8400-47aa-90e5-15bb24457654",
   "metadata": {},
   "outputs": [
    {
     "name": "stdout",
     "output_type": "stream",
     "text": [
      "The autoreload extension is already loaded. To reload it, use:\n",
      "  %reload_ext autoreload\n",
      "2022-08-27 17:41:16,594 [INFO] lib.db_tools: DATABASE CONNECTIVITY\n"
     ]
    }
   ],
   "source": [
    "### Set up\n",
    "\n",
    "%load_ext autoreload\n",
    "%autoreload 3\n",
    "\n",
    "from data.daos import dao_facade_local as dao_fac\n",
    "from lib import db_tools as db_tools\n",
    "from lib import masters_data_analytics_lib as mlib\n",
    "from lib import stats as stats\n",
    "\n",
    "db_conn = None\n",
    "db_conn = db_tools.get_db_conn(database_props)\n"
   ]
  },
  {
   "cell_type": "markdown",
   "id": "2012938a-e341-4bc7-9bf6-6e03a20e1362",
   "metadata": {
    "tags": []
   },
   "source": [
    "## Search Criteria"
   ]
  },
  {
   "cell_type": "code",
   "execution_count": 161,
   "id": "cd4d6c7d-a144-4343-9e8c-8f2a14e44e69",
   "metadata": {},
   "outputs": [
    {
     "name": "stdout",
     "output_type": "stream",
     "text": [
      "2022-08-27 17:41:16,727 [DEBUG] __main__: population orig_year_to    :2021\n",
      "2022-08-27 17:41:16,728 [DEBUG] __main__: population search_year_to  :2011\n",
      "2022-08-27 17:41:16,729 [DEBUG] __main__: {'year_from': 2011, 'year_to': 2011, 'borough': 'Westminster', 'ward_name': 'Bloomsbury'}\n"
     ]
    }
   ],
   "source": [
    "year_from = 2012\n",
    "year_to   = 2021\n",
    "city      = \"London\"\n",
    "\n",
    "borough   = \"Islington\"\n",
    "ward_name = \"Holloway\"\n",
    "\n",
    "## 27% Black African Carribean at Borough Level\n",
    "borough   = \"Lewisham\"\n",
    "ward_name = \"Bellingham\"\n",
    "\n",
    "borough   = \"Islington\"\n",
    "ward_name = \"Holloway\"\n",
    "\n",
    "## 27% Black African Carribean at Borough Level\n",
    "borough   = \"Lewisham\"\n",
    "ward_name = \"Bellingham\"\n",
    "\n",
    "borough   = \"Barking and Dagenham\"\n",
    "ward_name = \"Abbey\"\n",
    "\n",
    "## FEMALE\n",
    "### HIGH RATION\n",
    "borough   = \"Croydon\"\n",
    "ward_name = \"New Addington North\"\n",
    "\n",
    "### LOW RATIO\n",
    "# borough   = \"Westminster\"\n",
    "# ward_name = \"Bloomsbury\"\n",
    "\n",
    "# borough   = \"Westminster\"    # Highest\n",
    "# borough   = \"Brent\"          # Middle\n",
    "# borough   = \"City of London\" # Lowest\n",
    "\n",
    "## We may not have data in the date range we have chosen\n",
    "## this is true for ALL so fix it Neal\n",
    "\n",
    "population_year_from = year_from\n",
    "population_year_to   = year_to\n",
    "\n",
    "# What do we have? We are only using the max for now\n",
    "population_min_max_year_df = dao_fac.population_min_max_year(db_conn)\n",
    "\n",
    "population_year_min = population_min_max_year_df[\"MIN_YEAR\"].values[0]\n",
    "population_year_max = population_min_max_year_df[\"MAX_YEAR\"].values[0]\n",
    "\n",
    "population_year_from_orig = population_year_from\n",
    "population_year_to_orig = population_year_to\n",
    "\n",
    "if population_year_from < int(population_year_min):\n",
    "    population_year_from = int(population_year_min)\n",
    "elif population_year_from > int(population_year_max):\n",
    "    population_year_from = int(population_year_max)\n",
    "\n",
    "if population_year_to > int(population_year_max):\n",
    "    population_year_to = int(population_year_max)\n",
    "elif population_year_to < int(population_year_min):\n",
    "    population_year_to = int(population_year_min)\n",
    "\n",
    "log.debug(f\"population orig_year_to    :{population_year_to_orig}\")\n",
    "log.debug(f\"population search_year_to  :{population_year_to}\")\n",
    "\n",
    "search_term = {\"year_from\":population_year_from,\n",
    "               \"year_to\":population_year_to,\n",
    "               \"borough\":borough,\n",
    "               \"ward_name\":ward_name}\n",
    "\n",
    "log.debug(search_term)\n"
   ]
  },
  {
   "cell_type": "markdown",
   "id": "048f06bc-c617-4bfa-87ea-389108dcc417",
   "metadata": {},
   "source": [
    "## Build the Data"
   ]
  },
  {
   "cell_type": "code",
   "execution_count": 162,
   "id": "966105d9-9563-45d4-b65e-3a659ccc0077",
   "metadata": {},
   "outputs": [
    {
     "name": "stdout",
     "output_type": "stream",
     "text": [
      "2022-08-27 17:41:16,859 [DEBUG] root: retrieving london population year\n"
     ]
    },
    {
     "name": "stderr",
     "output_type": "stream",
     "text": [
      "C:\\DISTRIBUTIONS\\Python\\Python3_10_2\\lib\\site-packages\\pandas\\io\\sql.py:761: UserWarning: pandas only support SQLAlchemy connectable(engine/connection) ordatabase string URI or sqlite3 DBAPI2 connectionother DBAPI2 objects are not tested, please consider using SQLAlchemy\n",
      "  warnings.warn(\n"
     ]
    }
   ],
   "source": [
    "population_by_borough_ward_year_df = dao_fac.population_year(db_conn, search_term)"
   ]
  },
  {
   "cell_type": "markdown",
   "id": "9f4040d3-6aa2-454b-b03a-f90217fa893d",
   "metadata": {},
   "source": [
    "# BOROUGH WARD LEVEL"
   ]
  },
  {
   "cell_type": "markdown",
   "id": "417d96ae-4eb9-4165-8331-e83be34b93a9",
   "metadata": {},
   "source": [
    "## GENDER"
   ]
  },
  {
   "cell_type": "markdown",
   "id": "0fc1355a-e721-4faa-9255-f1772ef6d448",
   "metadata": {
    "tags": []
   },
   "source": [
    "### DATA"
   ]
  },
  {
   "cell_type": "code",
   "execution_count": 163,
   "id": "0a1808a7-2d48-4a0b-9893-6323a91bf935",
   "metadata": {},
   "outputs": [],
   "source": [
    "## BOROUGH WARD LEVEL\n",
    "\n",
    "## PERCENTAGES MALE - FEMALE - STUDENT \n",
    "### make a copy so we can go back\n",
    "pct_population_by_borough_ward_year_df = population_by_borough_ward_year_df[[\"YEAR\", \"BOROUGH\", \"WARD_NAME\", \"ALL\", \"MALE\", \"FEMALE\", \"STUDENT\"]].copy()\n",
    "pct_population_by_borough_ward_year_df[\"MALE\"] = pct_population_by_borough_ward_year_df[\"MALE\"]/pct_population_by_borough_ward_year_df[\"ALL\"]\n",
    "pct_population_by_borough_ward_year_df[\"FEMALE\"] = pct_population_by_borough_ward_year_df[\"FEMALE\"]/pct_population_by_borough_ward_year_df[\"ALL\"]\n",
    "pct_population_by_borough_ward_year_df[\"STUDENT\"] = pct_population_by_borough_ward_year_df[\"STUDENT\"]/pct_population_by_borough_ward_year_df[\"ALL\"]"
   ]
  },
  {
   "cell_type": "markdown",
   "id": "ad317048-3524-400b-82f3-73ca0948be3e",
   "metadata": {},
   "source": [
    "### DISPLAY"
   ]
  },
  {
   "cell_type": "code",
   "execution_count": 164,
   "id": "4c2ddd56-91d1-40a8-a662-ae3de82ed7b7",
   "metadata": {
    "scrolled": true,
    "tags": []
   },
   "outputs": [
    {
     "data": {
      "text/html": [
       "<div>\n",
       "<style scoped>\n",
       "    .dataframe tbody tr th:only-of-type {\n",
       "        vertical-align: middle;\n",
       "    }\n",
       "\n",
       "    .dataframe tbody tr th {\n",
       "        vertical-align: top;\n",
       "    }\n",
       "\n",
       "    .dataframe thead th {\n",
       "        text-align: right;\n",
       "    }\n",
       "</style>\n",
       "<table border=\"1\" class=\"dataframe\">\n",
       "  <thead>\n",
       "    <tr style=\"text-align: right;\">\n",
       "      <th></th>\n",
       "      <th>670</th>\n",
       "    </tr>\n",
       "  </thead>\n",
       "  <tbody>\n",
       "    <tr>\n",
       "      <th>BOROUGH</th>\n",
       "      <td>Westminster</td>\n",
       "    </tr>\n",
       "    <tr>\n",
       "      <th>WARD_NAME</th>\n",
       "      <td>Bloomsbury</td>\n",
       "    </tr>\n",
       "    <tr>\n",
       "      <th>ALL</th>\n",
       "      <td>229.0</td>\n",
       "    </tr>\n",
       "    <tr>\n",
       "      <th>MALE</th>\n",
       "      <td>0.668122</td>\n",
       "    </tr>\n",
       "    <tr>\n",
       "      <th>FEMALE</th>\n",
       "      <td>0.331878</td>\n",
       "    </tr>\n",
       "  </tbody>\n",
       "</table>\n",
       "</div>"
      ],
      "text/plain": [
       "                   670\n",
       "BOROUGH    Westminster\n",
       "WARD_NAME   Bloomsbury\n",
       "ALL              229.0\n",
       "MALE          0.668122\n",
       "FEMALE        0.331878"
      ]
     },
     "execution_count": 164,
     "metadata": {},
     "output_type": "execute_result"
    }
   ],
   "source": [
    "gender_population_by_borough_ward_year_filtered = pct_population_by_borough_ward_year_df.loc[(population_by_borough_ward_year_df[\"BOROUGH\"]==borough)\n",
    "                                                                                    & (population_by_borough_ward_year_df[\"WARD_NAME\"]==ward_name)]\n",
    "\n",
    "gender_population_by_borough_ward_year_filtered = gender_population_by_borough_ward_year_filtered.drop([\"YEAR\",\"STUDENT\"], axis=1)\n",
    "gender_population_by_borough_ward_year_filtered.T\n"
   ]
  },
  {
   "cell_type": "markdown",
   "id": "87b08154-bf03-4e65-89b3-eeafb092e66d",
   "metadata": {},
   "source": [
    "## POPULATION"
   ]
  },
  {
   "cell_type": "markdown",
   "id": "11a99cab-43a5-46ea-9876-e45e48540867",
   "metadata": {
    "tags": []
   },
   "source": [
    "### DATA"
   ]
  },
  {
   "cell_type": "code",
   "execution_count": 165,
   "id": "cbe5c8ab-540d-42a1-a387-b5daa77ca666",
   "metadata": {},
   "outputs": [
    {
     "name": "stdout",
     "output_type": "stream",
     "text": [
      "2022-08-27 17:41:19,426 [DEBUG] __main__: min_borough_ward_density_pph:7.766666666666667\n",
      "2022-08-27 17:41:19,427 [DEBUG] __main__: max_borough_ward_density_pph:293.08796992481206\n",
      "2022-08-27 17:41:19,429 [DEBUG] __main__: [7.766666666666667, 65.83092731829575, 123.89518796992483, 181.95944862155395, 240.02370927318302, inf]\n"
     ]
    }
   ],
   "source": [
    "### There seem to be some extreme values in the ward level pph\n",
    "### These will be removed when binning and if the value falls into that\n",
    "### category then they will be in the highest bin\n",
    "\n",
    "pph_population_by_borough_ward_year_df = population_by_borough_ward_year_df[[\"YEAR\", \"BOROUGH\", \"WARD_NAME\", \"DENSITY_PPH\"]].copy()\n",
    "\n",
    "min_borough_ward_density_pph = pph_population_by_borough_ward_year_df[\"DENSITY_PPH\"].quantile(.01)\n",
    "max_borough_ward_density_pph = pph_population_by_borough_ward_year_df[\"DENSITY_PPH\"].quantile(.99)\n",
    "\n",
    "log.debug(f\"min_borough_ward_density_pph:{min_borough_ward_density_pph}\")\n",
    "log.debug(f\"max_borough_ward_density_pph:{max_borough_ward_density_pph}\")\n",
    "\n",
    "## Creat3 the labels and bin\n",
    "pph_population_by_borough_ward_lbls = [\"Scarcely Populated\", \"Slightly Populated\", \"Averagely Populated\", \"Highly Populated\",  \"Very Highly Populated\"]\n",
    "pph_population_by_borough_ward_bins = np.arange(min_borough_ward_density_pph\n",
    "                                              , max_borough_ward_density_pph-min_borough_ward_density_pph\n",
    "                                              , (max_borough_ward_density_pph-min_borough_ward_density_pph)/len(pph_population_by_borough_ward_lbls)+1).tolist()\n",
    "pph_population_by_borough_ward_bins.append(np.inf)\n",
    "log.debug(pph_population_by_borough_ward_bins)\n",
    "\n",
    "# log.debug(f\"{(max_borough_ward_density_pph - min_borough_ward_density_pph)/len(pph_population_by_borough_ward_lbls)}\")\n",
    "# log.debug(f\"pph_population_by_borough_ward_lbls:{pph_population_by_borough_ward_lbls}\")\n",
    "# log.debug(f\"pph_population_by_borough_ward_bins:{pph_population_by_borough_ward_bins}\")\n",
    "\n",
    "pph_population_by_borough_ward_year_df['POPULATION_STATUS'] = pd.cut(pph_population_by_borough_ward_year_df[\"DENSITY_PPH\"], bins=pph_population_by_borough_ward_bins, labels=pph_population_by_borough_ward_lbls)"
   ]
  },
  {
   "cell_type": "markdown",
   "id": "08e3633d-f116-4ac1-bc02-cdbcd7fd77f3",
   "metadata": {
    "tags": []
   },
   "source": [
    "### DISPLAY"
   ]
  },
  {
   "cell_type": "code",
   "execution_count": 166,
   "id": "8070c767-0ed6-4ef3-934a-b1be82eab1c7",
   "metadata": {},
   "outputs": [
    {
     "data": {
      "text/html": [
       "<div>\n",
       "<style scoped>\n",
       "    .dataframe tbody tr th:only-of-type {\n",
       "        vertical-align: middle;\n",
       "    }\n",
       "\n",
       "    .dataframe tbody tr th {\n",
       "        vertical-align: top;\n",
       "    }\n",
       "\n",
       "    .dataframe thead tr th {\n",
       "        text-align: left;\n",
       "    }\n",
       "</style>\n",
       "<table border=\"1\" class=\"dataframe\">\n",
       "  <thead>\n",
       "    <tr>\n",
       "      <th></th>\n",
       "      <th>Borough</th>\n",
       "      <th>Ward</th>\n",
       "      <th>Persons per Hectare</th>\n",
       "      <th>Population Level</th>\n",
       "    </tr>\n",
       "  </thead>\n",
       "  <tbody>\n",
       "    <tr>\n",
       "      <th>670</th>\n",
       "      <td>Westminster</td>\n",
       "      <td>Bloomsbury</td>\n",
       "      <td>72.5</td>\n",
       "      <td>Slightly Populated</td>\n",
       "    </tr>\n",
       "  </tbody>\n",
       "</table>\n",
       "</div>"
      ],
      "text/plain": [
       "         Borough        Ward Persons per Hectare    Population Level\n",
       "670  Westminster  Bloomsbury                72.5  Slightly Populated"
      ]
     },
     "execution_count": 166,
     "metadata": {},
     "output_type": "execute_result"
    }
   ],
   "source": [
    "## Filter to just our borough and ward\n",
    "pph_population_by_borough_ward_year_filtered = pph_population_by_borough_ward_year_df.loc[(pph_population_by_borough_ward_year_df[\"BOROUGH\"]==borough)\n",
    "                                                                                        & (pph_population_by_borough_ward_year_df[\"WARD_NAME\"]==ward_name)]\n",
    "\n",
    "pph_population_by_borough_ward_year_filtered = pph_population_by_borough_ward_year_filtered.drop([\"YEAR\"], axis=1)\n",
    "pph_population_by_borough_ward_year_filtered\n",
    "\n",
    "# ## Make a display version\n",
    "borough_ward_population_table = pph_population_by_borough_ward_year_filtered.copy()\n",
    "borough_ward_population_table[\"DENSITY_PPH\"] = round(borough_ward_population_table[\"DENSITY_PPH\"],2)\n",
    "borough_ward_population_table.columns = [[\"Borough\", \"Ward\", \"Persons per Hectare\", \"Population Level\"]]\n",
    "\n",
    "borough_ward_population_table"
   ]
  },
  {
   "cell_type": "markdown",
   "id": "e1e58765-8452-4a6f-8865-b7e0ddd09e09",
   "metadata": {
    "tags": []
   },
   "source": [
    "# BOROUGH LEVEL"
   ]
  },
  {
   "cell_type": "markdown",
   "id": "8d97df1c-2ae4-4550-b394-68b18b93a6d5",
   "metadata": {},
   "source": [
    "## GENDER"
   ]
  },
  {
   "cell_type": "markdown",
   "id": "8878cbe3-ef19-46cc-9c05-535f57f26bc2",
   "metadata": {},
   "source": [
    "### DATA"
   ]
  },
  {
   "cell_type": "code",
   "execution_count": 167,
   "id": "cd2188ea-a8db-415e-b57b-d157ca7345ec",
   "metadata": {},
   "outputs": [],
   "source": [
    "## BOROUGH LEVEL\n",
    "population_by_borough_year_df = population_by_borough_ward_year_df.groupby([\"YEAR\", \"BOROUGH\"], as_index=False)\\\n",
    "                                                                  .agg({\"ALL\":\"sum\", \"MALE\":\"sum\", \"FEMALE\":\"sum\", \"STUDENT\":\"sum\", \"DENSITY_PPH\":\"mean\" })\n",
    "\n",
    "## PERCENTAGES MALE - FEMALE - STUDENT \n",
    "### make a copy so we can go back\n",
    "pct_population_by_borough_year_df = population_by_borough_year_df[[\"YEAR\", \"BOROUGH\", \"ALL\", \"MALE\", \"FEMALE\", \"STUDENT\"]].copy()\n",
    "pct_population_by_borough_year_df[\"MALE\"] = pct_population_by_borough_year_df[\"MALE\"]/pct_population_by_borough_year_df[\"ALL\"].astype(float)\n",
    "pct_population_by_borough_year_df[\"FEMALE\"] = pct_population_by_borough_year_df[\"FEMALE\"]/pct_population_by_borough_year_df[\"ALL\"].astype(float)\n",
    "pct_population_by_borough_year_df[\"STUDENT\"] = pct_population_by_borough_year_df[\"STUDENT\"]/pct_population_by_borough_year_df[\"ALL\"].astype(float)"
   ]
  },
  {
   "cell_type": "markdown",
   "id": "f667ee4b-40c0-4a3e-9d7c-846d319b1003",
   "metadata": {},
   "source": [
    "### DISPLAY"
   ]
  },
  {
   "cell_type": "code",
   "execution_count": 168,
   "id": "efc1063c-2aa1-4cad-8731-884f1c5c639b",
   "metadata": {},
   "outputs": [
    {
     "data": {
      "text/html": [
       "<div>\n",
       "<style scoped>\n",
       "    .dataframe tbody tr th:only-of-type {\n",
       "        vertical-align: middle;\n",
       "    }\n",
       "\n",
       "    .dataframe tbody tr th {\n",
       "        vertical-align: top;\n",
       "    }\n",
       "\n",
       "    .dataframe thead th {\n",
       "        text-align: right;\n",
       "    }\n",
       "</style>\n",
       "<table border=\"1\" class=\"dataframe\">\n",
       "  <thead>\n",
       "    <tr style=\"text-align: right;\">\n",
       "      <th></th>\n",
       "      <th>32</th>\n",
       "    </tr>\n",
       "  </thead>\n",
       "  <tbody>\n",
       "    <tr>\n",
       "      <th>BOROUGH</th>\n",
       "      <td>Westminster</td>\n",
       "    </tr>\n",
       "    <tr>\n",
       "      <th>ALL</th>\n",
       "      <td>222681.0</td>\n",
       "    </tr>\n",
       "    <tr>\n",
       "      <th>MALE</th>\n",
       "      <td>0.509482</td>\n",
       "    </tr>\n",
       "    <tr>\n",
       "      <th>FEMALE</th>\n",
       "      <td>0.490518</td>\n",
       "    </tr>\n",
       "  </tbody>\n",
       "</table>\n",
       "</div>"
      ],
      "text/plain": [
       "                  32\n",
       "BOROUGH  Westminster\n",
       "ALL         222681.0\n",
       "MALE        0.509482\n",
       "FEMALE      0.490518"
      ]
     },
     "execution_count": 168,
     "metadata": {},
     "output_type": "execute_result"
    }
   ],
   "source": [
    "gender_population_by_borough_year_filtered = pct_population_by_borough_year_df.loc[(pct_population_by_borough_year_df[\"BOROUGH\"]==borough)]\n",
    "gender_population_by_borough_year_filtered = gender_population_by_borough_year_filtered.drop([\"YEAR\",\"STUDENT\"], axis=1)\n",
    "gender_population_by_borough_year_filtered.T"
   ]
  },
  {
   "cell_type": "markdown",
   "id": "5a61b489-617e-44dc-a5c6-5574f7acdd7c",
   "metadata": {},
   "source": [
    "## POPULATION"
   ]
  },
  {
   "cell_type": "markdown",
   "id": "1771d894-35ac-4c3e-a052-b7c25c42668d",
   "metadata": {
    "tags": []
   },
   "source": [
    "### DATA"
   ]
  },
  {
   "cell_type": "code",
   "execution_count": 169,
   "id": "c08c4e7b-a4e4-4719-a742-92b99f8d01d7",
   "metadata": {},
   "outputs": [
    {
     "name": "stdout",
     "output_type": "stream",
     "text": [
      "2022-08-27 17:41:19,990 [DEBUG] __main__: min_borough_density_pph:44.87246023949719\n",
      "2022-08-27 17:41:19,991 [DEBUG] __main__: max_borough_density_pph:215.0413051899063\n"
     ]
    }
   ],
   "source": [
    "pph_population_by_borough_year_df = population_by_borough_year_df[[\"YEAR\", \"BOROUGH\", \"DENSITY_PPH\"]].copy()\n",
    "pph_population_by_borough_year_df[\"DENSITY_PPH\"] = pph_population_by_borough_year_df[\"DENSITY_PPH\"].astype(float)\n",
    "\n",
    "\n",
    "min_borough_density_pph = pph_population_by_borough_year_df[\"DENSITY_PPH\"].quantile(.01)\n",
    "max_borough_density_pph = pph_population_by_borough_year_df[\"DENSITY_PPH\"].quantile(.99)\n",
    "\n",
    "\n",
    "# min_borough_density_pph = pph_population_by_borough_year_df.min().values[2]\n",
    "# max_borough_density_pph = pph_population_by_borough_year_df.max().values[2]\n",
    "\n",
    "log.debug(f\"min_borough_density_pph:{min_borough_density_pph}\")\n",
    "log.debug(f\"max_borough_density_pph:{max_borough_density_pph}\")\n",
    "\n",
    "## Create the labels and bin\n",
    "pph_population_by_borough_lbls = [\"Scarcely Populated\", \"Slightly Populated\", \"Averagely Populated\", \"Highly Populated\",  \"Very Highly Populated\"]\n",
    "pph_population_by_borough_bins = np.arange((max_borough_density_pph-min_borough_density_pph)/len(pph_population_by_borough_lbls)-1, max_borough_density_pph-min_borough_density_pph, (max_borough_density_pph-min_borough_density_pph)/len(pph_population_by_borough_lbls)-1).tolist()\n",
    "pph_population_by_borough_bins.append(np.inf)\n",
    "\n",
    "# log.debug(pph_population_by_borough_bins)\n",
    "# log.debug(f\"{(max_borough_density_pph - min_borough_density_pph)/len(pph_population_by_borough_lbls)}\")\n",
    "# log.debug(f\"pph_population_by_borough_lbls:{pph_population_by_borough_lbls}\")\n",
    "# log.debug(f\"pph_population_by_borough_bins:{pph_population_by_borough_bins}\")\n",
    "\n",
    "pph_population_by_borough_year_df['POPULATION_STATUS'] = pd.cut(pph_population_by_borough_year_df[\"DENSITY_PPH\"], bins=pph_population_by_borough_bins, labels=pph_population_by_borough_lbls)"
   ]
  },
  {
   "cell_type": "markdown",
   "id": "455dda37-c201-4a2e-8137-ec11745f3b4f",
   "metadata": {
    "tags": []
   },
   "source": [
    "### DISPLAY"
   ]
  },
  {
   "cell_type": "code",
   "execution_count": 187,
   "id": "0682f90d-9bdb-41d4-837a-832dff3d671a",
   "metadata": {},
   "outputs": [
    {
     "data": {
      "text/plain": [
       "29    None\n",
       "19    None\n",
       "32    None\n",
       "12    None\n",
       "11    None\n",
       "5     None\n",
       "24    None\n",
       "18    None\n",
       "27    None\n",
       "21    None\n",
       "31    None\n",
       "13    None\n",
       "30    None\n",
       "3     None\n",
       "8     None\n",
       "22    None\n",
       "10    None\n",
       "0     None\n",
       "9     None\n",
       "17    None\n",
       "23    None\n",
       "25    None\n",
       "1     None\n",
       "7     None\n",
       "20    None\n",
       "14    None\n",
       "26    None\n",
       "28    None\n",
       "2     None\n",
       "16    None\n",
       "15    None\n",
       "4     None\n",
       "6     None\n",
       "dtype: object"
      ]
     },
     "execution_count": 187,
     "metadata": {},
     "output_type": "execute_result"
    }
   ],
   "source": [
    "## Sort on population density\n",
    "pph_population_by_borough_year_df_sorted = pph_population_by_borough_year_df.sort_values(by=[\"DENSITY_PPH\"], ascending=False).copy()\n",
    "## Drop the Year\n",
    "pph_population_by_borough_year_df_sorted = pph_population_by_borough_year_df_sorted.drop([\"YEAR\"], axis=1)\n",
    "\n",
    "## Make a display version\n",
    "borough_population_table = pph_population_by_borough_year_df_sorted.copy()\n",
    "borough_population_table[\"DENSITY_PPH\"] = round(borough_population_table[\"DENSITY_PPH\"],2)\n",
    "borough_population_table.columns = [[\"Borough\", \"Persons per Hectare\", \"Population Level\"]]\n",
    "\n",
    "## Create the shading\n",
    "def borough_population_shading(row, cell_shading, match, hex_colour):\n",
    "    \n",
    "    cell_colour = \"\" \n",
    "    borough_name = row.iloc[0]\n",
    "    \n",
    "    if borough_name == match:\n",
    "        cell_colour = hex_colour\n",
    "    \n",
    "    cell_shading.append([cell_colour, cell_colour , cell_colour])\n",
    "\n",
    "borough_population_table_shading = []\n",
    "borough_population_table.apply(lambda row:  borough_population_shading(row, borough_population_table_shading, borough, \"#F9E79F\"), axis=1)\n",
    "# borough_population_table_shading\n"
   ]
  },
  {
   "cell_type": "markdown",
   "id": "22a8f240-40f3-43f5-8d1a-e8cc63d0f529",
   "metadata": {},
   "source": [
    "# CITY LEVEL"
   ]
  },
  {
   "cell_type": "markdown",
   "id": "3bef1820-b95a-46cc-901d-ed935168bb61",
   "metadata": {},
   "source": [
    "## GENDER"
   ]
  },
  {
   "cell_type": "markdown",
   "id": "3e7caa8e-e991-42c3-983b-b266b49971f0",
   "metadata": {},
   "source": [
    "### DATA"
   ]
  },
  {
   "cell_type": "code",
   "execution_count": 188,
   "id": "9a372101-f96f-4d81-a6e3-85ec168e5acb",
   "metadata": {},
   "outputs": [
    {
     "data": {
      "text/html": [
       "<div>\n",
       "<style scoped>\n",
       "    .dataframe tbody tr th:only-of-type {\n",
       "        vertical-align: middle;\n",
       "    }\n",
       "\n",
       "    .dataframe tbody tr th {\n",
       "        vertical-align: top;\n",
       "    }\n",
       "\n",
       "    .dataframe thead th {\n",
       "        text-align: right;\n",
       "    }\n",
       "</style>\n",
       "<table border=\"1\" class=\"dataframe\">\n",
       "  <thead>\n",
       "    <tr style=\"text-align: right;\">\n",
       "      <th></th>\n",
       "      <th>YEAR</th>\n",
       "      <th>ALL</th>\n",
       "      <th>MALE</th>\n",
       "      <th>FEMALE</th>\n",
       "      <th>STUDENT</th>\n",
       "    </tr>\n",
       "  </thead>\n",
       "  <tbody>\n",
       "    <tr>\n",
       "      <th>0</th>\n",
       "      <td>2011.0</td>\n",
       "      <td>8355866.0</td>\n",
       "      <td>0.493662</td>\n",
       "      <td>0.506338</td>\n",
       "      <td>0.012217</td>\n",
       "    </tr>\n",
       "  </tbody>\n",
       "</table>\n",
       "</div>"
      ],
      "text/plain": [
       "     YEAR        ALL      MALE    FEMALE   STUDENT\n",
       "0  2011.0  8355866.0  0.493662  0.506338  0.012217"
      ]
     },
     "execution_count": 188,
     "metadata": {},
     "output_type": "execute_result"
    }
   ],
   "source": [
    "## CITY LEVEL\n",
    "population_by_city_year_df = population_by_borough_ward_year_df.groupby([\"YEAR\"], as_index=False)\\\n",
    "                                                                  .agg({\"ALL\":\"sum\", \"MALE\":\"sum\", \"FEMALE\":\"sum\", \"STUDENT\":\"sum\", \"DENSITY_PPH\":\"mean\" })\n",
    "\n",
    "## PERCENTAGES MALE - FEMALE - STUDENT \n",
    "### make a copy so we can go back\n",
    "pct_population_by_city_year_df = population_by_city_year_df[[\"YEAR\", \"ALL\", \"MALE\", \"FEMALE\", \"STUDENT\"]].copy()\n",
    "pct_population_by_city_year_df[\"MALE\"] = population_by_city_year_df[\"MALE\"]/population_by_city_year_df[\"ALL\"].astype(float)\n",
    "pct_population_by_city_year_df[\"FEMALE\"] = population_by_city_year_df[\"FEMALE\"]/population_by_city_year_df[\"ALL\"].astype(float)\n",
    "pct_population_by_city_year_df[\"STUDENT\"] = population_by_city_year_df[\"STUDENT\"]/population_by_city_year_df[\"ALL\"].astype(float)\n",
    "\n",
    "pct_population_by_city_year_df"
   ]
  },
  {
   "cell_type": "markdown",
   "id": "5181ef03-1714-4b43-aafd-eb18d29490a1",
   "metadata": {},
   "source": [
    "### DISPLAY"
   ]
  },
  {
   "cell_type": "code",
   "execution_count": 189,
   "id": "3e18eefc-a456-4955-bc23-5924a9abbadc",
   "metadata": {},
   "outputs": [
    {
     "data": {
      "text/html": [
       "<div>\n",
       "<style scoped>\n",
       "    .dataframe tbody tr th:only-of-type {\n",
       "        vertical-align: middle;\n",
       "    }\n",
       "\n",
       "    .dataframe tbody tr th {\n",
       "        vertical-align: top;\n",
       "    }\n",
       "\n",
       "    .dataframe thead th {\n",
       "        text-align: right;\n",
       "    }\n",
       "</style>\n",
       "<table border=\"1\" class=\"dataframe\">\n",
       "  <thead>\n",
       "    <tr style=\"text-align: right;\">\n",
       "      <th></th>\n",
       "      <th>0</th>\n",
       "    </tr>\n",
       "  </thead>\n",
       "  <tbody>\n",
       "    <tr>\n",
       "      <th>ALL</th>\n",
       "      <td>8.355866e+06</td>\n",
       "    </tr>\n",
       "    <tr>\n",
       "      <th>MALE</th>\n",
       "      <td>4.936621e-01</td>\n",
       "    </tr>\n",
       "    <tr>\n",
       "      <th>FEMALE</th>\n",
       "      <td>5.063379e-01</td>\n",
       "    </tr>\n",
       "  </tbody>\n",
       "</table>\n",
       "</div>"
      ],
      "text/plain": [
       "                   0\n",
       "ALL     8.355866e+06\n",
       "MALE    4.936621e-01\n",
       "FEMALE  5.063379e-01"
      ]
     },
     "execution_count": 189,
     "metadata": {},
     "output_type": "execute_result"
    }
   ],
   "source": [
    "gender_population_by_city_year_filtered = pct_population_by_city_year_df.copy()\n",
    "gender_population_by_city_year_filtered = gender_population_by_city_year_filtered.drop([\"YEAR\",\"STUDENT\"], axis=1)\n",
    "gender_population_by_city_year_filtered.T"
   ]
  },
  {
   "cell_type": "markdown",
   "id": "af70723d-1d23-46a2-afc5-815ae7cde075",
   "metadata": {},
   "source": [
    "### COMBINE GENDER PCT WARD - BOROUGH - CITY"
   ]
  },
  {
   "cell_type": "code",
   "execution_count": 190,
   "id": "652333dd-57bf-44f0-ae12-9c5b0bbfaedb",
   "metadata": {},
   "outputs": [
    {
     "data": {
      "text/html": [
       "<div>\n",
       "<style scoped>\n",
       "    .dataframe tbody tr th:only-of-type {\n",
       "        vertical-align: middle;\n",
       "    }\n",
       "\n",
       "    .dataframe tbody tr th {\n",
       "        vertical-align: top;\n",
       "    }\n",
       "\n",
       "    .dataframe thead th {\n",
       "        text-align: right;\n",
       "    }\n",
       "</style>\n",
       "<table border=\"1\" class=\"dataframe\">\n",
       "  <thead>\n",
       "    <tr style=\"text-align: right;\">\n",
       "      <th></th>\n",
       "      <th>Gender</th>\n",
       "      <th>Bloomsbury</th>\n",
       "      <th>Westminster</th>\n",
       "      <th>London</th>\n",
       "    </tr>\n",
       "  </thead>\n",
       "  <tbody>\n",
       "    <tr>\n",
       "      <th>1</th>\n",
       "      <td>Female</td>\n",
       "      <td>33.00%</td>\n",
       "      <td>49.00%</td>\n",
       "      <td>51.00%</td>\n",
       "    </tr>\n",
       "    <tr>\n",
       "      <th>0</th>\n",
       "      <td>Male</td>\n",
       "      <td>67.00%</td>\n",
       "      <td>51.00%</td>\n",
       "      <td>49.00%</td>\n",
       "    </tr>\n",
       "  </tbody>\n",
       "</table>\n",
       "</div>"
      ],
      "text/plain": [
       "   Gender Bloomsbury Westminster  London\n",
       "1  Female     33.00%      49.00%  51.00%\n",
       "0    Male     67.00%      51.00%  49.00%"
      ]
     },
     "execution_count": 190,
     "metadata": {},
     "output_type": "execute_result"
    }
   ],
   "source": [
    "def pct_fmt(val):\n",
    "    val_fmt = \"{:,.2f}%\".format(round(val*100),2)\n",
    "    return val_fmt\n",
    "\n",
    "def gender_fmt(val):\n",
    "    \n",
    "    val_fmt = val.capitalize()\n",
    "    return val_fmt\n",
    "\n",
    "## WARD\n",
    "gender_pct_ward_table = gender_population_by_borough_ward_year_filtered.T[3:]\n",
    "gender_pct_ward_table.columns = [ward_name]\n",
    "gender_pct_ward_table[ward_name] = gender_pct_ward_table[ward_name].apply(lambda val: pct_fmt(val))\n",
    "\n",
    "\n",
    "## Borough\n",
    "gender_pct_borough_table = gender_population_by_borough_year_filtered.T[2:]\n",
    "gender_pct_borough_table.columns = [borough]\n",
    "gender_pct_borough_table[borough] = gender_pct_borough_table[borough].apply(lambda val: pct_fmt(val))\n",
    "\n",
    "## City\n",
    "gender_pct_city_table = gender_population_by_city_year_filtered.T[1:]\n",
    "gender_pct_city_table.columns = [city]\n",
    "gender_pct_city_table[city] = gender_pct_city_table[city].apply(lambda val: pct_fmt(val))\n",
    "\n",
    "gender_pct_city_table = pd.concat([gender_pct_ward_table, gender_pct_borough_table, gender_pct_city_table], axis=1)\n",
    "gender_pct_city_table[\"Gender\"] = gender_pct_city_table.index\n",
    "gender_pct_city_table = gender_pct_city_table.reset_index(drop=True)\n",
    "\n",
    "gender_pct_city_table = gender_pct_city_table[[\"Gender\", ward_name, borough, city]].sort_values([\"Gender\"])\n",
    "gender_pct_city_table[\"Gender\"] = gender_pct_city_table[\"Gender\"].apply(lambda val:gender_fmt(val))\n",
    "gender_pct_city_table\n",
    "\n"
   ]
  },
  {
   "cell_type": "code",
   "execution_count": 193,
   "id": "1f2e0af0-e273-4d7e-885a-7563eda27e4e",
   "metadata": {},
   "outputs": [
    {
     "data": {
      "text/plain": [
       "[['', '#D7BDE2', '', ''], ['', '#ABEBC6', '', '']]"
      ]
     },
     "execution_count": 193,
     "metadata": {},
     "output_type": "execute_result"
    }
   ],
   "source": [
    "def gender_pct_comparison_cell_shading(row, cell_shading):\n",
    "\n",
    "  inc_shades =[\"\", \"#EAFAF1\", \"#D5F5E3\", \"#ABEBC6\", \"#82E0AA\", \"#58D68D\"]\n",
    "  dec_shades =[\"\", \"#F5EEF8\", \"#EBDEF0\", \"#D7BDE2\", \"#C39BD3\", \"#AF7AC5\"]\n",
    "\n",
    "  ## Borough to City Check\n",
    "  ward_val    = float(row.iloc[1].split(\"%\")[0].strip())\n",
    "  borough_val = float(row.iloc[2].split(\"%\")[0].strip())\n",
    "  city_val    = float(row.iloc[3].split(\"%\")[0].strip())\n",
    "\n",
    "  diff_ward = city_val - ward_val\n",
    "  if diff_ward < 0:\n",
    "      ward_shades = inc_shades \n",
    "  else:\n",
    "      ward_shades = dec_shades \n",
    "\n",
    "  diff_borough =   city_val - borough_val\n",
    "  if diff_borough >= 0:\n",
    "      borough_shades = inc_shades \n",
    "  else:\n",
    "      borough_shades = dec_shades \n",
    "\n",
    "  ward_val_cell_col = ward_shades[0] if abs(diff_ward) <  5.0 else \\\n",
    "                      ward_shades[1] if abs(diff_ward) < 10.0 else \\\n",
    "                      ward_shades[2] if abs(diff_ward) < 15.0 else \\\n",
    "                      ward_shades[3] if abs(diff_ward) < 20.0 else \\\n",
    "                      ward_shades[4]\n",
    "\n",
    "  borough_val_col   = borough_shades[0] if abs(diff_borough) <  5.0 else \\\n",
    "                      borough_shades[1] if abs(diff_borough) < 10.0 else \\\n",
    "                      borough_shades[2] if abs(diff_borough) < 15.0 else \\\n",
    "                      borough_shades[3] if abs(diff_borough) < 20.0 else \\\n",
    "                      borough_shades[4] \n",
    "\n",
    "  cell_shading.append([\"\", ward_val_cell_col, borough_val_col, \"\"])\n",
    "    \n",
    "gender_pct_city_table_shading = []\n",
    "gender_pct_city_table.apply(lambda row: gender_pct_comparison_cell_shading(row, gender_pct_city_table_shading), axis=1)\n",
    "gender_pct_city_table_shading"
   ]
  },
  {
   "cell_type": "markdown",
   "id": "90a04c80-b098-4d60-bcd9-e9a87b1b0621",
   "metadata": {},
   "source": [
    "# NARRATIVES"
   ]
  },
  {
   "cell_type": "code",
   "execution_count": 192,
   "id": "b16abe88-cdf7-4fa9-9027-cda8a59fbba9",
   "metadata": {},
   "outputs": [
    {
     "name": "stdout",
     "output_type": "stream",
     "text": [
      "2022-08-27 18:12:04,168 [DEBUG] __main__: \n",
      "Using the latest population data from 2011 which is outside your search range of 2012 to 2021. The table {} shows that Bloomsbury in Westminster is Slightly Populated compared to other London wards.\n",
      "2022-08-27 18:12:04,169 [DEBUG] __main__: \n",
      "2022-08-27 18:12:04,170 [DEBUG] __main__: \n",
      "The table {} shows that Westminster is Very Highly Populated compared to other London boroughs and where it ranks in population per hectars. The population level at ward and borough are at different levels.\n"
     ]
    }
   ],
   "source": [
    "###\n",
    "### POPULATON NARRATIVE 01 \n",
    "###\n",
    "\n",
    "population_narrative_01 = \"\"\n",
    "population_in_not_in = \"in\" if ((population_year_to >= population_year_from_orig) &\n",
    "                             (population_year_to <= population_year_to)) else \"outside\"\n",
    "\n",
    "population_search_range = f\"of {population_year_from_orig} to {population_year_to_orig}\" if population_year_from_orig != population_year_to_orig else f\"{population_year_to_orig}\"\n",
    "population_narrative_search_criters = f\"Using the latest population data from {population_year_to} which is {population_in_not_in} your search range {population_search_range}\"\n",
    "\n",
    "ward_borough_population_level = pph_population_by_borough_ward_year_filtered[\"POPULATION_STATUS\"].values[0]\n",
    "population_narrative_01 = f\"{population_narrative_search_criters}. The table {{}} shows that {ward_name} in {borough} is {ward_borough_population_level} compared to other {city} wards.\"\n",
    "\n",
    "borough_population_level = pph_population_by_borough_year_df_sorted.loc[pph_population_by_borough_year_df_sorted[\"BOROUGH\"] == borough][\"POPULATION_STATUS\"].values[0]\n",
    "borough_to_ward_population_level = \"are the same\" if ward_borough_population_level == borough_population_level else \"are at different levels\"\n",
    "population_narrative_02 = f\"The table {{}} shows that {borough} is {borough_population_level} compared to other {city} boroughs and where it ranks in population per hectars.\" + \\\n",
    "                          f\" The population level at ward and borough {borough_to_ward_population_level}.\"\n",
    "\n",
    "\n",
    "log.debug(f\"\\n{population_narrative_01}\")\n",
    "log.debug(\"\")\n",
    "log.debug(f\"\\n{population_narrative_02}\")"
   ]
  },
  {
   "cell_type": "markdown",
   "id": "449e5b58-8d1d-4c51-90d7-638981812812",
   "metadata": {},
   "source": [
    "# REPORT PAGE"
   ]
  },
  {
   "cell_type": "markdown",
   "id": "3282b35a-8a03-420b-ada6-f249f34000ea",
   "metadata": {},
   "source": [
    "# REPORT GENERATION"
   ]
  },
  {
   "cell_type": "markdown",
   "id": "86055943-ab64-490f-bca6-aff595502e39",
   "metadata": {},
   "source": [
    "## ARTEFACTS"
   ]
  },
  {
   "cell_type": "code",
   "execution_count": 223,
   "id": "a317069b-dde0-4684-9869-01c9ab0d154e",
   "metadata": {},
   "outputs": [
    {
     "name": "stdout",
     "output_type": "stream",
     "text": [
      "The autoreload extension is already loaded. To reload it, use:\n",
      "  %reload_ext autoreload\n",
      "2022-08-27 19:00:54,445 [INFO] lib.db_tools: DATABASE CONNECTIVITY\n",
      "2022-08-27 19:00:54,446 [DEBUG] managers.sections.sd_report_section_02_Population: population orig_year_to    :2021\n",
      "2022-08-27 19:00:54,447 [DEBUG] managers.sections.sd_report_section_02_Population: population search_year_to  :2011\n",
      "2022-08-27 19:00:54,448 [DEBUG] managers.sections.sd_report_section_02_Population: {'year_from': 2011, 'year_to': 2011, 'borough': 'Westminster', 'ward_name': 'Bloomsbury'}\n",
      "2022-08-27 19:00:54,458 [DEBUG] managers.sections.sd_report_section_02_Population: min_borough_ward_density_pph:7.766666666666667\n",
      "2022-08-27 19:00:54,459 [DEBUG] managers.sections.sd_report_section_02_Population: max_borough_ward_density_pph:293.08796992481206\n",
      "2022-08-27 19:00:54,460 [DEBUG] managers.sections.sd_report_section_02_Population: [7.766666666666667, 65.83092731829575, 123.89518796992483, 181.95944862155395, 240.02370927318302, inf]\n",
      "2022-08-27 19:00:54,485 [DEBUG] managers.sections.sd_report_section_02_Population: min_borough_density_pph:44.87246023949719\n",
      "2022-08-27 19:00:54,486 [DEBUG] managers.sections.sd_report_section_02_Population: max_borough_density_pph:215.0413051899063\n",
      "2022-08-27 19:00:54,553 [DEBUG] managers.sd_report_manager_new: {'borough_ward_population_table':          Borough        Ward Persons per Hectare    Population Level\n",
      "670  Westminster  Bloomsbury                72.5  Slightly Populated, 'borough_population_table':                    Borough Persons per Hectare       Population Level\n",
      "29           Tower Hamlets              219.57  Very Highly Populated\n",
      "19  Kensington and Chelsea              205.41  Very Highly Populated\n",
      "32             Westminster              197.62  Very Highly Populated\n",
      "12  Hammersmith and Fulham              191.12  Very Highly Populated\n",
      "11                 Hackney              182.86  Very Highly Populated\n",
      "5                   Camden              181.26  Very Highly Populated\n",
      "24                  Newham              170.98  Very Highly Populated\n",
      "18               Islington              163.95       Highly Populated\n",
      "27               Southwark              162.90       Highly Populated\n",
      "21                 Lambeth              154.57       Highly Populated\n",
      "31              Wandsworth              148.64       Highly Populated\n",
      "13                Haringey              136.72       Highly Populated\n",
      "30          Waltham Forest              117.06    Averagely Populated\n",
      "3                    Brent              103.68    Averagely Populated\n",
      "8                   Ealing              102.37    Averagely Populated\n",
      "22                Lewisham              101.45    Averagely Populated\n",
      "10               Greenwich              100.56    Averagely Populated\n",
      "0     Barking and Dagenham               96.92     Slightly Populated\n",
      "9                  Enfield               96.20     Slightly Populated\n",
      "17                Hounslow               93.62     Slightly Populated\n",
      "23                  Merton               92.88     Slightly Populated\n",
      "25               Redbridge               92.33     Slightly Populated\n",
      "1                   Barnet               78.56     Slightly Populated\n",
      "7                  Croydon               75.68     Slightly Populated\n",
      "20    Kingston upon Thames               75.54     Slightly Populated\n",
      "14                  Harrow               75.33     Slightly Populated\n",
      "26    Richmond upon Thames               74.31     Slightly Populated\n",
      "28                  Sutton               69.02     Slightly Populated\n",
      "2                   Bexley               64.90     Scarcely Populated\n",
      "16              Hillingdon               58.12     Scarcely Populated\n",
      "15                Havering               55.32     Scarcely Populated\n",
      "4                  Bromley               51.95     Scarcely Populated\n",
      "6           City of London               41.54     Scarcely Populated, 'borough_population_table_shading': [['', '', ''], ['', '', ''], ['#F7DC6F', '#F7DC6F', '#F7DC6F'], ['', '', ''], ['', '', ''], ['', '', ''], ['', '', ''], ['', '', ''], ['', '', ''], ['', '', ''], ['', '', ''], ['', '', ''], ['', '', ''], ['', '', ''], ['', '', ''], ['', '', ''], ['', '', ''], ['', '', ''], ['', '', ''], ['', '', ''], ['', '', ''], ['', '', ''], ['', '', ''], ['', '', ''], ['', '', ''], ['', '', ''], ['', '', ''], ['', '', ''], ['', '', ''], ['', '', ''], ['', '', ''], ['', '', ''], ['', '', '']], 'gender_pct_city_table':    Gender Bloomsbury Westminster  London\n",
      "1  Female     33.00%      49.00%  51.00%\n",
      "0    Male     67.00%      51.00%  49.00%, 'gender_pct_city_table_shading': [['', '#D7BDE2', '', ''], ['', '#ABEBC6', '', '']], 'population_narrative_01': 'Using the latest population data from 2011 which is outside your search range of 2012 to 2021. The table {} shows that Bloomsbury in Westminster is Slightly Populated compared to other London wards.', 'population_narrative_02': 'The table {} shows that Westminster is Very Highly Populated compared to other London boroughs and where it ranks in persons per hectars. The population level at ward and borough are at different levels.', 'population_narrative_03': 'Currently gender is only recorded at a binary level and is something which will be addressed in future datasets. The {} table shows the percentage of males and females at the ward, borough and city levels. Value shading indicates a difference from the city level from 5 to 25 percent in 5 percent intervals. The shade darkens with an increase in difference. Increases and decreases use different colours for clarity.'}\n"
     ]
    }
   ],
   "source": [
    " ### Set up\n",
    "%load_ext autoreload\n",
    "\n",
    "%autoreload 3\n",
    "from data.daos import dao_facade_local as dao_fac\n",
    "from lib import masters_data_analytics_lib as mlib\n",
    "from managers.sections import sd_report_section_02_Population as report_section_education\n",
    "\n",
    "session_id = \"SECTION_TEST_02_POPULATION\"\n",
    "report_context = {}\n",
    "search_term = {\n",
    "    \"city\"      : city\n",
    "  , \"borough\"   : borough\n",
    "  , \"ward_name\" : ward_name\n",
    "  , \"year_to\"   : year_to\n",
    "  , \"year_from\" : year_from\n",
    "}\n",
    "\n",
    "report_section_education.generate_report_section(session_id     = session_id\n",
    "                                               , search_term    = search_term\n",
    "                                               , report_context = report_context\n",
    "                                               , properties     = properties \n",
    "                                               , dao_fac        = dao_fac)  \n",
    "\n",
    "log.debug(report_context)"
   ]
  },
  {
   "cell_type": "markdown",
   "id": "45176826-dfde-4edf-a6aa-b673a53f6ca3",
   "metadata": {},
   "source": [
    "## REPORT"
   ]
  },
  {
   "cell_type": "code",
   "execution_count": 224,
   "id": "1087e37c-66fb-42f9-93fa-55c4566055e8",
   "metadata": {},
   "outputs": [
    {
     "name": "stdout",
     "output_type": "stream",
     "text": [
      "The autoreload extension is already loaded. To reload it, use:\n",
      "  %reload_ext autoreload\n",
      "2022-08-27 19:00:56,805 [DEBUG] managers.sd_report_manager_new: Started\n",
      "2022-08-27 19:00:56,817 [DEBUG] managers.sd_report_manager_new: text_alignment:justify\n",
      "2022-08-27 19:00:56,819 [WARNING] managers.sd_report_manager_new: Not a Command\n",
      "2022-08-27 19:00:56,831 [WARNING] managers.sd_report_manager_new: Not a Command\n",
      "2022-08-27 19:00:56,879 [DEBUG] managers.sd_report_manager_new: text_alignment:justify\n",
      "2022-08-27 19:00:56,881 [WARNING] managers.sd_report_manager_new: Not a Command\n",
      "2022-08-27 19:00:57,251 [WARNING] managers.sd_report_manager_new: Not a Command\n",
      "2022-08-27 19:00:57,252 [WARNING] managers.sd_report_manager_new: Not a Command\n",
      "2022-08-27 19:00:57,292 [WARNING] managers.sd_report_manager_new: Not a Command\n",
      "2022-08-27 19:00:57,295 [DEBUG] managers.sd_report_manager_new: text_alignment:justify\n",
      "2022-08-27 19:00:57,297 [WARNING] managers.sd_report_manager_new: Not a Command\n",
      "2022-08-27 19:00:57,315 [WARNING] managers.sd_report_manager_new: Not a Command\n",
      "2022-08-27 19:00:57,317 [WARNING] managers.sd_report_manager_new: Not a Command\n",
      "2022-08-27 19:00:57,318 [WARNING] managers.sd_report_manager_new: Not a Command\n",
      "2022-08-27 19:00:57,357 [DEBUG] managers.sd_report_manager_new: Finished\n"
     ]
    }
   ],
   "source": [
    "%load_ext autoreload\n",
    "\n",
    "%autoreload 3\n",
    "\n",
    "from managers import sd_report_manager_new as report_man\n",
    "\n",
    "report_context_new = {\"template_processor_file_name\":\"./reports/processors/sd_test_generation_02_population.json\",\n",
    "                      \"report_option\":1} \n",
    "\n",
    "report_context.update(report_context_new)\n",
    "\n",
    "log.debug(\"Started\")\n",
    "generated_report = report_man.generate_report(session_id\n",
    "                                            , report_context = report_context\n",
    "                                            , properties = properties)\n",
    "log.debug(\"Finished\")"
   ]
  }
 ],
 "metadata": {
  "kernelspec": {
   "display_name": "Python 3 (ipykernel)",
   "language": "python",
   "name": "python3"
  },
  "language_info": {
   "codemirror_mode": {
    "name": "ipython",
    "version": 3
   },
   "file_extension": ".py",
   "mimetype": "text/x-python",
   "name": "python",
   "nbconvert_exporter": "python",
   "pygments_lexer": "ipython3",
   "version": "3.10.2"
  }
 },
 "nbformat": 4,
 "nbformat_minor": 5
}
