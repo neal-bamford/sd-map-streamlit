{
 "cells": [
  {
   "cell_type": "code",
   "execution_count": 25,
   "id": "e2097d1e-a623-468f-99ab-959cd7c43ae8",
   "metadata": {},
   "outputs": [
    {
     "name": "stdout",
     "output_type": "stream",
     "text": [
      "[<docx.table.Table object at 0x000002117A691C90>, <docx.table.Table object at 0x00000211789E0100>]\n"
     ]
    }
   ],
   "source": [
    "from docx import Document\n",
    "import mailmerge as mm\n",
    "import docx\n",
    "import sys\n",
    "from docx.shared import Inches\n",
    "from fpdf import FPDF\n",
    "sys.path.append(\"../lib/\")\n",
    "\n",
    "# print(sys.path)\n",
    "\n",
    "# from lib import file_tools as ft\n",
    "\n",
    "template = \"../reports/templates/sd_general_report_processor_template.docx\"\n",
    "\n",
    "image_document = Document(template)\n",
    "\n",
    "# Reference the tables. This is where we will add our images\n",
    "image_tables = image_document.tables\n",
    "\n",
    "print(image_tables)\n",
    "\n",
    "paragraph2 = image_tables[1].rows[0].cells[0].add_paragraph()\n",
    "paragraph_run2 = paragraph2.add_run()\n",
    "paragraph2.alignment = 1\n",
    "paragraph_run2.add_picture(\"C:/DEVELOPMENT/MASTERS/semester-03/sd-map-streamlit/reports/generation/images/fa9504cd_mekko_gender_borough_london_Hackney_Hackney Downs.png\", width=Inches(3.0))\n",
    "\n",
    "image_document.save(\"c:/temp/temp.docx\")"
   ]
  }
 ],
 "metadata": {
  "kernelspec": {
   "display_name": "Python 3 (ipykernel)",
   "language": "python",
   "name": "python3"
  },
  "language_info": {
   "codemirror_mode": {
    "name": "ipython",
    "version": 3
   },
   "file_extension": ".py",
   "mimetype": "text/x-python",
   "name": "python",
   "nbconvert_exporter": "python",
   "pygments_lexer": "ipython3",
   "version": "3.10.2"
  }
 },
 "nbformat": 4,
 "nbformat_minor": 5
}
