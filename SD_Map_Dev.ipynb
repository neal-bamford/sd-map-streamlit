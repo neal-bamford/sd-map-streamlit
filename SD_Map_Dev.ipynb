{
 "cells": [
  {
   "cell_type": "code",
   "execution_count": null,
   "id": "94d0fbe3-3250-4f17-8fef-b75a7271f00d",
   "metadata": {},
   "outputs": [],
   "source": [
    "from lib import masters_data_analytics_lib as mlib\n",
    "from lib import stats as stats\n",
    "\n",
    "import config_logging\n",
    "import logging\n",
    "import numpy as np\n",
    "import pandas as pd\n",
    "import pyodbc \n",
    "import urllib.request\n",
    "\n",
    "log = logging.getLogger(__name__)\n",
    "external_ip = urllib.request.urlopen('https://ident.me').read().decode('utf8')"
   ]
  },
  {
   "cell_type": "code",
   "execution_count": null,
   "id": "9453e3ba-943e-471e-98de-ee01aa92d623",
   "metadata": {},
   "outputs": [],
   "source": [
    "### Import ./.streamlit/secrets.toml\n",
    "\n",
    "import toml\n",
    "secrets = toml.load(\"./.streamlit/secrets.toml\")\n",
    "\n",
    "database_toml = secrets[secrets[\"database\"][\"flavour\"]] \n",
    "\n",
    "database_props = {\n",
    "                   \"driver\"   : database_toml[\"driver\"]\n",
    "                 , \"host\"     : database_toml[\"host\"]\n",
    "                 , \"port\"     : database_toml[\"port\"]\n",
    "                 , \"instance\" : database_toml[\"instance\"]\n",
    "                 , \"database\" : database_toml[\"database\"]\n",
    "                 , \"username\" : database_toml[\"username\"]\n",
    "                 , \"password\" : database_toml[\"password\"]\n",
    "}\n",
    "db_conn = None\n",
    "## Connect to the database -- this might move to a factory method to provide the connection\n",
    "\n",
    "\n",
    "def get_db_conn(database_props):\n",
    "    try:                      \n",
    "        db_conn = pyodbc.connect(driver   = database_props[\"driver\"]\n",
    "                               , server   = \"{},{}\\{}\".format(database_props[\"host\"], database_props[\"port\"], database_props[\"instance\"])\n",
    "                               , database = database_props[\"database\"]\n",
    "                               , uid      = database_props[\"username\"]\n",
    "                               , pwd      = database_props[\"password\"])\n",
    "\n",
    "        log.info(f\"DATABASE CONNECTIVITY from {external_ip}\") \n",
    "    except Exception as e:\n",
    "        log.error(f\"NO DATABASE CONNECTIVITY from {external_ip}\") \n",
    "        log.error(e)\n",
    "        raise Exception(\"DATABASE CONNECTIVITY\")\n",
    "        \n",
    "    return db_conn\n"
   ]
  },
  {
   "cell_type": "code",
   "execution_count": 9,
   "id": "d3a8b9e5-43d2-45c2-bddd-3e590c4d7a3d",
   "metadata": {},
   "outputs": [],
   "source": [
    "## City\n",
    "city = \"london\"\n",
    "search_term = \"E1 6AN\"\n",
    "\n",
    "##\n",
    "## LOAD ALL THE DATA FILES\n",
    "##\n",
    "## London Post Codes\n",
    "sd_london_postcodes_file = \"./data/streamlit_{}_postcodes_oa.csv\".format(city)\n",
    "sd_london_population_oa_file = \"./data/streamlit_{}_population_oa.csv\".format(city)\n",
    "sd_london_household_oa_file = \"./data/streamlit_{}_household_population_oa.csv\".format(city)\n",
    "sd_london_qualification_oa_file = \"./data/streamlit_{}_qualifictation_population_oa.csv\".format(city)\n",
    "\n",
    "sd_london_population_oa_df   = mlib.csv_to_dataframe(sd_london_population_oa_file)\n",
    "sd_london_postcodes_df = mlib.csv_to_dataframe(sd_london_postcodes_file)\n",
    "sd_london_household_oa_df   = mlib.csv_to_dataframe(sd_london_household_oa_file)\n",
    "sd_london_qualification_oa_df   = mlib.csv_to_dataframe(sd_london_qualification_oa_file) \n"
   ]
  },
  {
   "cell_type": "code",
   "execution_count": 10,
   "id": "71a697e6-21fd-4a24-824a-629b66f59f0d",
   "metadata": {},
   "outputs": [],
   "source": [
    "try:\n",
    "    OAcode = sd_london_postcodes_df.loc[sd_london_postcodes_df[\"Post_Code\"] == search_term][\"OAcode\"].values[0]\n",
    "except:\n",
    "    raise Exception(\"Unable to find post code {}\".format(search_term))\n",
    "\n",
    "other_post_codes = sd_london_postcodes_df.loc[sd_london_postcodes_df[\"OAcode\"] == OAcode][\"Post_Code\"].to_numpy()\n",
    "other_post_codes = np.delete(other_post_codes, np.where(other_post_codes == search_term))\n",
    "number_of_boroughs = len(sd_london_postcodes_df[\"borough\"].unique())\n",
    "\n",
    "\n",
    "## Obtain the ward_name from the OACode\n",
    "ward_name = sd_london_postcodes_df.loc[sd_london_postcodes_df[\"OAcode\"] == OAcode][\"WARD_NAME\"].values[0]\n",
    "borough   = sd_london_postcodes_df.loc[sd_london_postcodes_df['OAcode'] == OAcode][\"borough\"].values[0]\n",
    "\n",
    "other_wards = sd_london_postcodes_df.loc[sd_london_postcodes_df[\"borough\"] == borough][\"WARD_NAME\"]\n",
    "other_wards = other_wards.unique()\n",
    "other_wards = np.delete(other_wards, np.where(other_wards == borough))\n",
    "\n",
    "post_code_search_longitude = sd_london_postcodes_df.loc[sd_london_postcodes_df[\"Post_Code\"] == search_term][\"longitude\"].to_numpy()\n",
    "post_code_search_latitude = sd_london_postcodes_df.loc[sd_london_postcodes_df[\"Post_Code\"] == search_term][\"latitude\"].to_numpy()\n",
    "\n",
    "pc_longitudes = sd_london_postcodes_df.loc[sd_london_postcodes_df[\"borough\"] == borough][\"longitude\"].to_numpy()\n",
    "pc_latitudes  = sd_london_postcodes_df.loc[sd_london_postcodes_df[\"borough\"] == borough][\"latitude\"].to_numpy()\n"
   ]
  },
  {
   "cell_type": "code",
   "execution_count": 11,
   "id": "76b47e2d-9955-4732-b5f6-6bd4b5375479",
   "metadata": {},
   "outputs": [],
   "source": [
    "### Stats\n",
    "\n",
    "###\n",
    "### Population\n",
    "###\n",
    "pop_all_stats\t  = stats.generate_stats(sd_london_population_oa_df, borough, ward_name, OAcode, \"All\")\n",
    "pop_male_stats\t  = stats.generate_stats(sd_london_population_oa_df, borough, ward_name, OAcode, \"Males\")\n",
    "pop_female_stats  = stats.generate_stats(sd_london_population_oa_df, borough, ward_name, OAcode, \"Females\")\n",
    "pop_density_stats = stats.generate_stats(sd_london_population_oa_df, borough, ward_name, OAcode, \"DensityPPH\")\n"
   ]
  },
  {
   "cell_type": "code",
   "execution_count": 12,
   "id": "c9fd26cc-4391-4501-8281-31360b5e0171",
   "metadata": {},
   "outputs": [
    {
     "name": "stdout",
     "output_type": "stream",
     "text": [
      "OA M:64.0 F:36.0\n",
      "Ward M:64.0 F:36.0\n",
      "Borough M:55.0 F:45.0\n",
      "49.0\n"
     ]
    }
   ],
   "source": [
    "### Male female ratio\n",
    "## OA\n",
    "pop_male_female_oa_total =pop_male_stats[\"oacode_sum\"] + pop_female_stats[\"oacode_sum\"]\n",
    "pop_male_oa_ratio = round(pop_male_stats[\"oacode_sum\"]/pop_male_female_oa_total * 100,0)\n",
    "pop_female_oa_ratio = round(pop_female_stats[\"oacode_sum\"]/pop_male_female_oa_total * 100,0)\n",
    "print(\"OA M:{} F:{}\".format(pop_male_oa_ratio, pop_female_oa_ratio))\n",
    "\n",
    "## Ward\n",
    "pop_male_female_ward_total =pop_male_stats[\"ward_sum\"] + pop_female_stats[\"ward_sum\"]\n",
    "pop_male_ward_ratio = round(pop_male_stats[\"ward_sum\"]/pop_male_female_oa_total * 100,0)\n",
    "pop_female_ward_ratio = round(pop_female_stats[\"ward_sum\"]/pop_male_female_oa_total * 100,0)\n",
    "print(\"Ward M:{} F:{}\".format(pop_male_ward_ratio, pop_female_ward_ratio))\n",
    "\n",
    "## Borough\n",
    "pop_male_female_borough_total = pop_male_stats[\"borough_sum\"] + pop_female_stats[\"borough_sum\"]\n",
    "pop_male_borough_ratio = round(pop_male_stats[\"borough_sum\"]/pop_male_female_borough_total * 100,0)\n",
    "pop_female_borough_ratio = round(pop_female_stats[\"borough_sum\"]/pop_male_female_borough_total * 100,0)\n",
    "print(\"Borough M:{} F:{}\".format(pop_male_borough_ratio, pop_female_borough_ratio))\n",
    "\n",
    "## Borough Average\n",
    "pop_male_female_city_borough_total = pop_male_stats[\"city_sum\"] + pop_female_stats[\"city_sum\"]\n",
    "pop_male_city_ratio = round(pop_male_stats[\"city_sum\"]/pop_male_female_city_borough_total * 100,0)\n",
    "pop_female_city_ratio = round(pop_female_stats[\"city_sum\"]/pop_male_female_city_borough_total * 100,0)\n",
    "\n",
    "print(pop_male_city_ratio)\n"
   ]
  },
  {
   "cell_type": "code",
   "execution_count": 13,
   "id": "1b5f87c2-cabe-4795-972d-c648cfb6454f",
   "metadata": {},
   "outputs": [
    {
     "data": {
      "image/png": "[encoded data removed]",
      "text/plain": [
       "<Figure size 432x288 with 1 Axes>"
      ]
     },
     "metadata": {
      "needs_background": "light"
     },
     "output_type": "display_data"
    }
   ],
   "source": [
    "import matplotlib.pyplot as plt\n",
    "\n",
    "# create data\n",
    "x = [\"Males Borough\", \"Males Borough Avg.\", \"Females Borough\", \"Females Borough Avg.\"]\n",
    "y1 = [pop_male_borough_ratio, pop_female_borough_ratio, pop_male_city_ratio, pop_female_city_ratio]\n",
    "  \n",
    "# plot bars in stack manner\n",
    "plt.bar(x, y1, color='r')\n",
    "# plt.bar(x, y2, bottom=y1, color='b')\n",
    "plt.show()"
   ]
  },
  {
   "cell_type": "code",
   "execution_count": 14,
   "id": "8cc7aa78-51a2-4b34-936f-427458491620",
   "metadata": {},
   "outputs": [
    {
     "ename": "ValueError",
     "evalue": "Length of names must match number of levels in MultiIndex.",
     "output_type": "error",
     "traceback": [
      "\u001b[1;31m---------------------------------------------------------------------------\u001b[0m",
      "\u001b[1;31mValueError\u001b[0m                                Traceback (most recent call last)",
      "Input \u001b[1;32mIn [14]\u001b[0m, in \u001b[0;36m<module>\u001b[1;34m\u001b[0m\n\u001b[0;32m     28\u001b[0m props \u001b[38;5;241m=\u001b[39m \u001b[38;5;28;01mlambda\u001b[39;00m key: {\u001b[38;5;124m'\u001b[39m\u001b[38;5;124mcolor\u001b[39m\u001b[38;5;124m'\u001b[39m: \u001b[38;5;124m'\u001b[39m\u001b[38;5;124morange\u001b[39m\u001b[38;5;124m'\u001b[39m \u001b[38;5;28;01mif\u001b[39;00m \u001b[38;5;124m'\u001b[39m\u001b[38;5;124mmale\u001b[39m\u001b[38;5;124m'\u001b[39m \u001b[38;5;129;01min\u001b[39;00m key \u001b[38;5;28;01melse\u001b[39;00m \u001b[38;5;124m'\u001b[39m\u001b[38;5;124mdeepskyblue\u001b[39m\u001b[38;5;124m'\u001b[39m}\n\u001b[0;32m     31\u001b[0m matrix \u001b[38;5;241m=\u001b[39m \u001b[38;5;28mlist\u001b[39m(product(names, options))\n\u001b[1;32m---> 33\u001b[0m index \u001b[38;5;241m=\u001b[39m \u001b[43mpd\u001b[49m\u001b[38;5;241;43m.\u001b[39;49m\u001b[43mMultiIndex\u001b[49m\u001b[38;5;241;43m.\u001b[39;49m\u001b[43mfrom_tuples\u001b[49m\u001b[43m(\u001b[49m\u001b[43mmatrix\u001b[49m\u001b[43m,\u001b[49m\u001b[43m \u001b[49m\u001b[43mnames\u001b[49m\u001b[38;5;241;43m=\u001b[39;49m\u001b[43mnames\u001b[49m\u001b[43m)\u001b[49m\n\u001b[0;32m     35\u001b[0m \u001b[38;5;28mprint\u001b[39m(index)\n\u001b[0;32m     37\u001b[0m data \u001b[38;5;241m=\u001b[39m pd\u001b[38;5;241m.\u001b[39mSeries(_data, index\u001b[38;5;241m=\u001b[39mindex)\n",
      "File \u001b[1;32mC:\\DISTRIBUTIONS\\Python\\Python3_10_2\\lib\\site-packages\\pandas\\core\\indexes\\multi.py:204\u001b[0m, in \u001b[0;36mnames_compat.<locals>.new_meth\u001b[1;34m(self_or_cls, *args, **kwargs)\u001b[0m\n\u001b[0;32m    201\u001b[0m \u001b[38;5;28;01melif\u001b[39;00m \u001b[38;5;124m\"\u001b[39m\u001b[38;5;124mname\u001b[39m\u001b[38;5;124m\"\u001b[39m \u001b[38;5;129;01min\u001b[39;00m kwargs:\n\u001b[0;32m    202\u001b[0m     kwargs[\u001b[38;5;124m\"\u001b[39m\u001b[38;5;124mnames\u001b[39m\u001b[38;5;124m\"\u001b[39m] \u001b[38;5;241m=\u001b[39m kwargs\u001b[38;5;241m.\u001b[39mpop(\u001b[38;5;124m\"\u001b[39m\u001b[38;5;124mname\u001b[39m\u001b[38;5;124m\"\u001b[39m)\n\u001b[1;32m--> 204\u001b[0m \u001b[38;5;28;01mreturn\u001b[39;00m meth(self_or_cls, \u001b[38;5;241m*\u001b[39margs, \u001b[38;5;241m*\u001b[39m\u001b[38;5;241m*\u001b[39mkwargs)\n",
      "File \u001b[1;32mC:\\DISTRIBUTIONS\\Python\\Python3_10_2\\lib\\site-packages\\pandas\\core\\indexes\\multi.py:566\u001b[0m, in \u001b[0;36mMultiIndex.from_tuples\u001b[1;34m(cls, tuples, sortorder, names)\u001b[0m\n\u001b[0;32m    563\u001b[0m     arrs \u001b[38;5;241m=\u001b[39m \u001b[38;5;28mzip\u001b[39m(\u001b[38;5;241m*\u001b[39mtuples)\n\u001b[0;32m    564\u001b[0m     arrays \u001b[38;5;241m=\u001b[39m cast(List[Sequence[Hashable]], arrs)\n\u001b[1;32m--> 566\u001b[0m \u001b[38;5;28;01mreturn\u001b[39;00m \u001b[38;5;28;43mcls\u001b[39;49m\u001b[38;5;241;43m.\u001b[39;49m\u001b[43mfrom_arrays\u001b[49m\u001b[43m(\u001b[49m\u001b[43marrays\u001b[49m\u001b[43m,\u001b[49m\u001b[43m \u001b[49m\u001b[43msortorder\u001b[49m\u001b[38;5;241;43m=\u001b[39;49m\u001b[43msortorder\u001b[49m\u001b[43m,\u001b[49m\u001b[43m \u001b[49m\u001b[43mnames\u001b[49m\u001b[38;5;241;43m=\u001b[39;49m\u001b[43mnames\u001b[49m\u001b[43m)\u001b[49m\n",
      "File \u001b[1;32mC:\\DISTRIBUTIONS\\Python\\Python3_10_2\\lib\\site-packages\\pandas\\core\\indexes\\multi.py:493\u001b[0m, in \u001b[0;36mMultiIndex.from_arrays\u001b[1;34m(cls, arrays, sortorder, names)\u001b[0m\n\u001b[0;32m    490\u001b[0m \u001b[38;5;28;01mif\u001b[39;00m names \u001b[38;5;129;01mis\u001b[39;00m lib\u001b[38;5;241m.\u001b[39mno_default:\n\u001b[0;32m    491\u001b[0m     names \u001b[38;5;241m=\u001b[39m [\u001b[38;5;28mgetattr\u001b[39m(arr, \u001b[38;5;124m\"\u001b[39m\u001b[38;5;124mname\u001b[39m\u001b[38;5;124m\"\u001b[39m, \u001b[38;5;28;01mNone\u001b[39;00m) \u001b[38;5;28;01mfor\u001b[39;00m arr \u001b[38;5;129;01min\u001b[39;00m arrays]\n\u001b[1;32m--> 493\u001b[0m \u001b[38;5;28;01mreturn\u001b[39;00m \u001b[38;5;28;43mcls\u001b[39;49m\u001b[43m(\u001b[49m\n\u001b[0;32m    494\u001b[0m \u001b[43m    \u001b[49m\u001b[43mlevels\u001b[49m\u001b[38;5;241;43m=\u001b[39;49m\u001b[43mlevels\u001b[49m\u001b[43m,\u001b[49m\n\u001b[0;32m    495\u001b[0m \u001b[43m    \u001b[49m\u001b[43mcodes\u001b[49m\u001b[38;5;241;43m=\u001b[39;49m\u001b[43mcodes\u001b[49m\u001b[43m,\u001b[49m\n\u001b[0;32m    496\u001b[0m \u001b[43m    \u001b[49m\u001b[43msortorder\u001b[49m\u001b[38;5;241;43m=\u001b[39;49m\u001b[43msortorder\u001b[49m\u001b[43m,\u001b[49m\n\u001b[0;32m    497\u001b[0m \u001b[43m    \u001b[49m\u001b[43mnames\u001b[49m\u001b[38;5;241;43m=\u001b[39;49m\u001b[43mnames\u001b[49m\u001b[43m,\u001b[49m\n\u001b[0;32m    498\u001b[0m \u001b[43m    \u001b[49m\u001b[43mverify_integrity\u001b[49m\u001b[38;5;241;43m=\u001b[39;49m\u001b[38;5;28;43;01mFalse\u001b[39;49;00m\u001b[43m,\u001b[49m\n\u001b[0;32m    499\u001b[0m \u001b[43m\u001b[49m\u001b[43m)\u001b[49m\n",
      "File \u001b[1;32mC:\\DISTRIBUTIONS\\Python\\Python3_10_2\\lib\\site-packages\\pandas\\core\\indexes\\multi.py:335\u001b[0m, in \u001b[0;36mMultiIndex.__new__\u001b[1;34m(cls, levels, codes, sortorder, names, dtype, copy, name, verify_integrity)\u001b[0m\n\u001b[0;32m    332\u001b[0m result\u001b[38;5;241m.\u001b[39m_names \u001b[38;5;241m=\u001b[39m [\u001b[38;5;28;01mNone\u001b[39;00m] \u001b[38;5;241m*\u001b[39m \u001b[38;5;28mlen\u001b[39m(levels)  \u001b[38;5;66;03m# type: ignore[assignment]\u001b[39;00m\n\u001b[0;32m    333\u001b[0m \u001b[38;5;28;01mif\u001b[39;00m names \u001b[38;5;129;01mis\u001b[39;00m \u001b[38;5;129;01mnot\u001b[39;00m \u001b[38;5;28;01mNone\u001b[39;00m:\n\u001b[0;32m    334\u001b[0m     \u001b[38;5;66;03m# handles name validation\u001b[39;00m\n\u001b[1;32m--> 335\u001b[0m     \u001b[43mresult\u001b[49m\u001b[38;5;241;43m.\u001b[39;49m\u001b[43m_set_names\u001b[49m\u001b[43m(\u001b[49m\u001b[43mnames\u001b[49m\u001b[43m)\u001b[49m\n\u001b[0;32m    337\u001b[0m \u001b[38;5;28;01mif\u001b[39;00m sortorder \u001b[38;5;129;01mis\u001b[39;00m \u001b[38;5;129;01mnot\u001b[39;00m \u001b[38;5;28;01mNone\u001b[39;00m:\n\u001b[0;32m    338\u001b[0m     result\u001b[38;5;241m.\u001b[39msortorder \u001b[38;5;241m=\u001b[39m \u001b[38;5;28mint\u001b[39m(sortorder)\n",
      "File \u001b[1;32mC:\\DISTRIBUTIONS\\Python\\Python3_10_2\\lib\\site-packages\\pandas\\core\\indexes\\multi.py:1438\u001b[0m, in \u001b[0;36mMultiIndex._set_names\u001b[1;34m(self, names, level, validate)\u001b[0m\n\u001b[0;32m   1436\u001b[0m         \u001b[38;5;28;01mraise\u001b[39;00m \u001b[38;5;167;01mValueError\u001b[39;00m(\u001b[38;5;124m\"\u001b[39m\u001b[38;5;124mLength of names must match length of level.\u001b[39m\u001b[38;5;124m\"\u001b[39m)\n\u001b[0;32m   1437\u001b[0m     \u001b[38;5;28;01mif\u001b[39;00m level \u001b[38;5;129;01mis\u001b[39;00m \u001b[38;5;28;01mNone\u001b[39;00m \u001b[38;5;129;01mand\u001b[39;00m \u001b[38;5;28mlen\u001b[39m(names) \u001b[38;5;241m!=\u001b[39m \u001b[38;5;28mself\u001b[39m\u001b[38;5;241m.\u001b[39mnlevels:\n\u001b[1;32m-> 1438\u001b[0m         \u001b[38;5;28;01mraise\u001b[39;00m \u001b[38;5;167;01mValueError\u001b[39;00m(\n\u001b[0;32m   1439\u001b[0m             \u001b[38;5;124m\"\u001b[39m\u001b[38;5;124mLength of names must match number of levels in MultiIndex.\u001b[39m\u001b[38;5;124m\"\u001b[39m\n\u001b[0;32m   1440\u001b[0m         )\n\u001b[0;32m   1442\u001b[0m \u001b[38;5;28;01mif\u001b[39;00m level \u001b[38;5;129;01mis\u001b[39;00m \u001b[38;5;28;01mNone\u001b[39;00m:\n\u001b[0;32m   1443\u001b[0m     level \u001b[38;5;241m=\u001b[39m \u001b[38;5;28mrange\u001b[39m(\u001b[38;5;28mself\u001b[39m\u001b[38;5;241m.\u001b[39mnlevels)\n",
      "\u001b[1;31mValueError\u001b[0m: Length of names must match number of levels in MultiIndex."
     ]
    }
   ],
   "source": [
    "import pandas as pd\n",
    "from statsmodels.graphics.mosaicplot import mosaic\n",
    "import pylab\n",
    "from itertools import product\n",
    "import numpy as np\n",
    "\n",
    "\n",
    "if 1==1:\n",
    "\n",
    "    # pop_male_borough_ratio = 20\n",
    "    # pop_male_city_ratio = 50\n",
    "    # pop_female_borough_ratio = 80\n",
    "    # pop_female_city_ratio = 50\n",
    "\n",
    "    _data = [\n",
    "                     pop_male_ward_ratio\n",
    "                    , pop_male_borough_ratio\n",
    "                    , pop_male_city_ratio\n",
    "                    , pop_female_ward_ratio\n",
    "                    , pop_female_borough_ratio\n",
    "                    , pop_female_city_ratio]\n",
    "\n",
    "    \n",
    "    \n",
    "    options = [\"male\", \"female\"]\n",
    "    names = [\"ward\", \"borough\", \"borough average\"]\n",
    "    title = \"Gender Population - OA, Borough and Borough Average\"\n",
    "    props = lambda key: {'color': 'orange' if 'male' in key else 'deepskyblue'}\n",
    "    \n",
    "\n",
    "    matrix = list(product(names, options))\n",
    "\n",
    "    index = pd.MultiIndex.from_tuples(matrix, names=names)\n",
    "    \n",
    "    print(index)\n",
    "\n",
    "    data = pd.Series(_data, index=index)\n",
    "\n",
    "    mosaic(data, gap=0.01, title='Who knows multiple foregin languages? - Mosaic Chart')\n",
    "\n",
    "    pylab.show()    \n",
    "    \n",
    "    \n",
    "    \n",
    "    \n",
    "#     mosaic(data, gap=0.01, title='Gender Population - OA, Ward, Borough and Borough Average', properties=props)\n",
    "\n",
    "\n",
    "#     mlib.save_plot(plot=pylab, path=\"c:/temp/\", name=\"x.png\", save_artefacts=True)\n",
    "#     pylab.show()\n"
   ]
  },
  {
   "cell_type": "code",
   "execution_count": 15,
   "id": "fc7f6119-ef9a-4909-bb27-ad89bc8b190b",
   "metadata": {},
   "outputs": [
    {
     "name": "stdout",
     "output_type": "stream",
     "text": [
      "MultiIndex([(             'OA',   'male'),\n",
      "            (             'OA', 'female'),\n",
      "            (           'ward',   'male'),\n",
      "            (           'ward', 'female'),\n",
      "            (        'borough',   'male'),\n",
      "            (        'borough', 'female'),\n",
      "            ('borough average',   'male'),\n",
      "            ('borough average', 'female')],\n",
      "           names=['male', 'female'])\n"
     ]
    },
    {
     "data": {
      "text/plain": [
       "<module 'pylab' from 'C:\\\\DISTRIBUTIONS\\\\Python\\\\Python3_10_2\\\\lib\\\\site-packages\\\\pylab.py'>"
      ]
     },
     "execution_count": 15,
     "metadata": {},
     "output_type": "execute_result"
    },
    {
     "data": {
      "image/png": "[encoded data removed]",
      "text/plain": [
       "<Figure size 432x288 with 3 Axes>"
      ]
     },
     "metadata": {
      "needs_background": "light"
     },
     "output_type": "display_data"
    }
   ],
   "source": [
    "import pandas as pd\n",
    "import pylab\n",
    "import numpy as np\n",
    "from statsmodels.graphics.mosaicplot import mosaic\n",
    "from itertools import product\n",
    "\n",
    "# options == male/female || yes/no\n",
    "# names   == oa->boroufh avg || male/femal\n",
    "\n",
    "def mekko_chart(data, options, names, title, props):\n",
    "    \"\"\"\n",
    "    Makes a mekko chart\n",
    "    \"\"\"\n",
    "    ## Changing the order of this will change the axis\n",
    "    matrix = list(product(names, options))\n",
    "    index = pd.MultiIndex.from_tuples(matrix, names=options)\n",
    "    print(index)\n",
    "    \n",
    "    data_series = pd.Series(data, index=index)\n",
    "    mosaic(data_series, gap=[0.01, 0.01], title=title, properties=props)\n",
    "    \n",
    "    return pylab\n",
    "\n",
    "### Call the method\n",
    "\n",
    "data = [pop_male_oa_ratio\n",
    "      , pop_female_oa_ratio\n",
    "      , pop_male_ward_ratio\n",
    "      , pop_female_ward_ratio\n",
    "      , pop_male_borough_ratio\n",
    "      , pop_female_borough_ratio\n",
    "      , pop_male_city_ratio\n",
    "      , pop_female_city_ratio\n",
    "]\n",
    "\n",
    "options = [\"male\", \"female\"]\n",
    "names = [\"OA\", \"ward\", \"borough\", \"borough average\"]\n",
    "title = \"Gender Population - OA, Borough and Borough Average\"\n",
    "props = lambda key: {'color': 'orange' if 'male' in key else 'deepskyblue'}\n",
    "title = \"Gender Ratio by OA, Ward, Borough and Borough Average\"\n",
    "\n",
    "mekko_chart(data=data, options=options, names=names, title=title, props=props)\n"
   ]
  },
  {
   "cell_type": "code",
   "execution_count": 16,
   "id": "eefe6276-e82e-46ef-ad88-8410430a8d87",
   "metadata": {},
   "outputs": [
    {
     "name": "stdout",
     "output_type": "stream",
     "text": [
      "MultiIndex([(  'male', 'yes'),\n",
      "            (  'male',  'no'),\n",
      "            ('female', 'yes'),\n",
      "            ('female',  'no')],\n",
      "           names=['male', 'female'])\n"
     ]
    },
    {
     "data": {
      "image/png": "[encoded data removed]",
      "text/plain": [
       "<Figure size 432x288 with 3 Axes>"
      ]
     },
     "metadata": {
      "needs_background": "light"
     },
     "output_type": "display_data"
    }
   ],
   "source": [
    "import pandas as pd\n",
    "from statsmodels.graphics.mosaicplot import mosaic\n",
    "import pylab\n",
    "from itertools import product\n",
    "import numpy as np\n",
    "\n",
    "rand = np.random.random\n",
    "\n",
    "speaks_mul_foreign_languages = list(product(['male', 'female'], ['yes', 'no']))\n",
    "\n",
    "index = pd.MultiIndex.from_tuples(speaks_mul_foreign_languages, names=['male', 'female'])\n",
    "\n",
    "print(index)\n",
    "\n",
    "data = pd.Series(rand(4), index=index)\n",
    "\n",
    "mosaic(data, gap=0.01, title='Who knows multiple foregin languages? - Mosaic Chart')\n",
    "\n",
    "pylab.show()"
   ]
  },
  {
   "cell_type": "code",
   "execution_count": 17,
   "id": "97a4f1e7-75ad-4d97-beec-f4a029159ba2",
   "metadata": {},
   "outputs": [
    {
     "name": "stdout",
     "output_type": "stream",
     "text": [
      "2022-07-24 12:34:31,373 [INFO] __main__: DATABASE CONNECTIVITY from 185.44.76.189\n",
      "2022-07-24 12:34:31,975 [DEBUG] __main__: 983\n"
     ]
    }
   ],
   "source": [
    "## Connect to database and retrive data from view\n",
    "\n",
    "\n",
    "db_conn = get_db_conn()\n",
    "sql = \"SELECT * FROM income_london WHERE [Date] = ? ORDER BY [Date] DESC, [LAD] ASC, [MSOA] ASC\"\n",
    "# data = pd.read_sql(sql, db_conn)  # without parameters [non-prepared statement]\n",
    "\n",
    "try:\n",
    "    cursor = db_conn.execute(sql, (\"2018\"))\n",
    "except pyodbc.Error as e:\n",
    "    log.error(e)\n",
    "    \n",
    "log.debug(len(cursor.fetchall()))\n",
    "    \n",
    "db_conn.close()    \n"
   ]
  },
  {
   "cell_type": "code",
   "execution_count": 76,
   "id": "bc681419-0d02-4e8f-bc6a-753bc1a11ff6",
   "metadata": {},
   "outputs": [
    {
     "name": "stdout",
     "output_type": "stream",
     "text": [
      "2022-07-24 13:44:20,128 [INFO] __main__: DATABASE CONNECTIVITY from 185.44.76.189\n"
     ]
    },
    {
     "name": "stderr",
     "output_type": "stream",
     "text": [
      "C:\\DISTRIBUTIONS\\Python\\Python3_10_2\\lib\\site-packages\\pandas\\io\\sql.py:761: UserWarning: pandas only support SQLAlchemy connectable(engine/connection) ordatabase string URI or sqlite3 DBAPI2 connectionother DBAPI2 objects are not tested, please consider using SQLAlchemy\n",
      "  warnings.warn(\n",
      "C:\\DISTRIBUTIONS\\Python\\Python3_10_2\\lib\\site-packages\\pandas\\io\\sql.py:761: UserWarning: pandas only support SQLAlchemy connectable(engine/connection) ordatabase string URI or sqlite3 DBAPI2 connectionother DBAPI2 objects are not tested, please consider using SQLAlchemy\n",
      "  warnings.warn(\n"
     ]
    },
    {
     "data": {
      "text/html": [
       "<div>\n",
       "<style scoped>\n",
       "    .dataframe tbody tr th:only-of-type {\n",
       "        vertical-align: middle;\n",
       "    }\n",
       "\n",
       "    .dataframe tbody tr th {\n",
       "        vertical-align: top;\n",
       "    }\n",
       "\n",
       "    .dataframe thead th {\n",
       "        text-align: right;\n",
       "    }\n",
       "</style>\n",
       "<table border=\"1\" class=\"dataframe\">\n",
       "  <thead>\n",
       "    <tr style=\"text-align: right;\">\n",
       "      <th></th>\n",
       "      <th>city_total_annual_income_net_gbp_avg</th>\n",
       "      <th>city_total_annual_income_net_gbp_min</th>\n",
       "      <th>city_total_annual_income_net_gbp_max</th>\n",
       "      <th>ward_total_annual_income_net_gbp_avg</th>\n",
       "    </tr>\n",
       "    <tr>\n",
       "      <th>Date</th>\n",
       "      <th></th>\n",
       "      <th></th>\n",
       "      <th></th>\n",
       "      <th></th>\n",
       "    </tr>\n",
       "  </thead>\n",
       "  <tbody>\n",
       "    <tr>\n",
       "      <th>2012</th>\n",
       "      <td>46489.0</td>\n",
       "      <td>28600.0</td>\n",
       "      <td>89960.0</td>\n",
       "      <td>63956.0</td>\n",
       "    </tr>\n",
       "    <tr>\n",
       "      <th>2014</th>\n",
       "      <td>49004.0</td>\n",
       "      <td>28600.0</td>\n",
       "      <td>88920.0</td>\n",
       "      <td>65955.0</td>\n",
       "    </tr>\n",
       "    <tr>\n",
       "      <th>2016</th>\n",
       "      <td>36307.0</td>\n",
       "      <td>25500.0</td>\n",
       "      <td>66200.0</td>\n",
       "      <td>42363.0</td>\n",
       "    </tr>\n",
       "    <tr>\n",
       "      <th>2018</th>\n",
       "      <td>43114.0</td>\n",
       "      <td>30800.0</td>\n",
       "      <td>63700.0</td>\n",
       "      <td>54569.0</td>\n",
       "    </tr>\n",
       "  </tbody>\n",
       "</table>\n",
       "</div>"
      ],
      "text/plain": [
       "      city_total_annual_income_net_gbp_avg  \\\n",
       "Date                                         \n",
       "2012                               46489.0   \n",
       "2014                               49004.0   \n",
       "2016                               36307.0   \n",
       "2018                               43114.0   \n",
       "\n",
       "      city_total_annual_income_net_gbp_min  \\\n",
       "Date                                         \n",
       "2012                               28600.0   \n",
       "2014                               28600.0   \n",
       "2016                               25500.0   \n",
       "2018                               30800.0   \n",
       "\n",
       "      city_total_annual_income_net_gbp_max  \\\n",
       "Date                                         \n",
       "2012                               89960.0   \n",
       "2014                               88920.0   \n",
       "2016                               66200.0   \n",
       "2018                               63700.0   \n",
       "\n",
       "      ward_total_annual_income_net_gbp_avg  \n",
       "Date                                        \n",
       "2012                               63956.0  \n",
       "2014                               65955.0  \n",
       "2016                               42363.0  \n",
       "2018                               54569.0  "
      ]
     },
     "execution_count": 76,
     "metadata": {},
     "output_type": "execute_result"
    }
   ],
   "source": [
    "## Income for a given post_code -> ward_name -> borough\n",
    "##\n",
    "## ward_name will give us the parent msoa so we can get the income for each year within that msoa\n",
    "\n",
    "year_from = 2012\n",
    "year_to   = 2018\n",
    "\n",
    "\n",
    "db_conn = get_db_conn()\n",
    "\n",
    "city_income_min_max_avg_sql =\"\"\"\n",
    "SELECT [Date] \t\t\t\t\t\t                AS [Date]\n",
    "      , ROUND(AVG([total_annual_income_net_gbp]),0) AS [city_total_annual_income_net_gbp_avg]\n",
    "      , ROUND(MIN([total_annual_income_net_gbp]),0) AS [city_total_annual_income_net_gbp_min]\n",
    "      , ROUND(MAX([total_annual_income_net_gbp]),0) AS [city_total_annual_income_net_gbp_max]\n",
    "FROM income_uk_ons \t\t INC\n",
    "WHERE [MSOA] IN (SELECT DISTINCT [LPC].[MSOA] FROM IDX_LONDONPOSTCODES LPC)\n",
    "AND   CONVERT(int, [Date]) BETWEEN {} AND {}\n",
    "GROUP BY [Date]\n",
    "ORDER BY [Date] ASC;\n",
    "\"\"\".format(year_from, year_to)\n",
    "\n",
    "city_min_max_avg_df = pd.read_sql_query(city_income_min_max_avg_sql, db_conn, index_col=\"Date\")\n",
    "# log.debug(city_min_max_avg_df.head())\n",
    "\n",
    "if 1==1:\n",
    "    ward_income_avg_sql = \"\"\"\n",
    "    SELECT [Date] \t\t\t\t\t\t                AS [Date]\n",
    "          , ROUND(AVG([total_annual_income_net_gbp]),0) AS [ward_total_annual_income_net_gbp_avg]\n",
    "    FROM income_uk_ons \t\t INC\n",
    "       , IDX_LONDONPOSTCODES LPC\n",
    "    WHERE INC.[MSOA] = LPC.[MSOA]\n",
    "    AND   INC.[LAD]  = LPC.[LAD]\n",
    "    AND   LPC.[LAD_NAME] = '{}'\n",
    "    AND   LPC.[WARD_NAME] = '{}'\n",
    "    AND   CONVERT(int, [Date]) BETWEEN {} AND {}\n",
    "    GROUP BY [Date];\n",
    "    \"\"\".format(\"Merton\", \"Abbey\", year_from, year_to)\n",
    "\n",
    "    ward_avg_df = pd.read_sql_query(ward_income_avg_sql, db_conn, index_col=\"Date\")\n",
    "    # log.debug(ward_avg_df.head())\n",
    "\n",
    "db_conn.close()\n",
    "\n",
    "city_ward_min_max_avg_wide_df = pd.concat([city_min_max_avg_df, ward_avg_df], axis=1)\n",
    "city_ward_min_max_avg_wide_df\n"
   ]
  },
  {
   "cell_type": "code",
   "execution_count": 81,
   "id": "a145922b-6d84-4bef-94d6-298b7da66802",
   "metadata": {},
   "outputs": [
    {
     "data": {
      "image/png": "[encoded data removed]",
      "text/plain": [
       "<Figure size 720x432 with 1 Axes>"
      ]
     },
     "metadata": {},
     "output_type": "display_data"
    }
   ],
   "source": [
    "## Make a copy\n",
    "city_ward_min_max_avg_long_df = city_ward_min_max_avg_wide_df.copy()\n",
    "\n",
    "## Copy the index to a \"Year\" Column\n",
    "city_ward_min_max_avg_long_df[\"Year\"] = city_ward_min_max_avg_long_df.index\n",
    "\n",
    "## Change to Long from Wide data frame to use in the plot\n",
    "# city_ward_min_max_avg_long_df = city_ward_min_max_avg_long_df.melt(\"Year\", var_name=\"cols\", value_name=\"salary\")\n",
    "city_ward_min_max_avg_long_df\n",
    "\n",
    "from matplotlib import pyplot as plt\n",
    "import seaborn as sns\n",
    "import matplotlib.pyplot as plt\n",
    "\n",
    "x_fig_size = 10\n",
    "y_fig_size = 6\n",
    "\n",
    "## Set the size\n",
    "sns.set(rc={\"figure.figsize\":(x_fig_size, y_fig_size)})\n",
    "\n",
    "## Set the theme\n",
    "sns.set_style(\"whitegrid\")\n",
    "\n",
    "# plot = sns.catplot(data=city_ward_min_max_avg_long_df, x=\"Year\", y=\"salary\", hue=\"cols\", kind=\"point\", legend=False, height=y_fig_size, aspect=x_fig_size/y_fig_size)\n",
    "\n",
    "fig, ax = plt.subplots()\n",
    "sns.lineplot(data=city_ward_min_max_avg_long_df, x=\"Year\", y=\"city_total_annual_income_net_gbp_avg\", ax=ax, label='City Avg.', color='red', marker='o')\n",
    "sns.lineplot(data=city_ward_min_max_avg_long_df,x=\"Year\", y=\"city_total_annual_income_net_gbp_min\", ax=ax, label='City Min.', color='orange', marker='o')\n",
    "sns.lineplot(data=city_ward_min_max_avg_long_df,x=\"Year\", y=\"city_total_annual_income_net_gbp_max\", ax=ax, label='City Max.', color='yellow', marker='o')\n",
    "sns.lineplot(data=city_ward_min_max_avg_long_df,x=\"Year\", y=\"ward_total_annual_income_net_gbp_avg\", ax=ax, label='Ward Avg.', color='green', marker='o')\n",
    "\n",
    "ax.set_title(\"Average Salary for Ward and City between {} and {}\".format(year_from, year_to))\n",
    "ax.set_ylabel(\"Salary\")\n",
    "ax.legend(title=\"legend\")\n",
    "ax.legend(loc=\"upper right\")\n",
    "plt.tight_layout()\n",
    "\n",
    "# g\n",
    "\n",
    "# sns.lineplot(data = city_ward_min_max_avg_df, x=\"index\", "
   ]
  },
  {
   "cell_type": "code",
   "execution_count": 84,
   "id": "2995d486-c850-4c0c-859e-cf5cd5caac0c",
   "metadata": {},
   "outputs": [
    {
     "name": "stdout",
     "output_type": "stream",
     "text": [
      "2022-07-24 14:45:24,231 [DEBUG] __main__: {'Field_1': 2, 'year_from': 2012}\n"
     ]
    }
   ],
   "source": [
    "def merge_two_dicts(x, y):\n",
    "    \"\"\"Given two dictionaries, merge them into a new dict as a shallow copy.\"\"\"\n",
    "    z = x.copy()\n",
    "    z.update(y)\n",
    "    return z\n",
    "\n",
    "dict_validated = {\"Field_1\":2}\n",
    "dict_no_validation = {\"Field_1\":1, \"year_from\":2012}\n",
    "\n",
    "dict_validated = merge_two_dicts(dict_no_validation, dict_validated)\n",
    "              \n",
    "log.debug(dict_validated)\n",
    "                                 \n"
   ]
  }
 ],
 "metadata": {
  "kernelspec": {
   "display_name": "Python 3 (ipykernel)",
   "language": "python",
   "name": "python3"
  },
  "language_info": {
   "codemirror_mode": {
    "name": "ipython",
    "version": 3
   },
   "file_extension": ".py",
   "mimetype": "text/x-python",
   "name": "python",
   "nbconvert_exporter": "python",
   "pygments_lexer": "ipython3",
   "version": "3.10.2"
  }
 },
 "nbformat": 4,
 "nbformat_minor": 5
}
