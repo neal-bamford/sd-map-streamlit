{
 "cells": [
  {
   "cell_type": "markdown",
   "id": "30125aaf-aec9-41f4-bed0-3888c82df28e",
   "metadata": {},
   "source": [
    "# General Health"
   ]
  },
  {
   "cell_type": "markdown",
   "id": "8a838826-eb60-4647-b1f7-f73e22eb640d",
   "metadata": {
    "tags": []
   },
   "source": [
    "## Setup"
   ]
  },
  {
   "cell_type": "code",
   "execution_count": 1,
   "id": "90994bee-d612-4e81-96a5-e7b03640db5c",
   "metadata": {},
   "outputs": [
    {
     "name": "stdout",
     "output_type": "stream",
     "text": [
      "2022-08-26 11:36:02,993 [INFO] numexpr.utils: NumExpr defaulting to 4 threads.\n"
     ]
    }
   ],
   "source": [
    "from matplotlib.colors import ListedColormap \n",
    "from matplotlib.ticker import (MultipleLocator, FormatStrFormatter, AutoMinorLocator)\n",
    "from lib import formatting as sd_formatting\n",
    "import pyodbc \n",
    "import toml\n",
    "import config_logging\n",
    "import logging\n",
    "import urllib.request\n",
    "import pandas as pd\n",
    "import colorcet as cc\n",
    "\n",
    "log = logging.getLogger(__name__)\n",
    "external_ip = urllib.request.urlopen('https://ident.me').read().decode('utf8')\n",
    "\n",
    "properties = toml.load(\"./.streamlit/secrets.toml\")\n",
    "\n",
    "database_props = properties[properties[\"database\"][\"flavour\"]] \n"
   ]
  },
  {
   "cell_type": "markdown",
   "id": "68de9f46-4ac1-4f58-89eb-18a4d979cec7",
   "metadata": {
    "tags": []
   },
   "source": [
    "## Reload"
   ]
  },
  {
   "cell_type": "code",
   "execution_count": 2,
   "id": "1c779cd4-8400-47aa-90e5-15bb24457654",
   "metadata": {},
   "outputs": [
    {
     "name": "stdout",
     "output_type": "stream",
     "text": [
      "2022-08-26 11:36:06,008 [DEBUG] matplotlib.pyplot: Loaded backend module://matplotlib_inline.backend_inline version unknown.\n",
      "2022-08-26 11:36:06,013 [DEBUG] matplotlib.pyplot: Loaded backend module://matplotlib_inline.backend_inline version unknown.\n",
      "2022-08-26 11:36:06,642 [INFO] lib.db_tools: DATABASE CONNECTIVITY\n"
     ]
    }
   ],
   "source": [
    "### Set up\n",
    "%load_ext autoreload\n",
    "\n",
    "%autoreload 3\n",
    "from data.daos import dao_facade_local as dao_fac\n",
    "from lib import db_tools as db_tools\n",
    "from lib import masters_data_analytics_lib as mlib\n",
    "from lib import stats as stats\n",
    "\n",
    "db_conn = None\n",
    "db_conn = db_tools.get_db_conn(database_props)\n"
   ]
  },
  {
   "cell_type": "markdown",
   "id": "2012938a-e341-4bc7-9bf6-6e03a20e1362",
   "metadata": {
    "tags": []
   },
   "source": [
    "## Build the Data"
   ]
  },
  {
   "cell_type": "markdown",
   "id": "703da30b-0a1f-4771-b981-aea7fa058733",
   "metadata": {
    "tags": []
   },
   "source": [
    "### Search Critera & DAO Access to get all required data"
   ]
  },
  {
   "cell_type": "code",
   "execution_count": 3,
   "id": "95450646-d6fd-4b78-a4e1-200cc8a8478d",
   "metadata": {},
   "outputs": [
    {
     "name": "stdout",
     "output_type": "stream",
     "text": [
      "2022-08-26 11:36:06,789 [DEBUG] root: Retrieving general health min max year\n"
     ]
    },
    {
     "name": "stderr",
     "output_type": "stream",
     "text": [
      "C:\\DISTRIBUTIONS\\Python\\Python3_10_2\\lib\\site-packages\\pandas\\io\\sql.py:761: UserWarning: pandas only support SQLAlchemy connectable(engine/connection) ordatabase string URI or sqlite3 DBAPI2 connectionother DBAPI2 objects are not tested, please consider using SQLAlchemy\n",
      "  warnings.warn(\n"
     ]
    },
    {
     "name": "stdout",
     "output_type": "stream",
     "text": [
      "2022-08-26 11:36:07,034 [DEBUG] __main__: health orig_year_to    :2021\n",
      "2022-08-26 11:36:07,036 [DEBUG] __main__: health search_year_to  :2021\n",
      "2022-08-26 11:36:07,037 [DEBUG] root: general_health_ratio_average_years\n"
     ]
    },
    {
     "name": "stderr",
     "output_type": "stream",
     "text": [
      "C:\\DISTRIBUTIONS\\Python\\Python3_10_2\\lib\\site-packages\\pandas\\io\\sql.py:761: UserWarning: pandas only support SQLAlchemy connectable(engine/connection) ordatabase string URI or sqlite3 DBAPI2 connectionother DBAPI2 objects are not tested, please consider using SQLAlchemy\n",
      "  warnings.warn(\n"
     ]
    },
    {
     "name": "stdout",
     "output_type": "stream",
     "text": [
      "2022-08-26 11:36:07,721 [DEBUG] root: genearl_health_ratio_by_borough_years\n"
     ]
    },
    {
     "name": "stderr",
     "output_type": "stream",
     "text": [
      "C:\\DISTRIBUTIONS\\Python\\Python3_10_2\\lib\\site-packages\\pandas\\io\\sql.py:761: UserWarning: pandas only support SQLAlchemy connectable(engine/connection) ordatabase string URI or sqlite3 DBAPI2 connectionother DBAPI2 objects are not tested, please consider using SQLAlchemy\n",
      "  warnings.warn(\n"
     ]
    },
    {
     "name": "stdout",
     "output_type": "stream",
     "text": [
      "2022-08-26 11:36:08,644 [DEBUG] root: general_health_ratio_by_borough_ward_years\n"
     ]
    },
    {
     "name": "stderr",
     "output_type": "stream",
     "text": [
      "C:\\DISTRIBUTIONS\\Python\\Python3_10_2\\lib\\site-packages\\pandas\\io\\sql.py:761: UserWarning: pandas only support SQLAlchemy connectable(engine/connection) ordatabase string URI or sqlite3 DBAPI2 connectionother DBAPI2 objects are not tested, please consider using SQLAlchemy\n",
      "  warnings.warn(\n"
     ]
    }
   ],
   "source": [
    "year_from = 2011\n",
    "year_to   = 2021\n",
    "city      = \"London\"\n",
    "\n",
    "borough   = \"Islington\"\n",
    "ward_name = \"Holloway\"\n",
    "\n",
    "# ## 27% Black African Carribean at Borough Level\n",
    "# borough   = \"Lewisham\"\n",
    "# ward_name = \"Bellingham\"\n",
    "\n",
    "\n",
    "\n",
    "# borough   = \"Westminster\"    # Highest\n",
    "# borough   = \"Brent\"          # Middle\n",
    "# borough   = \"City of London\" # Lowest\n",
    "\n",
    "## We may not have data in the date range we have chosen\n",
    "## this is true for ALL so fix it Neal\n",
    "\n",
    "health_year_from = year_from\n",
    "health_year_to   = year_to\n",
    "\n",
    "# What do we have? We are only using the max for now\n",
    "health_min_max_year_df = dao_fac.general_health_min_max_year(db_conn)\n",
    "\n",
    "health_year_min = health_min_max_year_df[\"MIN_YEAR\"].values[0]\n",
    "health_year_max = health_min_max_year_df[\"MAX_YEAR\"].values[0]\n",
    "\n",
    "health_year_from_orig = health_year_from\n",
    "health_year_to_orig = health_year_to\n",
    "\n",
    "if health_year_from < int(health_year_min):\n",
    "    health_year_from = int(health_year_min)\n",
    "elif health_year_from > int(health_year_max):\n",
    "    health_year_from = int(health_year_max)\n",
    "\n",
    "if health_year_to > int(health_year_max):\n",
    "    health_year_to = int(health_year_max)\n",
    "elif health_year_to < int(health_year_min):\n",
    "    health_year_to = int(health_year_min)\n",
    "\n",
    "log.debug(f\"health orig_year_to    :{health_year_to_orig}\")\n",
    "log.debug(f\"health search_year_to  :{health_year_to}\")\n",
    "\n",
    "search_term = {\"year_from\":health_year_from,\n",
    "               \"year_to\":health_year_to,\n",
    "               \"borough\":borough,\n",
    "               \"ward_name\":ward_name}\n",
    "\n",
    "## City\n",
    "health_average_year_df         = dao_fac.general_health_ratio_average_years(db_conn, search_term)\n",
    "## Borough\n",
    "health_by_borough_year_df      = dao_fac.general_health_ratio_by_borough_years(db_conn, search_term)\n",
    "## Ward\n",
    "health_by_borough_ward_year_df = dao_fac.general_health_ratio_by_borough_ward_years(db_conn, search_term)\n"
   ]
  },
  {
   "cell_type": "code",
   "execution_count": 4,
   "id": "3fa06382-5669-407d-b138-446574072547",
   "metadata": {},
   "outputs": [
    {
     "name": "stdout",
     "output_type": "stream",
     "text": [
      "2022-08-24 12:38:52,617 [DEBUG] __main__: \n",
      "Using the latest general health data from 2021 which is in your search range of 2011 to 2021. The table below ranks general health in Holloway, Islington and London. The ranking is highest to lowest percentage from top to bottom. Where there is a difference in general health the cell is shaded, a darker shade denotes a difference between borough and ward. Values in [] give the percentage value.\n"
     ]
    }
   ],
   "source": [
    "## Health Search Range Narrative\n",
    "health_narrative_01 = \"\"\n",
    "health_in_not_in = \"in\" if ((health_year_to >= health_year_from_orig) &\n",
    "                            (health_year_to <= health_year_to)) else \"outside\"\n",
    "\n",
    "health_search_range = f\"of {health_year_from_orig} to {health_year_to_orig}\" if health_year_from_orig != health_year_to_orig else f\"{health_year_to_orig}\"\n",
    "health_narrative_search_criters = f\"Using the latest general health data from {health_year_to} which is {health_in_not_in} your search range {health_search_range}\"\n",
    "\n",
    "health_narrative_01 = f\"{health_narrative_search_criters}. The table below ranks general health in {ward_name}, {borough} and {city}. \" + \\\n",
    "\"The ranking is highest to lowest percentage from top to bottom. Where there is a difference in general health the cell is shaded, a darker \" + \\\n",
    "\"shade denotes a difference between borough and ward. Values in [] give the percentage value.\" \n",
    "\n",
    "log.debug(f\"\\n{health_narrative_01}\")"
   ]
  },
  {
   "cell_type": "code",
   "execution_count": 5,
   "id": "ad681a55-e025-49a9-9d8c-be8abc7e5e67",
   "metadata": {},
   "outputs": [
    {
     "data": {
      "text/html": [
       "<div>\n",
       "<style scoped>\n",
       "    .dataframe tbody tr th:only-of-type {\n",
       "        vertical-align: middle;\n",
       "    }\n",
       "\n",
       "    .dataframe tbody tr th {\n",
       "        vertical-align: top;\n",
       "    }\n",
       "\n",
       "    .dataframe thead th {\n",
       "        text-align: right;\n",
       "    }\n",
       "</style>\n",
       "<table border=\"1\" class=\"dataframe\">\n",
       "  <thead>\n",
       "    <tr style=\"text-align: right;\">\n",
       "      <th></th>\n",
       "      <th>YEAR</th>\n",
       "      <th>LAD</th>\n",
       "      <th>LAD_NAME</th>\n",
       "      <th>WARD_CODE</th>\n",
       "      <th>WARD_NAME</th>\n",
       "      <th>Very Good</th>\n",
       "      <th>Good</th>\n",
       "      <th>Fair</th>\n",
       "      <th>Bad</th>\n",
       "      <th>Very Bad</th>\n",
       "    </tr>\n",
       "  </thead>\n",
       "  <tbody>\n",
       "    <tr>\n",
       "      <th>0</th>\n",
       "      <td>2021</td>\n",
       "      <td>E09000019</td>\n",
       "      <td>Islington</td>\n",
       "      <td>E05000375</td>\n",
       "      <td>Holloway</td>\n",
       "      <td>0.505506</td>\n",
       "      <td>0.311153</td>\n",
       "      <td>0.116666</td>\n",
       "      <td>0.048188</td>\n",
       "      <td>0.018488</td>\n",
       "    </tr>\n",
       "  </tbody>\n",
       "</table>\n",
       "</div>"
      ],
      "text/plain": [
       "   YEAR        LAD   LAD_NAME  WARD_CODE WARD_NAME  Very Good      Good  \\\n",
       "0  2021  E09000019  Islington  E05000375  Holloway   0.505506  0.311153   \n",
       "\n",
       "       Fair       Bad  Very Bad  \n",
       "0  0.116666  0.048188  0.018488  "
      ]
     },
     "execution_count": 5,
     "metadata": {},
     "output_type": "execute_result"
    }
   ],
   "source": [
    "# health_average_year_df\n",
    "# health_by_borough_year_df\n",
    "health_by_borough_ward_year_df\n"
   ]
  },
  {
   "cell_type": "markdown",
   "id": "2efcea98-fd52-4fef-b9c3-8b0cb7b62ed2",
   "metadata": {},
   "source": [
    "#### Build the data and ranking table for ward, borough and city"
   ]
  },
  {
   "cell_type": "code",
   "execution_count": 6,
   "id": "2f6d4103-3c60-4574-baae-113d48c35e61",
   "metadata": {},
   "outputs": [
    {
     "data": {
      "text/html": [
       "<div>\n",
       "<style scoped>\n",
       "    .dataframe tbody tr th:only-of-type {\n",
       "        vertical-align: middle;\n",
       "    }\n",
       "\n",
       "    .dataframe tbody tr th {\n",
       "        vertical-align: top;\n",
       "    }\n",
       "\n",
       "    .dataframe thead th {\n",
       "        text-align: right;\n",
       "    }\n",
       "</style>\n",
       "<table border=\"1\" class=\"dataframe\">\n",
       "  <thead>\n",
       "    <tr style=\"text-align: right;\">\n",
       "      <th></th>\n",
       "      <th>Holloway</th>\n",
       "      <th>Islington</th>\n",
       "      <th>London</th>\n",
       "    </tr>\n",
       "  </thead>\n",
       "  <tbody>\n",
       "    <tr>\n",
       "      <th>1</th>\n",
       "      <td>Very Good - [50.55%]</td>\n",
       "      <td>Very Good - [51.63%]</td>\n",
       "      <td>Very Good - [50.56%]</td>\n",
       "    </tr>\n",
       "    <tr>\n",
       "      <th>2</th>\n",
       "      <td>Good - [31.12%]</td>\n",
       "      <td>Good - [30.75%]</td>\n",
       "      <td>Good - [33.22%]</td>\n",
       "    </tr>\n",
       "    <tr>\n",
       "      <th>3</th>\n",
       "      <td>Fair - [11.67%]</td>\n",
       "      <td>Fair - [11.20%]</td>\n",
       "      <td>Fair - [11.23%]</td>\n",
       "    </tr>\n",
       "    <tr>\n",
       "      <th>4</th>\n",
       "      <td>Bad - [4.82%]</td>\n",
       "      <td>Bad - [4.74%]</td>\n",
       "      <td>Bad - [3.77%]</td>\n",
       "    </tr>\n",
       "    <tr>\n",
       "      <th>5</th>\n",
       "      <td>Very Bad - [1.85%]</td>\n",
       "      <td>Very Bad - [1.68%]</td>\n",
       "      <td>Very Bad - [1.23%]</td>\n",
       "    </tr>\n",
       "  </tbody>\n",
       "</table>\n",
       "</div>"
      ],
      "text/plain": [
       "               Holloway             Islington                London\n",
       "1  Very Good - [50.55%]  Very Good - [51.63%]  Very Good - [50.56%]\n",
       "2       Good - [31.12%]       Good - [30.75%]       Good - [33.22%]\n",
       "3       Fair - [11.67%]       Fair - [11.20%]       Fair - [11.23%]\n",
       "4         Bad - [4.82%]         Bad - [4.74%]         Bad - [3.77%]\n",
       "5    Very Bad - [1.85%]    Very Bad - [1.68%]    Very Bad - [1.23%]"
      ]
     },
     "execution_count": 6,
     "metadata": {},
     "output_type": "execute_result"
    }
   ],
   "source": [
    "## Borough & Ward\n",
    "health_borough_ward_for_year = health_by_borough_ward_year_df.copy()\n",
    "health_borough_ward_for_year = health_borough_ward_for_year.drop([\"YEAR\", \"LAD\", \"LAD_NAME\", \"WARD_CODE\", \"WARD_NAME\"], axis=1)\n",
    "health_borough_ward_for_year = health_borough_ward_for_year.T.copy()\n",
    "health_borough_ward_for_year.columns = [\"PCT\"]\n",
    "health_borough_ward_for_year = health_borough_ward_for_year.sort_values(by=[\"PCT\"], ascending=False)\n",
    "\n",
    "## Borough\n",
    "health_borough_for_year = health_by_borough_year_df[health_by_borough_year_df[\"LAD_NAME\"] == borough].copy()\n",
    "health_borough_for_year = health_borough_for_year.drop([\"YEAR\", \"LAD\", \"LAD_NAME\"], axis=1)\n",
    "health_borough_for_year = health_borough_for_year.T.copy()\n",
    "health_borough_for_year.columns = [\"PCT\"]\n",
    "health_borough_for_year = health_borough_for_year.sort_values(by=[\"PCT\"], ascending=False)\n",
    "\n",
    "## City\n",
    "health_city_for_year = health_average_year_df.copy()\n",
    "health_city_for_year\n",
    "health_city_for_year = health_city_for_year.drop([\"YEAR\"], axis=1)\n",
    "health_city_for_year = health_city_for_year.T.copy()\n",
    "health_city_for_year.columns = [\"PCT\"]\n",
    "health_city_for_year = health_city_for_year.sort_values(by=[\"PCT\"], ascending=False)\n",
    "\n",
    "## Borough Ward\n",
    "health_ward_pct_sorted = []\n",
    "for index, row in health_borough_ward_for_year.iterrows():\n",
    "    health     = index\n",
    "    health_pct = row.values[0]*100\n",
    "    health_name_pct_fmt = \"{} - [{:,.2f}%]\".format(health, health_pct)\n",
    "    health_ward_pct_sorted.append(health_name_pct_fmt)\n",
    "\n",
    "## Borough\n",
    "health_borough_pct_sorted = []\n",
    "for index, row in health_borough_for_year.iterrows():\n",
    "    health     = index\n",
    "    health_pct = row.values[0]*100\n",
    "    health_name_pct_fmt = \"{} - [{:,.2f}%]\".format(health, health_pct)\n",
    "    health_borough_pct_sorted.append(health_name_pct_fmt)\n",
    "\n",
    "## City\n",
    "health_city_pct_sorted = []\n",
    "for index, row in     health_city_for_year.iterrows():\n",
    "    health     = index\n",
    "    health_pct = row.values[0]*100\n",
    "    health_name_pct_fmt = \"{} - [{:,.2f}%]\".format(health, health_pct)\n",
    "    health_city_pct_sorted.append(health_name_pct_fmt)\n",
    "\n",
    "health_ward_borough_city_pct_ranked_merged = [health_ward_pct_sorted, health_borough_pct_sorted, health_city_pct_sorted]\n",
    "health_ward_borough_city_pct_ranked_merged_df = pd.DataFrame(data=health_ward_borough_city_pct_ranked_merged)\n",
    "\n",
    "## Rotate \n",
    "health_ward_borough_city_pct_ranked_merged_df = health_ward_borough_city_pct_ranked_merged_df.T\n",
    "health_ward_borough_city_pct_ranked_merged_df.columns = [f\"{ward_name}\",f\"{borough}\",f\"{city}\"]\n",
    "health_ward_borough_city_pct_ranked_merged_df.index   = [str(rank) for rank in range(1, len(health_ward_borough_city_pct_ranked_merged_df.index)+1)]\n",
    "\n",
    "health_ward_borough_city_pct_ranked_merged_df"
   ]
  },
  {
   "cell_type": "markdown",
   "id": "2e2581be-4005-44ce-ad82-21d9b974569b",
   "metadata": {
    "tags": []
   },
   "source": [
    "## Build the General Health table with formatting"
   ]
  },
  {
   "cell_type": "code",
   "execution_count": 7,
   "id": "df540d64-ce0c-432d-bd35-526ee83fccb9",
   "metadata": {},
   "outputs": [],
   "source": [
    "colour_change = []\n",
    "## 0 == no change in that cell\n",
    "## 1 == shade 1 change\n",
    "## 2 == shade 2 change\n",
    "\n",
    "for index, row in health_ward_borough_city_pct_ranked_merged_df.iterrows():\n",
    "    colour_change_row =[]\n",
    "    \n",
    "    ## Borough to City Check\n",
    "    ward_val    = row.iloc[0].split(' - [')[0].strip()\n",
    "    borough_val = row.iloc[1].split(' - [')[0].strip()\n",
    "    city_val    = row.iloc[2].split(' - [')[0].strip()\n",
    "    # log.debug(f\"{ward_val}-{borough_val}-{city_val}\")\n",
    "\n",
    "    ward_val_cell_col = 0 if ward_val     == city_val else 1 if ward_val == borough_val else 2\n",
    "    borough_val_col   = 0 if borough_val  == city_val else 1\n",
    "    cityl_col         = 0\n",
    "    \n",
    "    colour_change_row.append(ward_val_cell_col)\n",
    "    colour_change_row.append(borough_val_col)\n",
    "    colour_change_row.append(cityl_col)\n",
    "    colour_change.append(colour_change_row)\n",
    "\n",
    "def format_ranking_row(row):\n",
    "    ## Borough to City Check\n",
    "    ward_val    = row.iloc[0].split(' - [')[0].strip()\n",
    "    borough_val = row.iloc[1].split(' - [')[0].strip()\n",
    "    city_val    = row.iloc[2].split(' - [')[0].strip()\n",
    "    # log.debug(f\"{ward_val}-{borough_val}-{city_val}\")\n",
    "\n",
    "    ward_val_cell_col = \"\" if ward_val     == city_val else \"background-color: #EAFAF1\" if ward_val == borough_val else \"background-color: #D5F5E3\"\n",
    "    borough_val_col   = \"\" if borough_val  == city_val else \"background-color: #EAFAF1\"\n",
    "    # log.debug(r[1])\n",
    "    return [ward_val_cell_col] + [borough_val_col] + [\"\"]\n",
    "\n",
    "\n",
    "from IPython.display import HTML\n",
    "styles = [\n",
    "  dict(selector=\"tr\", props=[(\"font-size\", \"110%\"),\n",
    "                             (\"text-align\", \"right\")])\n",
    "]\n",
    "\n",
    "health_ward_borough_city_pct_ranked_merged_df_html = (health_ward_borough_city_pct_ranked_merged_df.style.set_table_styles(styles).apply(format_ranking_row, axis=1))\n"
   ]
  },
  {
   "cell_type": "code",
   "execution_count": 8,
   "id": "98489b02-1507-4219-8e8e-458d8d532907",
   "metadata": {},
   "outputs": [
    {
     "data": {
      "text/html": [
       "<style type=\"text/css\">\n",
       "#T_accdd tr {\n",
       "  font-size: 110%;\n",
       "  text-align: right;\n",
       "}\n",
       "</style>\n",
       "<table id=\"T_accdd\">\n",
       "  <thead>\n",
       "    <tr>\n",
       "      <th class=\"blank level0\" >&nbsp;</th>\n",
       "      <th id=\"T_accdd_level0_col0\" class=\"col_heading level0 col0\" >Holloway</th>\n",
       "      <th id=\"T_accdd_level0_col1\" class=\"col_heading level0 col1\" >Islington</th>\n",
       "      <th id=\"T_accdd_level0_col2\" class=\"col_heading level0 col2\" >London</th>\n",
       "    </tr>\n",
       "  </thead>\n",
       "  <tbody>\n",
       "    <tr>\n",
       "      <th id=\"T_accdd_level0_row0\" class=\"row_heading level0 row0\" >1</th>\n",
       "      <td id=\"T_accdd_row0_col0\" class=\"data row0 col0\" >Very Good - [50.55%]</td>\n",
       "      <td id=\"T_accdd_row0_col1\" class=\"data row0 col1\" >Very Good - [51.63%]</td>\n",
       "      <td id=\"T_accdd_row0_col2\" class=\"data row0 col2\" >Very Good - [50.56%]</td>\n",
       "    </tr>\n",
       "    <tr>\n",
       "      <th id=\"T_accdd_level0_row1\" class=\"row_heading level0 row1\" >2</th>\n",
       "      <td id=\"T_accdd_row1_col0\" class=\"data row1 col0\" >Good - [31.12%]</td>\n",
       "      <td id=\"T_accdd_row1_col1\" class=\"data row1 col1\" >Good - [30.75%]</td>\n",
       "      <td id=\"T_accdd_row1_col2\" class=\"data row1 col2\" >Good - [33.22%]</td>\n",
       "    </tr>\n",
       "    <tr>\n",
       "      <th id=\"T_accdd_level0_row2\" class=\"row_heading level0 row2\" >3</th>\n",
       "      <td id=\"T_accdd_row2_col0\" class=\"data row2 col0\" >Fair - [11.67%]</td>\n",
       "      <td id=\"T_accdd_row2_col1\" class=\"data row2 col1\" >Fair - [11.20%]</td>\n",
       "      <td id=\"T_accdd_row2_col2\" class=\"data row2 col2\" >Fair - [11.23%]</td>\n",
       "    </tr>\n",
       "    <tr>\n",
       "      <th id=\"T_accdd_level0_row3\" class=\"row_heading level0 row3\" >4</th>\n",
       "      <td id=\"T_accdd_row3_col0\" class=\"data row3 col0\" >Bad - [4.82%]</td>\n",
       "      <td id=\"T_accdd_row3_col1\" class=\"data row3 col1\" >Bad - [4.74%]</td>\n",
       "      <td id=\"T_accdd_row3_col2\" class=\"data row3 col2\" >Bad - [3.77%]</td>\n",
       "    </tr>\n",
       "    <tr>\n",
       "      <th id=\"T_accdd_level0_row4\" class=\"row_heading level0 row4\" >5</th>\n",
       "      <td id=\"T_accdd_row4_col0\" class=\"data row4 col0\" >Very Bad - [1.85%]</td>\n",
       "      <td id=\"T_accdd_row4_col1\" class=\"data row4 col1\" >Very Bad - [1.68%]</td>\n",
       "      <td id=\"T_accdd_row4_col2\" class=\"data row4 col2\" >Very Bad - [1.23%]</td>\n",
       "    </tr>\n",
       "  </tbody>\n",
       "</table>\n"
      ],
      "text/plain": [
       "<pandas.io.formats.style.Styler at 0x203bf5c8d00>"
      ]
     },
     "execution_count": 8,
     "metadata": {},
     "output_type": "execute_result"
    }
   ],
   "source": [
    "health_ward_borough_city_pct_ranked_merged_df_html"
   ]
  },
  {
   "cell_type": "code",
   "execution_count": 9,
   "id": "508f9ffe-64f6-4af4-badd-2f3693ac1cb0",
   "metadata": {},
   "outputs": [
    {
     "data": {
      "text/html": [
       "<div>\n",
       "<style scoped>\n",
       "    .dataframe tbody tr th:only-of-type {\n",
       "        vertical-align: middle;\n",
       "    }\n",
       "\n",
       "    .dataframe tbody tr th {\n",
       "        vertical-align: top;\n",
       "    }\n",
       "\n",
       "    .dataframe thead th {\n",
       "        text-align: right;\n",
       "    }\n",
       "</style>\n",
       "<table border=\"1\" class=\"dataframe\">\n",
       "  <thead>\n",
       "    <tr style=\"text-align: right;\">\n",
       "      <th></th>\n",
       "      <th>Holloway</th>\n",
       "      <th>Islington</th>\n",
       "      <th>London</th>\n",
       "    </tr>\n",
       "  </thead>\n",
       "  <tbody>\n",
       "    <tr>\n",
       "      <th>Very Good</th>\n",
       "      <td>50.55%</td>\n",
       "      <td>51.63%</td>\n",
       "      <td>50.56%</td>\n",
       "    </tr>\n",
       "    <tr>\n",
       "      <th>Good</th>\n",
       "      <td>31.12%</td>\n",
       "      <td>30.75%</td>\n",
       "      <td>33.22%</td>\n",
       "    </tr>\n",
       "    <tr>\n",
       "      <th>Fair</th>\n",
       "      <td>11.67%</td>\n",
       "      <td>11.20%</td>\n",
       "      <td>11.23%</td>\n",
       "    </tr>\n",
       "    <tr>\n",
       "      <th>Bad</th>\n",
       "      <td>4.82%</td>\n",
       "      <td>4.74%</td>\n",
       "      <td>3.77%</td>\n",
       "    </tr>\n",
       "    <tr>\n",
       "      <th>Very Bad</th>\n",
       "      <td>1.85%</td>\n",
       "      <td>1.68%</td>\n",
       "      <td>1.23%</td>\n",
       "    </tr>\n",
       "  </tbody>\n",
       "</table>\n",
       "</div>"
      ],
      "text/plain": [
       "          Holloway Islington  London\n",
       "Very Good   50.55%    51.63%  50.56%\n",
       "Good        31.12%    30.75%  33.22%\n",
       "Fair        11.67%    11.20%  11.23%\n",
       "Bad          4.82%     4.74%   3.77%\n",
       "Very Bad     1.85%     1.68%   1.23%"
      ]
     },
     "execution_count": 9,
     "metadata": {},
     "output_type": "execute_result"
    }
   ],
   "source": [
    "health_borough_ward_for_year_name_sorted = health_borough_ward_for_year.sort_index(ascending=True)\n",
    "health_borough_for_year_name_sorted      = health_borough_for_year.sort_index(ascending=True)\n",
    "health_city_for_year_name_sorted         = health_city_for_year.sort_index(ascending=True)\n",
    "\n",
    "health_borough_ward_for_year_name_sorted = health_borough_ward_for_year\n",
    "health_borough_for_year_name_sorted      = health_borough_for_year\n",
    "health_city_for_year_name_sorted         = health_city_for_year\n",
    "\n",
    "\n",
    "## Borough Ward\n",
    "health_ward_name_sorted = []\n",
    "for index, row in health_borough_ward_for_year_name_sorted.iterrows():\n",
    "    health_pct = row.values[0]*100\n",
    "    health_pct_fmt = \"{:,.2f}%\".format(health_pct)\n",
    "    health_ward_name_sorted.append(health_pct_fmt)\n",
    "\n",
    "## Borough\n",
    "health_borough_name_sorted = []\n",
    "for index, row in health_borough_for_year_name_sorted.iterrows():\n",
    "    health_pct = row.values[0]*100\n",
    "    health_pct_fmt = \"{:,.2f}%\".format(health_pct)\n",
    "    health_borough_name_sorted.append(health_pct_fmt)\n",
    "\n",
    "## City\n",
    "health_city_name_sorted = []\n",
    "for index, row in health_city_for_year_name_sorted.iterrows():\n",
    "    health_pct = row.values[0]*100\n",
    "    health_pct_fmt = \"{:,.2f}%\".format(health_pct)\n",
    "    health_city_name_sorted.append(health_pct_fmt)\n",
    "\n",
    "health_ward_borough_city_pct_name_merged = [health_ward_name_sorted, health_borough_name_sorted, health_city_name_sorted]\n",
    "health_ward_borough_city_pct_name_merged_df = pd.DataFrame(data=health_ward_borough_city_pct_name_merged)\n",
    "\n",
    "## Rotate \n",
    "health_ward_borough_city_pct_name_merged_df = health_ward_borough_city_pct_name_merged_df.T\n",
    "health_ward_borough_city_pct_name_merged_df.columns = [f\"{ward_name}\",f\"{borough}\",f\"{city}\"]\n",
    "health_ward_borough_city_pct_name_merged_df.index   = health_borough_ward_for_year_name_sorted.index\n",
    "\n",
    "health_ward_borough_city_pct_name_merged_df"
   ]
  },
  {
   "cell_type": "code",
   "execution_count": 10,
   "id": "f29fe363-2a08-4732-b1e9-0594e8e3edfa",
   "metadata": {},
   "outputs": [
    {
     "name": "stdout",
     "output_type": "stream",
     "text": [
      "2022-08-24 12:38:53,614 [DEBUG] __main__: Borough more so Green\n",
      "2022-08-24 12:38:53,615 [DEBUG] __main__: Ward more so Green\n"
     ]
    },
    {
     "data": {
      "text/html": [
       "<style type=\"text/css\">\n",
       "#T_43cff tr {\n",
       "  font-size: 110%;\n",
       "  text-align: right;\n",
       "}\n",
       "#T_43cff_row0_col1 {\n",
       "  background-color: #EAFAF1;\n",
       "}\n",
       "#T_43cff_row1_col0, #T_43cff_row1_col1 {\n",
       "  background-color: #EBDEF0;\n",
       "}\n",
       "#T_43cff_row3_col0 {\n",
       "  background-color: #F5EEF8;\n",
       "}\n",
       "</style>\n",
       "<table id=\"T_43cff\">\n",
       "  <thead>\n",
       "    <tr>\n",
       "      <th class=\"blank level0\" >&nbsp;</th>\n",
       "      <th id=\"T_43cff_level0_col0\" class=\"col_heading level0 col0\" >Holloway</th>\n",
       "      <th id=\"T_43cff_level0_col1\" class=\"col_heading level0 col1\" >Islington</th>\n",
       "      <th id=\"T_43cff_level0_col2\" class=\"col_heading level0 col2\" >London</th>\n",
       "    </tr>\n",
       "  </thead>\n",
       "  <tbody>\n",
       "    <tr>\n",
       "      <th id=\"T_43cff_level0_row0\" class=\"row_heading level0 row0\" >Very Good</th>\n",
       "      <td id=\"T_43cff_row0_col0\" class=\"data row0 col0\" >50.55%</td>\n",
       "      <td id=\"T_43cff_row0_col1\" class=\"data row0 col1\" >51.63%</td>\n",
       "      <td id=\"T_43cff_row0_col2\" class=\"data row0 col2\" >50.56%</td>\n",
       "    </tr>\n",
       "    <tr>\n",
       "      <th id=\"T_43cff_level0_row1\" class=\"row_heading level0 row1\" >Good</th>\n",
       "      <td id=\"T_43cff_row1_col0\" class=\"data row1 col0\" >31.12%</td>\n",
       "      <td id=\"T_43cff_row1_col1\" class=\"data row1 col1\" >30.75%</td>\n",
       "      <td id=\"T_43cff_row1_col2\" class=\"data row1 col2\" >33.22%</td>\n",
       "    </tr>\n",
       "    <tr>\n",
       "      <th id=\"T_43cff_level0_row2\" class=\"row_heading level0 row2\" >Fair</th>\n",
       "      <td id=\"T_43cff_row2_col0\" class=\"data row2 col0\" >11.67%</td>\n",
       "      <td id=\"T_43cff_row2_col1\" class=\"data row2 col1\" >11.20%</td>\n",
       "      <td id=\"T_43cff_row2_col2\" class=\"data row2 col2\" >11.23%</td>\n",
       "    </tr>\n",
       "    <tr>\n",
       "      <th id=\"T_43cff_level0_row3\" class=\"row_heading level0 row3\" >Bad</th>\n",
       "      <td id=\"T_43cff_row3_col0\" class=\"data row3 col0\" >4.82%</td>\n",
       "      <td id=\"T_43cff_row3_col1\" class=\"data row3 col1\" >4.74%</td>\n",
       "      <td id=\"T_43cff_row3_col2\" class=\"data row3 col2\" >3.77%</td>\n",
       "    </tr>\n",
       "    <tr>\n",
       "      <th id=\"T_43cff_level0_row4\" class=\"row_heading level0 row4\" >Very Bad</th>\n",
       "      <td id=\"T_43cff_row4_col0\" class=\"data row4 col0\" >1.85%</td>\n",
       "      <td id=\"T_43cff_row4_col1\" class=\"data row4 col1\" >1.68%</td>\n",
       "      <td id=\"T_43cff_row4_col2\" class=\"data row4 col2\" >1.23%</td>\n",
       "    </tr>\n",
       "  </tbody>\n",
       "</table>\n"
      ],
      "text/plain": [
       "<pandas.io.formats.style.Styler at 0x203bf09d870>"
      ]
     },
     "execution_count": 10,
     "metadata": {},
     "output_type": "execute_result"
    }
   ],
   "source": [
    "def format_pct_row(row):\n",
    "    \n",
    "    # log.debug(f\"index:{row.name}\")\n",
    "    \n",
    "    ## Borough to City Check\n",
    "    name        = row.name\n",
    "    ward_val    = float(row.iloc[0].split(\"%\")[0].strip())\n",
    "    borough_val = float(row.iloc[1].split(\"%\")[0].strip())\n",
    "    city_val    = float(row.iloc[2].split(\"%\")[0].strip())\n",
    "    \n",
    "    if (name == \"Very Good\") or (name == \"Good\") or (name == \"Fair\"):\n",
    "        # log.debug(\"Very Good, Good or Fair\")\n",
    "        ## It's more than the city so should be green\n",
    "        if ward_val >= city_val:\n",
    "            log.debug(\"Ward more so Green\")\n",
    "            diff = ward_val - city_val\n",
    "            ward_val_cell_col = \"\"                          if (diff) < 1.0 else \\\n",
    "                                \"background-color: #EAFAF1\" if (diff) < 2.0 else \\\n",
    "                                \"background-color: #D5F5E3\" if (diff) < 3.0 else \\\n",
    "                                \"background-color: #ABEBC6\" if (diff) < 4.0 else \\\n",
    "                                \"background-color: #82E0AA\" if (diff) < 5.0 else \\\n",
    "                                \"background-color: #58D68D\"\n",
    "            \n",
    "        ## It's less than, so should be red\n",
    "        else:\n",
    "            # log.debug(\"Ward less so Red\")\n",
    "            #-ve then red shades\n",
    "            diff = city_val - ward_val\n",
    "            ward_val_cell_col = \"\"                          if (diff) < 1.0 else \\\n",
    "                                \"background-color: #F5EEF8\" if (diff) < 2.0 else \\\n",
    "                                \"background-color: #EBDEF0\" if (diff) < 3.0 else \\\n",
    "                                \"background-color: #D7BDE2\" if (diff) < 4.0 else \\\n",
    "                                \"background-color: #C39BD3\" if (diff) < 5.0 else \\\n",
    "                                \"background-color: #AF7AC5\"\n",
    "           \n",
    "        ## It's more than the city so should be green\n",
    "        if borough_val >= city_val:\n",
    "            log.debug(\"Borough more so Green\")\n",
    "            #+ve then green shades\n",
    "            diff = borough_val - city_val\n",
    "            borough_val_col   = \"\"                          if (diff) < 1.0 else \\\n",
    "                                \"background-color: #EAFAF1\" if (diff) < 2.0 else \\\n",
    "                                \"background-color: #D5F5E3\" if (diff) < 3.0 else \\\n",
    "                                \"background-color: #ABEBC6\" if (diff) < 4.0 else \\\n",
    "                                \"background-color: #82E0AA\" if (diff) < 5.0 else \\\n",
    "                                \"background-color: #58D68D\"\n",
    "            \n",
    "\n",
    "        ## It's less than, so should be red\n",
    "        else:\n",
    "            # log.debug(\"Borough less so Red\")\n",
    "            #-ve then red shades\n",
    "            diff = city_val - borough_val\n",
    "            borough_val_col   = \"\"                          if (diff) < 1.0 else \\\n",
    "                                \"background-color: #F5EEF8\" if (diff) < 2.0 else \\\n",
    "                                \"background-color: #EBDEF0\" if (diff) < 3.0 else \\\n",
    "                                \"background-color: #D7BDE2\" if (diff) < 4.0 else \\\n",
    "                                \"background-color: #C39BD3\" if (diff) < 5.0 else \\\n",
    "                                \"background-color: #AF7AC5\"\n",
    "    \n",
    "    ## It's Bad or Very Bad so opposite to the aboce\n",
    "    else:\n",
    "        # log.debug(\"Bad or Very Bad\")\n",
    "\n",
    "        ## It's more than the city so should be red\n",
    "        if ward_val >= city_val:\n",
    "            # log.debug(\"Ward more so Red\")\n",
    "            #-ve then red shades\n",
    "            diff = ward_val - city_val\n",
    "            ward_val_cell_col = \"\"                          if (diff) < 1.0 else \\\n",
    "                                \"background-color: #F5EEF8\" if (diff) < 2.0 else \\\n",
    "                                \"background-color: #EBDEF0\" if (diff) < 3.0 else \\\n",
    "                                \"background-color: #D7BDE2\" if (diff) < 4.0 else \\\n",
    "                                \"background-color: #C39BD3\" if (diff) < 5.0 else \\\n",
    "                                \"background-color: #AF7AC5\"\n",
    "            \n",
    "        ## It's less than, so should be green\n",
    "        else:\n",
    "            # log.debug(\"Ward less so Green\")\n",
    "            diff = city_val - ward_val\n",
    "            ward_val_cell_col = \"\"                          if (diff) < 1.0 else \\\n",
    "                                \"background-color: #EAFAF1\" if (diff) < 2.0 else \\\n",
    "                                \"background-color: #D5F5E3\" if (diff) < 3.0 else \\\n",
    "                                \"background-color: #ABEBC6\" if (diff) < 4.0 else \\\n",
    "                                \"background-color: #82E0AA\" if (diff) < 5.0 else \\\n",
    "                                \"background-color: #58D68D\"\n",
    "           \n",
    "        ## It's more than the city so should be red\n",
    "        if borough_val >= city_val:\n",
    "            # log.debug(\"Borough more so Red\")\n",
    "            #-ve then red shades\n",
    "            diff = borough_val - city_val\n",
    "            borough_val_col   = \"\"                          if (diff) < 1.0 else \\\n",
    "                                \"background-color: #F5EEF8\" if (diff) < 2.0 else \\\n",
    "                                \"background-color: #EBDEF0\" if (diff) < 3.0 else \\\n",
    "                                \"background-color: #D7BDE2\" if (diff) < 4.0 else \\\n",
    "                                \"background-color: #C39BD3\" if (diff) < 5.0 else \\\n",
    "                                \"background-color: #AF7AC5\"\n",
    "            \n",
    "\n",
    "        ## It's less than, so should be green\n",
    "        else:\n",
    "            # log.debug(\"Borough less so Green\")\n",
    "            #+ve then green shades\n",
    "            diff = city_val - borough_val\n",
    "            borough_val_col   = \"\"                          if (diff) < 1.0 else \\\n",
    "                                \"background-color: #EAFAF1\" if (diff) < 2.0 else \\\n",
    "                                \"background-color: #D5F5E3\" if (diff) < 3.0 else \\\n",
    "                                \"background-color: #ABEBC6\" if (diff) < 4.0 else \\\n",
    "                                \"background-color: #82E0AA\" if (diff) < 5.0 else \\\n",
    "                                \"background-color: #58D68D\"\n",
    "        \n",
    "\n",
    "    return [ward_val_cell_col] + [borough_val_col] + [\"\"]\n",
    "\n",
    "\n",
    "from IPython.display import HTML\n",
    "styles = [\n",
    "  dict(selector=\"tr\", props=[(\"font-size\", \"110%\"),\n",
    "                             (\"text-align\", \"right\")])\n",
    "]\n",
    "\n",
    "health_ward_borough_city_pct_name_merged_df_html = (health_ward_borough_city_pct_name_merged_df.style.set_table_styles(styles).apply(format_pct_row, axis=1))\n",
    "health_ward_borough_city_pct_name_merged_df_html"
   ]
  },
  {
   "cell_type": "markdown",
   "id": "d3bf83a5-271f-45b6-877f-de383c93f757",
   "metadata": {},
   "source": [
    "## TEST DATA"
   ]
  },
  {
   "cell_type": "code",
   "execution_count": 11,
   "id": "33363372-ed2e-4211-96df-33938a19cbcf",
   "metadata": {},
   "outputs": [
    {
     "data": {
      "text/html": [
       "<style type=\"text/css\">\n",
       "#T_52cca tr {\n",
       "  font-size: 110%;\n",
       "  text-align: right;\n",
       "}\n",
       "#T_52cca_row0_col0 {\n",
       "  background-color: #EBDEF0;\n",
       "}\n",
       "#T_52cca_row0_col1, #T_52cca_row3_col0 {\n",
       "  background-color: #F5EEF8;\n",
       "}\n",
       "#T_52cca_row1_col0 {\n",
       "  background-color: #C39BD3;\n",
       "}\n",
       "#T_52cca_row1_col1 {\n",
       "  background-color: #D7BDE2;\n",
       "}\n",
       "#T_52cca_row2_col0, #T_52cca_row2_col1 {\n",
       "  background-color: #AF7AC5;\n",
       "}\n",
       "</style>\n",
       "<table id=\"T_52cca\">\n",
       "  <thead>\n",
       "    <tr>\n",
       "      <th class=\"blank level0\" >&nbsp;</th>\n",
       "      <th id=\"T_52cca_level0_col0\" class=\"col_heading level0 col0\" >Holloway</th>\n",
       "      <th id=\"T_52cca_level0_col1\" class=\"col_heading level0 col1\" >Islington</th>\n",
       "      <th id=\"T_52cca_level0_col2\" class=\"col_heading level0 col2\" >London</th>\n",
       "    </tr>\n",
       "  </thead>\n",
       "  <tbody>\n",
       "    <tr>\n",
       "      <th id=\"T_52cca_level0_row0\" class=\"row_heading level0 row0\" >Very Good</th>\n",
       "      <td id=\"T_52cca_row0_col0\" class=\"data row0 col0\" >8%</td>\n",
       "      <td id=\"T_52cca_row0_col1\" class=\"data row0 col1\" >9%</td>\n",
       "      <td id=\"T_52cca_row0_col2\" class=\"data row0 col2\" >10%</td>\n",
       "    </tr>\n",
       "    <tr>\n",
       "      <th id=\"T_52cca_level0_row1\" class=\"row_heading level0 row1\" >Good</th>\n",
       "      <td id=\"T_52cca_row1_col0\" class=\"data row1 col0\" >6%</td>\n",
       "      <td id=\"T_52cca_row1_col1\" class=\"data row1 col1\" >7%</td>\n",
       "      <td id=\"T_52cca_row1_col2\" class=\"data row1 col2\" >10%</td>\n",
       "    </tr>\n",
       "    <tr>\n",
       "      <th id=\"T_52cca_level0_row2\" class=\"row_heading level0 row2\" >Fair</th>\n",
       "      <td id=\"T_52cca_row2_col0\" class=\"data row2 col0\" >4%</td>\n",
       "      <td id=\"T_52cca_row2_col1\" class=\"data row2 col1\" >5%</td>\n",
       "      <td id=\"T_52cca_row2_col2\" class=\"data row2 col2\" >10%</td>\n",
       "    </tr>\n",
       "    <tr>\n",
       "      <th id=\"T_52cca_level0_row3\" class=\"row_heading level0 row3\" >Bad</th>\n",
       "      <td id=\"T_52cca_row3_col0\" class=\"data row3 col0\" >4.82%</td>\n",
       "      <td id=\"T_52cca_row3_col1\" class=\"data row3 col1\" >4.74%</td>\n",
       "      <td id=\"T_52cca_row3_col2\" class=\"data row3 col2\" >3.77%</td>\n",
       "    </tr>\n",
       "    <tr>\n",
       "      <th id=\"T_52cca_level0_row4\" class=\"row_heading level0 row4\" >Very Bad</th>\n",
       "      <td id=\"T_52cca_row4_col0\" class=\"data row4 col0\" >1.85%</td>\n",
       "      <td id=\"T_52cca_row4_col1\" class=\"data row4 col1\" >1.68%</td>\n",
       "      <td id=\"T_52cca_row4_col2\" class=\"data row4 col2\" >1.23%</td>\n",
       "    </tr>\n",
       "  </tbody>\n",
       "</table>\n"
      ],
      "text/plain": [
       "<pandas.io.formats.style.Styler at 0x203bf09fb50>"
      ]
     },
     "execution_count": 11,
     "metadata": {},
     "output_type": "execute_result"
    }
   ],
   "source": [
    "health_ward_borough_city_pct_name_merged_df.at[\"Very Good\", \"Holloway\"] = \"8%\"\n",
    "health_ward_borough_city_pct_name_merged_df.at[\"Very Good\", \"Islington\"] = \"9%\"\n",
    "health_ward_borough_city_pct_name_merged_df.at[\"Very Good\", \"London\"] = \"10%\"\n",
    "\n",
    "health_ward_borough_city_pct_name_merged_df.at[\"Good\", \"Holloway\"] = \"6%\"\n",
    "health_ward_borough_city_pct_name_merged_df.at[\"Good\", \"Islington\"] = \"7%\"\n",
    "health_ward_borough_city_pct_name_merged_df.at[\"Good\", \"London\"] = \"10%\"\n",
    "\n",
    "health_ward_borough_city_pct_name_merged_df.at[\"Fair\", \"Holloway\"] = \"4%\"\n",
    "health_ward_borough_city_pct_name_merged_df.at[\"Fair\", \"Islington\"] = \"5%\"\n",
    "health_ward_borough_city_pct_name_merged_df.at[\"Fair\", \"London\"] = \"10%\"\n",
    "\n",
    "health_ward_borough_city_pct_name_merged_df_html = (health_ward_borough_city_pct_name_merged_df.style.set_table_styles(styles).apply(format_pct_row, axis=1))\n",
    "health_ward_borough_city_pct_name_merged_df_html"
   ]
  },
  {
   "cell_type": "code",
   "execution_count": 12,
   "id": "df9f9907-0fe2-486c-bd37-be1dafe1c300",
   "metadata": {},
   "outputs": [
    {
     "name": "stdout",
     "output_type": "stream",
     "text": [
      "2022-08-24 12:38:53,922 [DEBUG] __main__: \n",
      "The table below shows the percentage levels of general health (Very Good - Very Bad) in Holloway, Islington and London in the year 2021. Value shading indicates a difference from the city level from 1 to 5 percent in 1 percent intervals. The shade darkens with an increase in difference. Increases and decreases use different colours for clarity. Increases in Fair to Very Good are coloured the same as decreases in Bad and Very Bad.\n"
     ]
    }
   ],
   "source": [
    "health_narrative_02 = f\"The table below shows the percentage levels of general health (Very Good - Very Bad) in {ward_name}, {borough} and {city} in the year {health_year_to}\" + \\\n",
    "\". Value shading indicates a difference from the city level from 1 to 5 percent in 1 percent intervals.\" + \\\n",
    "\" The shade darkens with an increase in difference. Increases and decreases use different colours for clarity. Increases in Fair to Very Good are coloured the same as \" + \\\n",
    "\"decreases in Bad and Very Bad.\"\n",
    "\n",
    "log.debug(f\"\\n{health_narrative_02}\")"
   ]
  },
  {
   "cell_type": "code",
   "execution_count": 13,
   "id": "c68ba537-26c9-4cf7-830a-5468fab6fd1b",
   "metadata": {
    "tags": []
   },
   "outputs": [
    {
     "data": {
      "text/html": [
       "<style type=\"text/css\">\n",
       "#T_52cca tr {\n",
       "  font-size: 110%;\n",
       "  text-align: right;\n",
       "}\n",
       "#T_52cca_row0_col0 {\n",
       "  background-color: #EBDEF0;\n",
       "}\n",
       "#T_52cca_row0_col1, #T_52cca_row3_col0 {\n",
       "  background-color: #F5EEF8;\n",
       "}\n",
       "#T_52cca_row1_col0 {\n",
       "  background-color: #C39BD3;\n",
       "}\n",
       "#T_52cca_row1_col1 {\n",
       "  background-color: #D7BDE2;\n",
       "}\n",
       "#T_52cca_row2_col0, #T_52cca_row2_col1 {\n",
       "  background-color: #AF7AC5;\n",
       "}\n",
       "</style>\n",
       "<table id=\"T_52cca\">\n",
       "  <thead>\n",
       "    <tr>\n",
       "      <th class=\"blank level0\" >&nbsp;</th>\n",
       "      <th id=\"T_52cca_level0_col0\" class=\"col_heading level0 col0\" >Holloway</th>\n",
       "      <th id=\"T_52cca_level0_col1\" class=\"col_heading level0 col1\" >Islington</th>\n",
       "      <th id=\"T_52cca_level0_col2\" class=\"col_heading level0 col2\" >London</th>\n",
       "    </tr>\n",
       "  </thead>\n",
       "  <tbody>\n",
       "    <tr>\n",
       "      <th id=\"T_52cca_level0_row0\" class=\"row_heading level0 row0\" >Very Good</th>\n",
       "      <td id=\"T_52cca_row0_col0\" class=\"data row0 col0\" >8%</td>\n",
       "      <td id=\"T_52cca_row0_col1\" class=\"data row0 col1\" >9%</td>\n",
       "      <td id=\"T_52cca_row0_col2\" class=\"data row0 col2\" >10%</td>\n",
       "    </tr>\n",
       "    <tr>\n",
       "      <th id=\"T_52cca_level0_row1\" class=\"row_heading level0 row1\" >Good</th>\n",
       "      <td id=\"T_52cca_row1_col0\" class=\"data row1 col0\" >6%</td>\n",
       "      <td id=\"T_52cca_row1_col1\" class=\"data row1 col1\" >7%</td>\n",
       "      <td id=\"T_52cca_row1_col2\" class=\"data row1 col2\" >10%</td>\n",
       "    </tr>\n",
       "    <tr>\n",
       "      <th id=\"T_52cca_level0_row2\" class=\"row_heading level0 row2\" >Fair</th>\n",
       "      <td id=\"T_52cca_row2_col0\" class=\"data row2 col0\" >4%</td>\n",
       "      <td id=\"T_52cca_row2_col1\" class=\"data row2 col1\" >5%</td>\n",
       "      <td id=\"T_52cca_row2_col2\" class=\"data row2 col2\" >10%</td>\n",
       "    </tr>\n",
       "    <tr>\n",
       "      <th id=\"T_52cca_level0_row3\" class=\"row_heading level0 row3\" >Bad</th>\n",
       "      <td id=\"T_52cca_row3_col0\" class=\"data row3 col0\" >4.82%</td>\n",
       "      <td id=\"T_52cca_row3_col1\" class=\"data row3 col1\" >4.74%</td>\n",
       "      <td id=\"T_52cca_row3_col2\" class=\"data row3 col2\" >3.77%</td>\n",
       "    </tr>\n",
       "    <tr>\n",
       "      <th id=\"T_52cca_level0_row4\" class=\"row_heading level0 row4\" >Very Bad</th>\n",
       "      <td id=\"T_52cca_row4_col0\" class=\"data row4 col0\" >1.85%</td>\n",
       "      <td id=\"T_52cca_row4_col1\" class=\"data row4 col1\" >1.68%</td>\n",
       "      <td id=\"T_52cca_row4_col2\" class=\"data row4 col2\" >1.23%</td>\n",
       "    </tr>\n",
       "  </tbody>\n",
       "</table>\n"
      ],
      "text/plain": [
       "<pandas.io.formats.style.Styler at 0x203bf09fb50>"
      ]
     },
     "execution_count": 13,
     "metadata": {},
     "output_type": "execute_result"
    }
   ],
   "source": [
    "health_ward_borough_city_pct_name_merged_df_html"
   ]
  },
  {
   "cell_type": "code",
   "execution_count": 14,
   "id": "99bee941-9923-4b1e-9d2e-9798c83795f4",
   "metadata": {},
   "outputs": [],
   "source": [
    "health_by_borough_year_df\n",
    "health_by_borough_year_df_bar = health_by_borough_year_df[[\"LAD_NAME\", \"Very Good\", \"Good\", \"Fair\", \"Bad\", \"Very Bad\"]]\n",
    "health_by_borough_year_df_bar = health_by_borough_year_df_bar.set_index(\"LAD_NAME\")\n",
    "health_by_borough_year_df_bar.index.name = \"Borough\"\n",
    "# health_by_borough_year_df_bar"
   ]
  },
  {
   "cell_type": "markdown",
   "id": "449e5b58-8d1d-4c51-90d7-638981812812",
   "metadata": {},
   "source": [
    "# REPORT PAGE"
   ]
  },
  {
   "cell_type": "code",
   "execution_count": 15,
   "id": "06af4367-2e68-4cb8-bd50-e567b7d933db",
   "metadata": {},
   "outputs": [
    {
     "name": "stdout",
     "output_type": "stream",
     "text": [
      "Using the latest general health data from 2021 which is in your search range of 2011 to 2021. The table below ranks general health in Holloway, Islington and London. The ranking is highest to lowest percentage from top to bottom. Where there is a difference in general health the cell is shaded, a darker shade denotes a difference between borough and ward. Values in [] give the percentage value.\n"
     ]
    }
   ],
   "source": [
    "print(health_narrative_01)"
   ]
  },
  {
   "cell_type": "code",
   "execution_count": 16,
   "id": "058c75e8-7cf8-4316-9438-80a6ccb58db5",
   "metadata": {},
   "outputs": [
    {
     "data": {
      "text/html": [
       "<style type=\"text/css\">\n",
       "#T_accdd tr {\n",
       "  font-size: 110%;\n",
       "  text-align: right;\n",
       "}\n",
       "</style>\n",
       "<table id=\"T_accdd\">\n",
       "  <thead>\n",
       "    <tr>\n",
       "      <th class=\"blank level0\" >&nbsp;</th>\n",
       "      <th id=\"T_accdd_level0_col0\" class=\"col_heading level0 col0\" >Holloway</th>\n",
       "      <th id=\"T_accdd_level0_col1\" class=\"col_heading level0 col1\" >Islington</th>\n",
       "      <th id=\"T_accdd_level0_col2\" class=\"col_heading level0 col2\" >London</th>\n",
       "    </tr>\n",
       "  </thead>\n",
       "  <tbody>\n",
       "    <tr>\n",
       "      <th id=\"T_accdd_level0_row0\" class=\"row_heading level0 row0\" >1</th>\n",
       "      <td id=\"T_accdd_row0_col0\" class=\"data row0 col0\" >Very Good - [50.55%]</td>\n",
       "      <td id=\"T_accdd_row0_col1\" class=\"data row0 col1\" >Very Good - [51.63%]</td>\n",
       "      <td id=\"T_accdd_row0_col2\" class=\"data row0 col2\" >Very Good - [50.56%]</td>\n",
       "    </tr>\n",
       "    <tr>\n",
       "      <th id=\"T_accdd_level0_row1\" class=\"row_heading level0 row1\" >2</th>\n",
       "      <td id=\"T_accdd_row1_col0\" class=\"data row1 col0\" >Good - [31.12%]</td>\n",
       "      <td id=\"T_accdd_row1_col1\" class=\"data row1 col1\" >Good - [30.75%]</td>\n",
       "      <td id=\"T_accdd_row1_col2\" class=\"data row1 col2\" >Good - [33.22%]</td>\n",
       "    </tr>\n",
       "    <tr>\n",
       "      <th id=\"T_accdd_level0_row2\" class=\"row_heading level0 row2\" >3</th>\n",
       "      <td id=\"T_accdd_row2_col0\" class=\"data row2 col0\" >Fair - [11.67%]</td>\n",
       "      <td id=\"T_accdd_row2_col1\" class=\"data row2 col1\" >Fair - [11.20%]</td>\n",
       "      <td id=\"T_accdd_row2_col2\" class=\"data row2 col2\" >Fair - [11.23%]</td>\n",
       "    </tr>\n",
       "    <tr>\n",
       "      <th id=\"T_accdd_level0_row3\" class=\"row_heading level0 row3\" >4</th>\n",
       "      <td id=\"T_accdd_row3_col0\" class=\"data row3 col0\" >Bad - [4.82%]</td>\n",
       "      <td id=\"T_accdd_row3_col1\" class=\"data row3 col1\" >Bad - [4.74%]</td>\n",
       "      <td id=\"T_accdd_row3_col2\" class=\"data row3 col2\" >Bad - [3.77%]</td>\n",
       "    </tr>\n",
       "    <tr>\n",
       "      <th id=\"T_accdd_level0_row4\" class=\"row_heading level0 row4\" >5</th>\n",
       "      <td id=\"T_accdd_row4_col0\" class=\"data row4 col0\" >Very Bad - [1.85%]</td>\n",
       "      <td id=\"T_accdd_row4_col1\" class=\"data row4 col1\" >Very Bad - [1.68%]</td>\n",
       "      <td id=\"T_accdd_row4_col2\" class=\"data row4 col2\" >Very Bad - [1.23%]</td>\n",
       "    </tr>\n",
       "  </tbody>\n",
       "</table>\n"
      ],
      "text/plain": [
       "<pandas.io.formats.style.Styler at 0x203bf5c8d00>"
      ]
     },
     "execution_count": 16,
     "metadata": {},
     "output_type": "execute_result"
    }
   ],
   "source": [
    "health_ward_borough_city_pct_ranked_merged_df_html"
   ]
  },
  {
   "cell_type": "code",
   "execution_count": 17,
   "id": "02b11d6c-682c-486a-8592-c3177f11d8fc",
   "metadata": {},
   "outputs": [
    {
     "name": "stdout",
     "output_type": "stream",
     "text": [
      "The table below shows the percentage levels of general health (Very Good - Very Bad) in Holloway, Islington and London in the year 2021. Value shading indicates a difference from the city level from 1 to 5 percent in 1 percent intervals. The shade darkens with an increase in difference. Increases and decreases use different colours for clarity. Increases in Fair to Very Good are coloured the same as decreases in Bad and Very Bad.\n"
     ]
    }
   ],
   "source": [
    "print(health_narrative_02)"
   ]
  },
  {
   "cell_type": "code",
   "execution_count": 18,
   "id": "1e732050-1f6b-4d21-a462-d9fa1d41b51c",
   "metadata": {},
   "outputs": [
    {
     "data": {
      "text/html": [
       "<style type=\"text/css\">\n",
       "#T_52cca tr {\n",
       "  font-size: 110%;\n",
       "  text-align: right;\n",
       "}\n",
       "#T_52cca_row0_col0 {\n",
       "  background-color: #EBDEF0;\n",
       "}\n",
       "#T_52cca_row0_col1, #T_52cca_row3_col0 {\n",
       "  background-color: #F5EEF8;\n",
       "}\n",
       "#T_52cca_row1_col0 {\n",
       "  background-color: #C39BD3;\n",
       "}\n",
       "#T_52cca_row1_col1 {\n",
       "  background-color: #D7BDE2;\n",
       "}\n",
       "#T_52cca_row2_col0, #T_52cca_row2_col1 {\n",
       "  background-color: #AF7AC5;\n",
       "}\n",
       "</style>\n",
       "<table id=\"T_52cca\">\n",
       "  <thead>\n",
       "    <tr>\n",
       "      <th class=\"blank level0\" >&nbsp;</th>\n",
       "      <th id=\"T_52cca_level0_col0\" class=\"col_heading level0 col0\" >Holloway</th>\n",
       "      <th id=\"T_52cca_level0_col1\" class=\"col_heading level0 col1\" >Islington</th>\n",
       "      <th id=\"T_52cca_level0_col2\" class=\"col_heading level0 col2\" >London</th>\n",
       "    </tr>\n",
       "  </thead>\n",
       "  <tbody>\n",
       "    <tr>\n",
       "      <th id=\"T_52cca_level0_row0\" class=\"row_heading level0 row0\" >Very Good</th>\n",
       "      <td id=\"T_52cca_row0_col0\" class=\"data row0 col0\" >8%</td>\n",
       "      <td id=\"T_52cca_row0_col1\" class=\"data row0 col1\" >9%</td>\n",
       "      <td id=\"T_52cca_row0_col2\" class=\"data row0 col2\" >10%</td>\n",
       "    </tr>\n",
       "    <tr>\n",
       "      <th id=\"T_52cca_level0_row1\" class=\"row_heading level0 row1\" >Good</th>\n",
       "      <td id=\"T_52cca_row1_col0\" class=\"data row1 col0\" >6%</td>\n",
       "      <td id=\"T_52cca_row1_col1\" class=\"data row1 col1\" >7%</td>\n",
       "      <td id=\"T_52cca_row1_col2\" class=\"data row1 col2\" >10%</td>\n",
       "    </tr>\n",
       "    <tr>\n",
       "      <th id=\"T_52cca_level0_row2\" class=\"row_heading level0 row2\" >Fair</th>\n",
       "      <td id=\"T_52cca_row2_col0\" class=\"data row2 col0\" >4%</td>\n",
       "      <td id=\"T_52cca_row2_col1\" class=\"data row2 col1\" >5%</td>\n",
       "      <td id=\"T_52cca_row2_col2\" class=\"data row2 col2\" >10%</td>\n",
       "    </tr>\n",
       "    <tr>\n",
       "      <th id=\"T_52cca_level0_row3\" class=\"row_heading level0 row3\" >Bad</th>\n",
       "      <td id=\"T_52cca_row3_col0\" class=\"data row3 col0\" >4.82%</td>\n",
       "      <td id=\"T_52cca_row3_col1\" class=\"data row3 col1\" >4.74%</td>\n",
       "      <td id=\"T_52cca_row3_col2\" class=\"data row3 col2\" >3.77%</td>\n",
       "    </tr>\n",
       "    <tr>\n",
       "      <th id=\"T_52cca_level0_row4\" class=\"row_heading level0 row4\" >Very Bad</th>\n",
       "      <td id=\"T_52cca_row4_col0\" class=\"data row4 col0\" >1.85%</td>\n",
       "      <td id=\"T_52cca_row4_col1\" class=\"data row4 col1\" >1.68%</td>\n",
       "      <td id=\"T_52cca_row4_col2\" class=\"data row4 col2\" >1.23%</td>\n",
       "    </tr>\n",
       "  </tbody>\n",
       "</table>\n"
      ],
      "text/plain": [
       "<pandas.io.formats.style.Styler at 0x203bf09fb50>"
      ]
     },
     "execution_count": 18,
     "metadata": {},
     "output_type": "execute_result"
    }
   ],
   "source": [
    "health_ward_borough_city_pct_name_merged_df_html"
   ]
  },
  {
   "cell_type": "markdown",
   "id": "bc53ec73-c9b1-4bb3-ae58-a8ba534d0100",
   "metadata": {},
   "source": [
    "# REPORT GENERATION"
   ]
  },
  {
   "cell_type": "markdown",
   "id": "29d81db3-4c3e-4c2f-b410-88e1127f32a7",
   "metadata": {},
   "source": [
    "## ARTEFACTS"
   ]
  },
  {
   "cell_type": "code",
   "execution_count": 8,
   "id": "926d513b-1e2e-4b53-876b-f5fb016b2a72",
   "metadata": {},
   "outputs": [
    {
     "name": "stdout",
     "output_type": "stream",
     "text": [
      "The autoreload extension is already loaded. To reload it, use:\n",
      "  %reload_ext autoreload\n",
      "2022-08-26 11:38:23,120 [INFO] lib.db_tools: DATABASE CONNECTIVITY\n",
      "2022-08-26 11:38:23,121 [DEBUG] root: Retrieving general health min max year\n",
      "2022-08-26 11:38:23,162 [DEBUG] managers.sections.sd_report_section_04_General_Health: health orig_year_to    :2021\n",
      "2022-08-26 11:38:23,163 [DEBUG] managers.sections.sd_report_section_04_General_Health: health search_year_to  :2021\n",
      "2022-08-26 11:38:23,164 [DEBUG] root: general_health_ratio_average_years\n"
     ]
    },
    {
     "name": "stderr",
     "output_type": "stream",
     "text": [
      "C:\\DISTRIBUTIONS\\Python\\Python3_10_2\\lib\\site-packages\\pandas\\io\\sql.py:761: UserWarning: pandas only support SQLAlchemy connectable(engine/connection) ordatabase string URI or sqlite3 DBAPI2 connectionother DBAPI2 objects are not tested, please consider using SQLAlchemy\n",
      "  warnings.warn(\n",
      "C:\\DISTRIBUTIONS\\Python\\Python3_10_2\\lib\\site-packages\\pandas\\io\\sql.py:761: UserWarning: pandas only support SQLAlchemy connectable(engine/connection) ordatabase string URI or sqlite3 DBAPI2 connectionother DBAPI2 objects are not tested, please consider using SQLAlchemy\n",
      "  warnings.warn(\n"
     ]
    },
    {
     "name": "stdout",
     "output_type": "stream",
     "text": [
      "2022-08-26 11:38:23,884 [DEBUG] root: genearl_health_ratio_by_borough_years\n"
     ]
    },
    {
     "name": "stderr",
     "output_type": "stream",
     "text": [
      "C:\\DISTRIBUTIONS\\Python\\Python3_10_2\\lib\\site-packages\\pandas\\io\\sql.py:761: UserWarning: pandas only support SQLAlchemy connectable(engine/connection) ordatabase string URI or sqlite3 DBAPI2 connectionother DBAPI2 objects are not tested, please consider using SQLAlchemy\n",
      "  warnings.warn(\n"
     ]
    },
    {
     "name": "stdout",
     "output_type": "stream",
     "text": [
      "2022-08-26 11:38:24,865 [DEBUG] root: general_health_ratio_by_borough_ward_years\n"
     ]
    },
    {
     "name": "stderr",
     "output_type": "stream",
     "text": [
      "C:\\DISTRIBUTIONS\\Python\\Python3_10_2\\lib\\site-packages\\pandas\\io\\sql.py:761: UserWarning: pandas only support SQLAlchemy connectable(engine/connection) ordatabase string URI or sqlite3 DBAPI2 connectionother DBAPI2 objects are not tested, please consider using SQLAlchemy\n",
      "  warnings.warn(\n"
     ]
    },
    {
     "name": "stdout",
     "output_type": "stream",
     "text": [
      "2022-08-26 11:38:31,890 [DEBUG] managers.sections.sd_report_section_04_General_Health: Borough more so Green\n",
      "2022-08-26 11:38:31,891 [DEBUG] managers.sections.sd_report_section_04_General_Health: Ward more so Green\n",
      "2022-08-26 11:38:31,923 [DEBUG] managers.sections.sd_report_section_04_General_Health: {'health_narrative_01': 'Using the latest general health data from 2021 which is in your search range of 2011 to 2021. The table {} ranks general health in Holloway, Islington and London. The ranking is highest to lowest percentage from top to bottom. Where there is a difference in general health the cell is shaded, a darker shade denotes a difference between borough and ward. Values in [] give the percentage value.', 'health_ranking_table':                Holloway             Islington                London\n",
      "1  Very Good - [50.55%]  Very Good - [51.63%]  Very Good - [50.56%]\n",
      "2       Good - [31.12%]       Good - [30.75%]       Good - [33.22%]\n",
      "3       Fair - [11.67%]       Fair - [11.20%]       Fair - [11.23%]\n",
      "4         Bad - [4.82%]         Bad - [4.74%]         Bad - [3.77%]\n",
      "5    Very Bad - [1.85%]    Very Bad - [1.68%]    Very Bad - [1.23%], 'health_ranking_table_shading': [['', '', ''], ['', '', ''], ['', '', ''], ['', '', ''], ['', '', '']], 'health_comparison_table':                Level Holloway Islington  London\n",
      "Very Good  Very Good   50.55%    51.63%  50.56%\n",
      "Good            Good   31.12%    30.75%  33.22%\n",
      "Fair            Fair   11.67%    11.20%  11.23%\n",
      "Bad              Bad    4.82%     4.74%   3.77%\n",
      "Very Bad    Very Bad    1.85%     1.68%   1.23%, 'health_comparison_table_shading': [['', '', '#EAFAF1', ''], ['', '', '', ''], ['', '', '', ''], ['', '', '', ''], ['', '', '', '']], 'health_narrative_02': 'The table {} shows the percentage levels of general health (Very Good - Very Bad) in Holloway, Islington and London in the year 2021. Value shading indicates a difference from the city level from 1 to 5 percent in 1 percent intervals. The shade darkens with an increase in difference. Increases and decreases use different colours for clarity. Increases in Fair to Very Good are coloured the same as decreases in Bad and Very Bad.'}\n"
     ]
    }
   ],
   "source": [
    "### Set up\n",
    "%load_ext autoreload\n",
    "\n",
    "%autoreload 3\n",
    "from data.daos import dao_facade_local as dao_fac\n",
    "from lib import masters_data_analytics_lib as mlib\n",
    "from managers.sections import sd_report_section_04_General_Health as report_section_health\n",
    "\n",
    "session_id = \"SECTION_TEST_04_GENEARL_HEALTH\"\n",
    "report_context = {}\n",
    "search_term = {\n",
    "    \"city\"      : city\n",
    "  , \"borough\"   : borough\n",
    "  , \"ward_name\" : ward_name\n",
    "  , \"year_to\"   : year_to\n",
    "  , \"year_from\" : year_from\n",
    "}\n",
    "\n",
    "report_section_health.generate_report_section(session_id     = session_id\n",
    "                                            , search_term    = search_term\n",
    "                                            , report_context = report_context\n",
    "                                            , properties     = properties \n",
    "                                            , dao_fac        = dao_fac)  \n",
    "\n",
    "log.debug(report_context)"
   ]
  },
  {
   "cell_type": "markdown",
   "id": "ab17fcf4-d6ca-4424-860f-7901b7ada6bd",
   "metadata": {},
   "source": [
    "## REPORT"
   ]
  },
  {
   "cell_type": "code",
   "execution_count": 13,
   "id": "1bedd7ec-c3ea-4e1d-81c2-b65b2235a613",
   "metadata": {},
   "outputs": [
    {
     "name": "stdout",
     "output_type": "stream",
     "text": [
      "The autoreload extension is already loaded. To reload it, use:\n",
      "  %reload_ext autoreload\n",
      "2022-08-26 11:51:51,567 [DEBUG] managers.sections.sd_report_section_04_General_Health: Started\n",
      "2022-08-26 11:51:51,580 [DEBUG] managers.sd_report_manager_new: text_alignment:justify\n",
      "2022-08-26 11:51:51,626 [WARNING] managers.sd_report_manager_new: Not a Command\n",
      "2022-08-26 11:51:51,628 [WARNING] managers.sd_report_manager_new: Not a Command\n",
      "2022-08-26 11:51:51,659 [DEBUG] managers.sd_report_manager_new: text_alignment:justify\n",
      "2022-08-26 11:51:51,660 [WARNING] managers.sd_report_manager_new: Not a Command\n",
      "2022-08-26 11:51:51,695 [WARNING] managers.sd_report_manager_new: Not a Command\n",
      "2022-08-26 11:51:51,696 [WARNING] managers.sd_report_manager_new: Not a Command\n",
      "2022-08-26 11:51:51,728 [DEBUG] managers.sections.sd_report_section_04_General_Health: Finished\n"
     ]
    }
   ],
   "source": [
    "%load_ext autoreload\n",
    "\n",
    "%autoreload 3\n",
    "\n",
    "from managers import sd_report_manager_new as report_man\n",
    "\n",
    "report_context_new = {\"template_processor_file_name\":\"./reports/processors/sd_test_generation_04_general_health.json\",\n",
    "                      \"report_option\":1} \n",
    "\n",
    "report_context.update(report_context_new)\n",
    "\n",
    "log.debug(\"Started\")\n",
    "generated_report = report_man.generate_report(session_id\n",
    "                                            , report_context = report_context\n",
    "                                            , properties = properties)\n",
    "log.debug(\"Finished\")"
   ]
  }
 ],
 "metadata": {
  "kernelspec": {
   "display_name": "Python 3 (ipykernel)",
   "language": "python",
   "name": "python3"
  },
  "language_info": {
   "codemirror_mode": {
    "name": "ipython",
    "version": 3
   },
   "file_extension": ".py",
   "mimetype": "text/x-python",
   "name": "python",
   "nbconvert_exporter": "python",
   "pygments_lexer": "ipython3",
   "version": "3.10.2"
  }
 },
 "nbformat": 4,
 "nbformat_minor": 5
}
